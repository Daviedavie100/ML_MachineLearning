{
 "cells": [
  {
   "cell_type": "code",
   "execution_count": null,
   "id": "9d96f10f-64cd-492c-a57b-1a5b1e2bc130",
   "metadata": {},
   "outputs": [],
   "source": []
  }
 ],
 "metadata": {
  "kernelspec": {
   "display_name": "",
   "name": ""
  },
  "language_info": {
   "name": ""
  }
 },
 "nbformat": 4,
 "nbformat_minor": 5
}
