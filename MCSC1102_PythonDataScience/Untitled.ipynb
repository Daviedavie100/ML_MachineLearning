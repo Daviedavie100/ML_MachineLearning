{
 "cells": [
  {
   "cell_type": "markdown",
   "id": "9eeec30c-6334-4fc2-b273-f7a6866f7e7f",
   "metadata": {},
   "source": [
    "ACTIVITY II: FUNCTIONS\n",
    "Write a function that solves quadratic equations using the quadratic formula: It should take as arguments three numbers a, b, and c. It should print error messages if a is zero, or if the roots are complex. Otherwise it should print the two roots.\n",
    "\n",
    "(b) Modify your function  to handle the case of complex roots.\n",
    "\n",
    "c) show how exceptions can handled using this example "
   ]
  },
  {
   "cell_type": "code",
   "execution_count": null,
   "id": "a556d8dc-721b-4ef1-95fd-120d38aa6b3c",
   "metadata": {},
   "outputs": [],
   "source": []
  },
  {
   "cell_type": "code",
   "execution_count": null,
   "id": "45215325-39d6-418b-b168-6d2f84db30aa",
   "metadata": {},
   "outputs": [],
   "source": []
  },
  {
   "cell_type": "code",
   "execution_count": null,
   "id": "1f9ad6ea-c520-45e0-a160-7c91410d193a",
   "metadata": {},
   "outputs": [],
   "source": []
  }
 ],
 "metadata": {
  "kernelspec": {
   "display_name": "Python (ml_master_env)",
   "language": "python",
   "name": "ml_master_env"
  },
  "language_info": {
   "codemirror_mode": {
    "name": "ipython",
    "version": 3
   },
   "file_extension": ".py",
   "mimetype": "text/x-python",
   "name": "python",
   "nbconvert_exporter": "python",
   "pygments_lexer": "ipython3",
   "version": "3.12.7"
  }
 },
 "nbformat": 4,
 "nbformat_minor": 5
}
