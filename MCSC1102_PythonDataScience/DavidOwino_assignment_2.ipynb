{
 "cells": [
  {
   "cell_type": "markdown",
   "id": "45f3edf3-1de5-46c7-83a9-64acbb46acc8",
   "metadata": {},
   "source": [
    "# ASSIGNMENT 2\n",
    "\n",
    "The purpose of this exercise is to understand conditionals. Tiberius is looking for his dream job, but has some restrictions. He loves California and would take a job there if it is paid over 40,000 USD a year. He hates Massachusetts and demands at least 100,000 USD to work there. Any other place he’s content to work for 60,000 USD a year, unless he can work in space in which case he would work for free. Write a python script to show his basic strategy for evaluating job offer: use\n",
    "\n",
    "a) if –elif-else\n",
    "\n",
    "b) Switch statement"
   ]
  },
  {
   "cell_type": "code",
   "execution_count": 65,
   "id": "683b2c30-74a7-4fbe-b6df-c69957acc0b1",
   "metadata": {},
   "outputs": [],
   "source": [
    "# He loves California and would take a job there if it is paid over 40,000 USD a year\n",
    "# He hates Massachusetts and demands at least 100,000 USD to work there\n",
    "# Any other place he’s content to work for 60,000 USD a year\n",
    "# unless he can work in space in which case he would work for free."
   ]
  },
  {
   "cell_type": "markdown",
   "id": "423f2b86-8d9d-41b0-aef3-2946239999aa",
   "metadata": {},
   "source": [
    "#### a) if –elif-else"
   ]
  },
  {
   "cell_type": "code",
   "execution_count": 68,
   "id": "9de2bf95-2a11-4705-ae46-b0615b9b13ea",
   "metadata": {},
   "outputs": [
    {
     "name": "stdin",
     "output_type": "stream",
     "text": [
      "Enter job location:\n",
      "  western\n",
      "Enter offered salary:\n",
      "  4\n"
     ]
    },
    {
     "name": "stdout",
     "output_type": "stream",
     "text": [
      "Tiberius rejects the offer - location is Western with low salary\n"
     ]
    }
   ],
   "source": [
    "location = input(\"Enter job location:\\n \")\n",
    "salary = float(input(\"Enter offered salary:\\n \"))\n",
    "\n",
    "if (location.lower() == 'space') or (salary == 0):\n",
    "    print('Tiberius accepts the offer - location is Space and he would work for free')\n",
    "elif location.lower() == 'california':\n",
    "    if salary > 40000:\n",
    "        print('Tiberius accepts the offer - location is California and salary is more than 40,000')\n",
    "    else:\n",
    "        print('Tiberius rejects the offer - location is California but the salary is low')\n",
    "elif location.lower() == 'massachusetts':\n",
    "    if salary >= 100000:\n",
    "        print('Tiberius accepts the offer - location is Massachusetts and salary is at least 100,000')\n",
    "    else:\n",
    "        print('Tiberius rejects the offer - location is Massachusetts and salary is low')\n",
    "else:\n",
    "    if (location.lower() not in ('space', 'california', 'massachusetts')) and (salary >= 60000):\n",
    "        print('Tiberius accepts the offer - location is Other and salary is 60,000')\n",
    "    else:\n",
    "        print(f'Tiberius rejects the offer - location is {location.capitalize()} and salary is low')"
   ]
  },
  {
   "cell_type": "markdown",
   "id": "9df2f5d5-853b-42f0-a18a-bfb744eae69a",
   "metadata": {},
   "source": [
    "#### b) Switch statement"
   ]
  },
  {
   "cell_type": "code",
   "execution_count": null,
   "id": "2fb7a810-7834-4ce3-b84c-d481dc75462d",
   "metadata": {},
   "outputs": [],
   "source": [
    "# --- Tiberius' Job Evaluation with match-case (switch) ---\n",
    "\n",
    "location = input(\"Enter job location: \")\n",
    "salary = float(input(\"Enter offered salary (USD): \"))\n",
    "\n",
    "match location.lower():\n",
    "    case \"space\":\n",
    "        print(\"Accept (Space – he would work for free!)\")\n",
    "    case \"california\":\n",
    "        if salary > 40000:\n",
    "            print(\"Accept (California, salary > 40,000)\")\n",
    "        else:\n",
    "            print(\"Reject (California, salary too low)\")\n",
    "    case \"massachusetts\":\n",
    "        if salary >= 100000:\n",
    "            print(\"Accept (Massachusetts, salary >= 100,000)\")\n",
    "        else:\n",
    "            print(\"Reject (Massachusetts, salary too low)\")\n",
    "    case _:\n",
    "        if salary >= 60000:\n",
    "            print(\"Accept (Other place, salary >= 60,000)\")\n",
    "        else:\n",
    "            print(\"Reject (Other place, salary too low)\")\n"
   ]
  },
  {
   "cell_type": "code",
   "execution_count": null,
   "id": "cb25da25-74ba-4bbf-928e-5bebad9bd9f6",
   "metadata": {},
   "outputs": [],
   "source": []
  },
  {
   "cell_type": "code",
   "execution_count": null,
   "id": "2848fe03-3c5c-4003-9859-0edb5007346f",
   "metadata": {},
   "outputs": [],
   "source": []
  },
  {
   "cell_type": "code",
   "execution_count": null,
   "id": "0a1b9386-a8cb-4d98-ba89-f17862dcf59a",
   "metadata": {},
   "outputs": [],
   "source": []
  },
  {
   "cell_type": "code",
   "execution_count": null,
   "id": "9e7e154d-79bb-4fe0-be0a-33997d8faaf5",
   "metadata": {},
   "outputs": [],
   "source": []
  }
 ],
 "metadata": {
  "kernelspec": {
   "display_name": "Python (ml_master_env)",
   "language": "python",
   "name": "ml_master_env"
  },
  "language_info": {
   "codemirror_mode": {
    "name": "ipython",
    "version": 3
   },
   "file_extension": ".py",
   "mimetype": "text/x-python",
   "name": "python",
   "nbconvert_exporter": "python",
   "pygments_lexer": "ipython3",
   "version": "3.12.7"
  }
 },
 "nbformat": 4,
 "nbformat_minor": 5
}
