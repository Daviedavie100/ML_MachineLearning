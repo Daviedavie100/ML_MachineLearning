{
 "cells": [
  {
   "cell_type": "markdown",
   "id": "4b31d1f0-1e15-4e6b-be23-007074a7b3fd",
   "metadata": {},
   "source": [
    "## Task  10 marks\n",
    "Url=\"https://statso.io/wp-content/uploads/2024/02/food_orders_new_delhi.csv\"\n",
    "\n",
    "* Create a CSV file from Url and save it on your device (2mks)\n",
    "* Create a Dataframe from that csv  (1mk)\n",
    "* Find the dimension of the dataframe (1mk)\n",
    "* Find the mean, mode, median and std dev of Commission fees (2mks)\n",
    "* create a sample of size 100 using the code,  sample=df.sample(100)  (1mk)\n",
    "* Using the sample, find the sample mean of the Commission fee, then find 95% confidence interval for the sample mean.  (3mks)\n"
   ]
  },
  {
   "cell_type": "code",
   "execution_count": null,
   "id": "9a78d558-5e4c-4f69-afec-ec52e781a1fe",
   "metadata": {},
   "outputs": [],
   "source": [
    "# load imports\n",
    "import requests\n",
    "import zipfile\n",
    "import io\n",
    "import os\n",
    "import pandas as pd\n",
    "import numpy as np\n",
    "from scipy.stats import norm"
   ]
  },
  {
   "cell_type": "code",
   "execution_count": null,
   "id": "74336481-57ca-406a-84b5-8405521206d2",
   "metadata": {},
   "outputs": [],
   "source": [
    "# url\n",
    "Url=\"https://statso.io/wp-content/uploads/2024/02/food_orders.zip\"\n",
    "\n",
    "# create extract dir\n",
    "extract_dir = os.path.expanduser(\"~/Documents/GitHub/ML_MachineLearning/Statistics_for_Data_Science/assignment/food\")\n",
    "response=requests.get(Url)"
   ]
  },
  {
   "cell_type": "markdown",
   "id": "193c33a8-042d-4b3c-90db-8aff2d0c3356",
   "metadata": {},
   "source": [
    "- Create a CSV file from Url and save it on your device (2mks)"
   ]
  },
  {
   "cell_type": "code",
   "execution_count": null,
   "id": "ca70374f-c3e6-453b-8265-8fcd97b477bc",
   "metadata": {},
   "outputs": [],
   "source": [
    "# extract zip using zipfile\n",
    "with zipfile.ZipFile(io.BytesIO(response.content)) as z:\n",
    "    z.extractall(extract_dir)"
   ]
  },
  {
   "cell_type": "code",
   "execution_count": null,
   "id": "64992e3e-ec2b-4e54-915f-3845e13d0ee0",
   "metadata": {},
   "outputs": [],
   "source": [
    "# check current working directory\n",
    "cwd = os.getcwd()\n",
    "print(\"Current working directory:\", 'cwd') # remove quates on cwd"
   ]
  },
  {
   "cell_type": "markdown",
   "id": "1d48fedc-ae9f-4066-b3e0-39305a684095",
   "metadata": {},
   "source": [
    "- Create a Dataframe from that csv (1mk)"
   ]
  },
  {
   "cell_type": "code",
   "execution_count": null,
   "id": "644f2848-f264-49ab-abcb-8b9ee1b3457e",
   "metadata": {},
   "outputs": [],
   "source": [
    "# load dataframe\n",
    "food_orders=pd.read_csv('food/food_orders_new_delhi.csv')\n",
    "food_orders.head()"
   ]
  },
  {
   "cell_type": "markdown",
   "id": "4452018d-2d89-4143-a7e0-1570ab7912ab",
   "metadata": {},
   "source": [
    "- Find the dimension of the dataframe (1mk)"
   ]
  },
  {
   "cell_type": "code",
   "execution_count": null,
   "id": "a325236c-43ff-4d3b-8ee8-01d3d093c026",
   "metadata": {},
   "outputs": [],
   "source": [
    "food_orders.shape"
   ]
  },
  {
   "cell_type": "markdown",
   "id": "64ea218b-6412-40d3-a386-52b5041974a8",
   "metadata": {},
   "source": [
    "- Find the mean, mode, median and std dev of Commission fees (2mks)"
   ]
  },
  {
   "cell_type": "code",
   "execution_count": null,
   "id": "6e48e1c1-4546-44ac-9003-ff78b394409c",
   "metadata": {},
   "outputs": [],
   "source": [
    "# filter Commission Fee column\n",
    "com_fee=food_orders.loc[:,\"Commission Fee\"]\n",
    "com_fee"
   ]
  },
  {
   "cell_type": "code",
   "execution_count": null,
   "id": "37f9110e-578d-499e-b9de-18be18f60113",
   "metadata": {},
   "outputs": [],
   "source": [
    "# mean, mode, median and std\n",
    "print(f'The statistics for commission fee column are: \\\n",
    "\\nmean: {com_fee.mean()} \\\n",
    "\\nmode: {com_fee.mode()[0]} \\\n",
    "\\nmedian: {com_fee.median()} \\\n",
    "\\nstandard deviation: {round(com_fee.std(),2)}')"
   ]
  },
  {
   "cell_type": "markdown",
   "id": "d742e03f-31cb-458e-b712-d5fc3c4956af",
   "metadata": {},
   "source": [
    "- create a sample of size 100 using the code, sample=df.sample(100) (1mk)"
   ]
  },
  {
   "cell_type": "code",
   "execution_count": null,
   "id": "f957e0c0-d93f-4005-a197-27f7afa55888",
   "metadata": {},
   "outputs": [],
   "source": [
    "sample=food_orders.sample(100, random_state=4)\n",
    "sample"
   ]
  },
  {
   "cell_type": "markdown",
   "id": "77c4526d-b0d1-4eff-b7fc-a3036c175d4b",
   "metadata": {},
   "source": [
    "- Using the sample, find the sample mean of the Commission fee, then find 95% confidence interval for the sample mean. (3mks)"
   ]
  },
  {
   "cell_type": "code",
   "execution_count": null,
   "id": "476c73f4-43ab-4656-9546-b54aeafa9d41",
   "metadata": {},
   "outputs": [],
   "source": [
    "# commission fee sample column\n",
    "com_fee_sample=sample[\"Commission Fee\"]\n",
    "\n",
    "# sample mean\n",
    "#com_fee_sample.mean()"
   ]
  },
  {
   "cell_type": "code",
   "execution_count": null,
   "id": "60a779f4-f89c-43a1-b596-19d6cff5aba3",
   "metadata": {},
   "outputs": [],
   "source": [
    "# calculate 95% confidence interval for the sample mean\n",
    "def confidence_interval(data_array, confidence/100):\n",
    "    data=np.array(data_array)\n",
    "    sample_size=len(data)\n",
    "    mean=np.mean(data)\n",
    "    sample_std=np.std(data, ddof=1)\n",
    "    # standard error\n",
    "    error=sample_std/np.sqrt(sample_size)\n",
    "    # z_value\n",
    "    z_value=norm.ppf((1+confidence)/2)\n",
    "    \n",
    "    return (mean-(z_value*error), mean+(z_value*error))\n",
    "\n",
    "confidence_interval (com_fee_sample, 95)"
   ]
  }
 ],
 "metadata": {
  "kernelspec": {
   "display_name": "Python 3 (ipykernel)",
   "language": "python",
   "name": "python3"
  },
  "language_info": {
   "codemirror_mode": {
    "name": "ipython",
    "version": 3
   },
   "file_extension": ".py",
   "mimetype": "text/x-python",
   "name": "python",
   "nbconvert_exporter": "python",
   "pygments_lexer": "ipython3",
   "version": "3.12.11"
  }
 },
 "nbformat": 4,
 "nbformat_minor": 5
}
