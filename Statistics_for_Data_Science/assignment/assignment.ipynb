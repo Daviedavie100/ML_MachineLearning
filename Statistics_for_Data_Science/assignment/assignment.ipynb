{
 "cells": [
  {
   "cell_type": "markdown",
   "id": "4b31d1f0-1e15-4e6b-be23-007074a7b3fd",
   "metadata": {},
   "source": [
    "## Task  10 marks\n",
    "Url=\"https://statso.io/wp-content/uploads/2024/02/food_orders_new_delhi.csv\"\n",
    "\n",
    "* Create a CSV file from Url and save it on your device (2mks)\n",
    "* Create a Dataframe from that csv  (1mk)\n",
    "* Find the dimension of the dataframe (1mk)\n",
    "* Find the mean, mode, median and std dev of Commission fees (2mks)\n",
    "* create a sample of size 100 using the code,  sample=df.sample(100)  (1mk)\n",
    "* Using the sample, find the sample mean of the Commission fee, then find 95% confidence interval for the sample mean.  (3mks)\n"
   ]
  },
  {
   "cell_type": "code",
   "execution_count": 1,
   "id": "9a78d558-5e4c-4f69-afec-ec52e781a1fe",
   "metadata": {},
   "outputs": [],
   "source": [
    "# load imports\n",
    "import requests\n",
    "import zipfile\n",
    "import io\n",
    "import os\n",
    "import pandas as pd\n",
    "import numpy as np\n",
    "from scipy.stats import norm"
   ]
  },
  {
   "cell_type": "code",
   "execution_count": 50,
   "id": "e1a8f900-3a87-43d9-8454-3b8dc2142096",
   "metadata": {},
   "outputs": [
    {
     "name": "stdout",
     "output_type": "stream",
     "text": [
      "Current working directory: C:\\Users\\Davie\\Documents\\GitHub\\ML_MachineLearning\\Statistics_for_Data_Science\\assignment\n"
     ]
    }
   ],
   "source": [
    "# check current working directory\n",
    "cwd = os.getcwd()\n",
    "print(\"Current working directory:\", cwd)"
   ]
  },
  {
   "cell_type": "code",
   "execution_count": 51,
   "id": "74336481-57ca-406a-84b5-8405521206d2",
   "metadata": {},
   "outputs": [],
   "source": [
    "# url\n",
    "Url=\"https://statso.io/wp-content/uploads/2024/02/food_orders.zip\"\n",
    "\n",
    "# create extract dir\n",
    "extract_dir = os.path.join(cwd, 'food') #/Documents/GitHub/ML_MachineLearning/Statistics_for_Data_Science/\n",
    "response=requests.get(Url)"
   ]
  },
  {
   "cell_type": "markdown",
   "id": "193c33a8-042d-4b3c-90db-8aff2d0c3356",
   "metadata": {},
   "source": [
    "- Create a CSV file from Url and save it on your device (2mks)"
   ]
  },
  {
   "cell_type": "code",
   "execution_count": 52,
   "id": "ca70374f-c3e6-453b-8265-8fcd97b477bc",
   "metadata": {},
   "outputs": [],
   "source": [
    "# extract zip using zipfile\n",
    "with zipfile.ZipFile(io.BytesIO(response.content)) as z:\n",
    "    z.extractall(extract_dir)"
   ]
  },
  {
   "cell_type": "markdown",
   "id": "1d48fedc-ae9f-4066-b3e0-39305a684095",
   "metadata": {},
   "source": [
    "- Create a Dataframe from that csv (1mk)"
   ]
  },
  {
   "cell_type": "code",
   "execution_count": 53,
   "id": "644f2848-f264-49ab-abcb-8b9ee1b3457e",
   "metadata": {},
   "outputs": [
    {
     "data": {
      "text/html": [
       "<div>\n",
       "<style scoped>\n",
       "    .dataframe tbody tr th:only-of-type {\n",
       "        vertical-align: middle;\n",
       "    }\n",
       "\n",
       "    .dataframe tbody tr th {\n",
       "        vertical-align: top;\n",
       "    }\n",
       "\n",
       "    .dataframe thead th {\n",
       "        text-align: right;\n",
       "    }\n",
       "</style>\n",
       "<table border=\"1\" class=\"dataframe\">\n",
       "  <thead>\n",
       "    <tr style=\"text-align: right;\">\n",
       "      <th></th>\n",
       "      <th>Order ID</th>\n",
       "      <th>Customer ID</th>\n",
       "      <th>Restaurant ID</th>\n",
       "      <th>Order Date and Time</th>\n",
       "      <th>Delivery Date and Time</th>\n",
       "      <th>Order Value</th>\n",
       "      <th>Delivery Fee</th>\n",
       "      <th>Payment Method</th>\n",
       "      <th>Discounts and Offers</th>\n",
       "      <th>Commission Fee</th>\n",
       "      <th>Payment Processing Fee</th>\n",
       "      <th>Refunds/Chargebacks</th>\n",
       "    </tr>\n",
       "  </thead>\n",
       "  <tbody>\n",
       "    <tr>\n",
       "      <th>0</th>\n",
       "      <td>1</td>\n",
       "      <td>C8270</td>\n",
       "      <td>R2924</td>\n",
       "      <td>2024-02-01 01:11:52</td>\n",
       "      <td>2024-02-01 02:39:52</td>\n",
       "      <td>1914</td>\n",
       "      <td>0</td>\n",
       "      <td>Credit Card</td>\n",
       "      <td>5% on App</td>\n",
       "      <td>150</td>\n",
       "      <td>47</td>\n",
       "      <td>0</td>\n",
       "    </tr>\n",
       "    <tr>\n",
       "      <th>1</th>\n",
       "      <td>2</td>\n",
       "      <td>C1860</td>\n",
       "      <td>R2054</td>\n",
       "      <td>2024-02-02 22:11:04</td>\n",
       "      <td>2024-02-02 22:46:04</td>\n",
       "      <td>986</td>\n",
       "      <td>40</td>\n",
       "      <td>Digital Wallet</td>\n",
       "      <td>10%</td>\n",
       "      <td>198</td>\n",
       "      <td>23</td>\n",
       "      <td>0</td>\n",
       "    </tr>\n",
       "    <tr>\n",
       "      <th>2</th>\n",
       "      <td>3</td>\n",
       "      <td>C6390</td>\n",
       "      <td>R2870</td>\n",
       "      <td>2024-01-31 05:54:35</td>\n",
       "      <td>2024-01-31 06:52:35</td>\n",
       "      <td>937</td>\n",
       "      <td>30</td>\n",
       "      <td>Cash on Delivery</td>\n",
       "      <td>15% New User</td>\n",
       "      <td>195</td>\n",
       "      <td>45</td>\n",
       "      <td>0</td>\n",
       "    </tr>\n",
       "    <tr>\n",
       "      <th>3</th>\n",
       "      <td>4</td>\n",
       "      <td>C6191</td>\n",
       "      <td>R2642</td>\n",
       "      <td>2024-01-16 22:52:49</td>\n",
       "      <td>2024-01-16 23:38:49</td>\n",
       "      <td>1463</td>\n",
       "      <td>50</td>\n",
       "      <td>Cash on Delivery</td>\n",
       "      <td>NaN</td>\n",
       "      <td>146</td>\n",
       "      <td>27</td>\n",
       "      <td>0</td>\n",
       "    </tr>\n",
       "    <tr>\n",
       "      <th>4</th>\n",
       "      <td>5</td>\n",
       "      <td>C6734</td>\n",
       "      <td>R2799</td>\n",
       "      <td>2024-01-29 01:19:30</td>\n",
       "      <td>2024-01-29 02:48:30</td>\n",
       "      <td>1992</td>\n",
       "      <td>30</td>\n",
       "      <td>Cash on Delivery</td>\n",
       "      <td>50 off Promo</td>\n",
       "      <td>130</td>\n",
       "      <td>50</td>\n",
       "      <td>0</td>\n",
       "    </tr>\n",
       "  </tbody>\n",
       "</table>\n",
       "</div>"
      ],
      "text/plain": [
       "   Order ID Customer ID Restaurant ID  Order Date and Time  \\\n",
       "0         1       C8270         R2924  2024-02-01 01:11:52   \n",
       "1         2       C1860         R2054  2024-02-02 22:11:04   \n",
       "2         3       C6390         R2870  2024-01-31 05:54:35   \n",
       "3         4       C6191         R2642  2024-01-16 22:52:49   \n",
       "4         5       C6734         R2799  2024-01-29 01:19:30   \n",
       "\n",
       "  Delivery Date and Time  Order Value  Delivery Fee    Payment Method  \\\n",
       "0    2024-02-01 02:39:52         1914             0       Credit Card   \n",
       "1    2024-02-02 22:46:04          986            40    Digital Wallet   \n",
       "2    2024-01-31 06:52:35          937            30  Cash on Delivery   \n",
       "3    2024-01-16 23:38:49         1463            50  Cash on Delivery   \n",
       "4    2024-01-29 02:48:30         1992            30  Cash on Delivery   \n",
       "\n",
       "  Discounts and Offers  Commission Fee  Payment Processing Fee  \\\n",
       "0            5% on App             150                      47   \n",
       "1                  10%             198                      23   \n",
       "2         15% New User             195                      45   \n",
       "3                  NaN             146                      27   \n",
       "4         50 off Promo             130                      50   \n",
       "\n",
       "   Refunds/Chargebacks  \n",
       "0                    0  \n",
       "1                    0  \n",
       "2                    0  \n",
       "3                    0  \n",
       "4                    0  "
      ]
     },
     "execution_count": 53,
     "metadata": {},
     "output_type": "execute_result"
    }
   ],
   "source": [
    "# load dataframe\n",
    "food_orders=pd.read_csv('food/food_orders_new_delhi.csv')\n",
    "food_orders.head()"
   ]
  },
  {
   "cell_type": "markdown",
   "id": "4452018d-2d89-4143-a7e0-1570ab7912ab",
   "metadata": {},
   "source": [
    "- Find the dimension of the dataframe (1mk)"
   ]
  },
  {
   "cell_type": "code",
   "execution_count": 6,
   "id": "a325236c-43ff-4d3b-8ee8-01d3d093c026",
   "metadata": {},
   "outputs": [
    {
     "data": {
      "text/plain": [
       "(1000, 12)"
      ]
     },
     "execution_count": 6,
     "metadata": {},
     "output_type": "execute_result"
    }
   ],
   "source": [
    "food_orders.shape"
   ]
  },
  {
   "cell_type": "markdown",
   "id": "64ea218b-6412-40d3-a386-52b5041974a8",
   "metadata": {},
   "source": [
    "- Find the mean, mode, median and std dev of Commission fees (2mks)"
   ]
  },
  {
   "cell_type": "code",
   "execution_count": 7,
   "id": "6e48e1c1-4546-44ac-9003-ff78b394409c",
   "metadata": {},
   "outputs": [
    {
     "data": {
      "text/plain": [
       "0      150\n",
       "1      198\n",
       "2      195\n",
       "3      146\n",
       "4      130\n",
       "      ... \n",
       "995    165\n",
       "996    110\n",
       "997     64\n",
       "998    199\n",
       "999    180\n",
       "Name: Commission Fee, Length: 1000, dtype: int64"
      ]
     },
     "execution_count": 7,
     "metadata": {},
     "output_type": "execute_result"
    }
   ],
   "source": [
    "# filter Commission Fee column\n",
    "com_fee=food_orders.loc[:,\"Commission Fee\"]\n",
    "com_fee"
   ]
  },
  {
   "cell_type": "code",
   "execution_count": 8,
   "id": "37f9110e-578d-499e-b9de-18be18f60113",
   "metadata": {},
   "outputs": [
    {
     "name": "stdout",
     "output_type": "stream",
     "text": [
      "The statistics for commission fee column are: \n",
      "mean: 126.99 \n",
      "mode: 126 \n",
      "median: 127.0 \n",
      "standard deviation: 43.06\n"
     ]
    }
   ],
   "source": [
    "# mean, mode, median and std\n",
    "print(f'The statistics for commission fee column are: \\\n",
    "\\nmean: {com_fee.mean()} \\\n",
    "\\nmode: {com_fee.mode()[0]} \\\n",
    "\\nmedian: {com_fee.median()} \\\n",
    "\\nstandard deviation: {round(com_fee.std(),2)}')"
   ]
  },
  {
   "cell_type": "markdown",
   "id": "d742e03f-31cb-458e-b712-d5fc3c4956af",
   "metadata": {},
   "source": [
    "- create a sample of size 100 using the code, sample=df.sample(100) (1mk)"
   ]
  },
  {
   "cell_type": "code",
   "execution_count": 9,
   "id": "f957e0c0-d93f-4005-a197-27f7afa55888",
   "metadata": {},
   "outputs": [
    {
     "data": {
      "text/html": [
       "<div>\n",
       "<style scoped>\n",
       "    .dataframe tbody tr th:only-of-type {\n",
       "        vertical-align: middle;\n",
       "    }\n",
       "\n",
       "    .dataframe tbody tr th {\n",
       "        vertical-align: top;\n",
       "    }\n",
       "\n",
       "    .dataframe thead th {\n",
       "        text-align: right;\n",
       "    }\n",
       "</style>\n",
       "<table border=\"1\" class=\"dataframe\">\n",
       "  <thead>\n",
       "    <tr style=\"text-align: right;\">\n",
       "      <th></th>\n",
       "      <th>Order ID</th>\n",
       "      <th>Customer ID</th>\n",
       "      <th>Restaurant ID</th>\n",
       "      <th>Order Date and Time</th>\n",
       "      <th>Delivery Date and Time</th>\n",
       "      <th>Order Value</th>\n",
       "      <th>Delivery Fee</th>\n",
       "      <th>Payment Method</th>\n",
       "      <th>Discounts and Offers</th>\n",
       "      <th>Commission Fee</th>\n",
       "      <th>Payment Processing Fee</th>\n",
       "      <th>Refunds/Chargebacks</th>\n",
       "    </tr>\n",
       "  </thead>\n",
       "  <tbody>\n",
       "    <tr>\n",
       "      <th>698</th>\n",
       "      <td>699</td>\n",
       "      <td>C7777</td>\n",
       "      <td>R2773</td>\n",
       "      <td>2024-01-15 13:10:08</td>\n",
       "      <td>2024-01-15 14:16:08</td>\n",
       "      <td>282</td>\n",
       "      <td>20</td>\n",
       "      <td>Credit Card</td>\n",
       "      <td>5% on App</td>\n",
       "      <td>118</td>\n",
       "      <td>18</td>\n",
       "      <td>100</td>\n",
       "    </tr>\n",
       "    <tr>\n",
       "      <th>577</th>\n",
       "      <td>578</td>\n",
       "      <td>C4775</td>\n",
       "      <td>R2081</td>\n",
       "      <td>2024-02-01 16:40:21</td>\n",
       "      <td>2024-02-01 17:59:21</td>\n",
       "      <td>489</td>\n",
       "      <td>30</td>\n",
       "      <td>Cash on Delivery</td>\n",
       "      <td>NaN</td>\n",
       "      <td>165</td>\n",
       "      <td>50</td>\n",
       "      <td>0</td>\n",
       "    </tr>\n",
       "    <tr>\n",
       "      <th>763</th>\n",
       "      <td>764</td>\n",
       "      <td>C5206</td>\n",
       "      <td>R2385</td>\n",
       "      <td>2024-02-05 23:38:39</td>\n",
       "      <td>2024-02-06 01:14:39</td>\n",
       "      <td>969</td>\n",
       "      <td>30</td>\n",
       "      <td>Cash on Delivery</td>\n",
       "      <td>5% on App</td>\n",
       "      <td>156</td>\n",
       "      <td>17</td>\n",
       "      <td>100</td>\n",
       "    </tr>\n",
       "    <tr>\n",
       "      <th>790</th>\n",
       "      <td>791</td>\n",
       "      <td>C6966</td>\n",
       "      <td>R2690</td>\n",
       "      <td>2024-01-23 23:08:37</td>\n",
       "      <td>2024-01-23 23:53:37</td>\n",
       "      <td>797</td>\n",
       "      <td>0</td>\n",
       "      <td>Digital Wallet</td>\n",
       "      <td>NaN</td>\n",
       "      <td>149</td>\n",
       "      <td>47</td>\n",
       "      <td>0</td>\n",
       "    </tr>\n",
       "    <tr>\n",
       "      <th>520</th>\n",
       "      <td>521</td>\n",
       "      <td>C8419</td>\n",
       "      <td>R2972</td>\n",
       "      <td>2024-02-05 17:23:42</td>\n",
       "      <td>2024-02-05 17:55:42</td>\n",
       "      <td>242</td>\n",
       "      <td>20</td>\n",
       "      <td>Cash on Delivery</td>\n",
       "      <td>5% on App</td>\n",
       "      <td>123</td>\n",
       "      <td>18</td>\n",
       "      <td>100</td>\n",
       "    </tr>\n",
       "    <tr>\n",
       "      <th>...</th>\n",
       "      <td>...</td>\n",
       "      <td>...</td>\n",
       "      <td>...</td>\n",
       "      <td>...</td>\n",
       "      <td>...</td>\n",
       "      <td>...</td>\n",
       "      <td>...</td>\n",
       "      <td>...</td>\n",
       "      <td>...</td>\n",
       "      <td>...</td>\n",
       "      <td>...</td>\n",
       "      <td>...</td>\n",
       "    </tr>\n",
       "    <tr>\n",
       "      <th>467</th>\n",
       "      <td>468</td>\n",
       "      <td>C8400</td>\n",
       "      <td>R2144</td>\n",
       "      <td>2024-01-19 16:08:45</td>\n",
       "      <td>2024-01-19 17:38:45</td>\n",
       "      <td>1749</td>\n",
       "      <td>40</td>\n",
       "      <td>Digital Wallet</td>\n",
       "      <td>50 off Promo</td>\n",
       "      <td>194</td>\n",
       "      <td>45</td>\n",
       "      <td>100</td>\n",
       "    </tr>\n",
       "    <tr>\n",
       "      <th>362</th>\n",
       "      <td>363</td>\n",
       "      <td>C9932</td>\n",
       "      <td>R2738</td>\n",
       "      <td>2024-01-28 10:20:52</td>\n",
       "      <td>2024-01-28 11:17:52</td>\n",
       "      <td>1155</td>\n",
       "      <td>50</td>\n",
       "      <td>Cash on Delivery</td>\n",
       "      <td>15% New User</td>\n",
       "      <td>172</td>\n",
       "      <td>14</td>\n",
       "      <td>150</td>\n",
       "    </tr>\n",
       "    <tr>\n",
       "      <th>731</th>\n",
       "      <td>732</td>\n",
       "      <td>C6126</td>\n",
       "      <td>R2685</td>\n",
       "      <td>2024-02-01 13:27:52</td>\n",
       "      <td>2024-02-01 14:38:52</td>\n",
       "      <td>974</td>\n",
       "      <td>20</td>\n",
       "      <td>Digital Wallet</td>\n",
       "      <td>50 off Promo</td>\n",
       "      <td>176</td>\n",
       "      <td>46</td>\n",
       "      <td>0</td>\n",
       "    </tr>\n",
       "    <tr>\n",
       "      <th>380</th>\n",
       "      <td>381</td>\n",
       "      <td>C8004</td>\n",
       "      <td>R2920</td>\n",
       "      <td>2024-01-19 01:25:54</td>\n",
       "      <td>2024-01-19 02:31:54</td>\n",
       "      <td>860</td>\n",
       "      <td>40</td>\n",
       "      <td>Credit Card</td>\n",
       "      <td>10%</td>\n",
       "      <td>187</td>\n",
       "      <td>42</td>\n",
       "      <td>100</td>\n",
       "    </tr>\n",
       "    <tr>\n",
       "      <th>489</th>\n",
       "      <td>490</td>\n",
       "      <td>C6305</td>\n",
       "      <td>R2648</td>\n",
       "      <td>2024-01-31 11:16:18</td>\n",
       "      <td>2024-01-31 12:04:18</td>\n",
       "      <td>1352</td>\n",
       "      <td>40</td>\n",
       "      <td>Digital Wallet</td>\n",
       "      <td>50 off Promo</td>\n",
       "      <td>68</td>\n",
       "      <td>26</td>\n",
       "      <td>50</td>\n",
       "    </tr>\n",
       "  </tbody>\n",
       "</table>\n",
       "<p>100 rows × 12 columns</p>\n",
       "</div>"
      ],
      "text/plain": [
       "     Order ID Customer ID Restaurant ID  Order Date and Time  \\\n",
       "698       699       C7777         R2773  2024-01-15 13:10:08   \n",
       "577       578       C4775         R2081  2024-02-01 16:40:21   \n",
       "763       764       C5206         R2385  2024-02-05 23:38:39   \n",
       "790       791       C6966         R2690  2024-01-23 23:08:37   \n",
       "520       521       C8419         R2972  2024-02-05 17:23:42   \n",
       "..        ...         ...           ...                  ...   \n",
       "467       468       C8400         R2144  2024-01-19 16:08:45   \n",
       "362       363       C9932         R2738  2024-01-28 10:20:52   \n",
       "731       732       C6126         R2685  2024-02-01 13:27:52   \n",
       "380       381       C8004         R2920  2024-01-19 01:25:54   \n",
       "489       490       C6305         R2648  2024-01-31 11:16:18   \n",
       "\n",
       "    Delivery Date and Time  Order Value  Delivery Fee    Payment Method  \\\n",
       "698    2024-01-15 14:16:08          282            20       Credit Card   \n",
       "577    2024-02-01 17:59:21          489            30  Cash on Delivery   \n",
       "763    2024-02-06 01:14:39          969            30  Cash on Delivery   \n",
       "790    2024-01-23 23:53:37          797             0    Digital Wallet   \n",
       "520    2024-02-05 17:55:42          242            20  Cash on Delivery   \n",
       "..                     ...          ...           ...               ...   \n",
       "467    2024-01-19 17:38:45         1749            40    Digital Wallet   \n",
       "362    2024-01-28 11:17:52         1155            50  Cash on Delivery   \n",
       "731    2024-02-01 14:38:52          974            20    Digital Wallet   \n",
       "380    2024-01-19 02:31:54          860            40       Credit Card   \n",
       "489    2024-01-31 12:04:18         1352            40    Digital Wallet   \n",
       "\n",
       "    Discounts and Offers  Commission Fee  Payment Processing Fee  \\\n",
       "698            5% on App             118                      18   \n",
       "577                  NaN             165                      50   \n",
       "763            5% on App             156                      17   \n",
       "790                  NaN             149                      47   \n",
       "520            5% on App             123                      18   \n",
       "..                   ...             ...                     ...   \n",
       "467         50 off Promo             194                      45   \n",
       "362         15% New User             172                      14   \n",
       "731         50 off Promo             176                      46   \n",
       "380                  10%             187                      42   \n",
       "489         50 off Promo              68                      26   \n",
       "\n",
       "     Refunds/Chargebacks  \n",
       "698                  100  \n",
       "577                    0  \n",
       "763                  100  \n",
       "790                    0  \n",
       "520                  100  \n",
       "..                   ...  \n",
       "467                  100  \n",
       "362                  150  \n",
       "731                    0  \n",
       "380                  100  \n",
       "489                   50  \n",
       "\n",
       "[100 rows x 12 columns]"
      ]
     },
     "execution_count": 9,
     "metadata": {},
     "output_type": "execute_result"
    }
   ],
   "source": [
    "sample=food_orders.sample(100, random_state=4)\n",
    "sample"
   ]
  },
  {
   "cell_type": "markdown",
   "id": "77c4526d-b0d1-4eff-b7fc-a3036c175d4b",
   "metadata": {},
   "source": [
    "- Using the sample, find the sample mean of the Commission fee, then find 95% confidence interval for the sample mean. (3mks)"
   ]
  },
  {
   "cell_type": "code",
   "execution_count": 10,
   "id": "476c73f4-43ab-4656-9546-b54aeafa9d41",
   "metadata": {},
   "outputs": [
    {
     "data": {
      "text/plain": [
       "np.float64(127.92)"
      ]
     },
     "execution_count": 10,
     "metadata": {},
     "output_type": "execute_result"
    }
   ],
   "source": [
    "# commission fee sample column\n",
    "com_fee_sample=sample[\"Commission Fee\"]\n",
    "\n",
    "# sample mean\n",
    "com_fee_sample.mean()"
   ]
  },
  {
   "cell_type": "code",
   "execution_count": 41,
   "id": "60a779f4-f89c-43a1-b596-19d6cff5aba3",
   "metadata": {},
   "outputs": [
    {
     "name": "stdout",
     "output_type": "stream",
     "text": [
      "CI of the sample is: (119.10, 136.74)\n"
     ]
    }
   ],
   "source": [
    "# calculate 95% confidence interval for the sample mean\n",
    "def confidence_interval(data_array, confidence):\n",
    "    data=np.array(data_array)\n",
    "    sample_size=len(data)\n",
    "    mean=np.mean(data)\n",
    "    sample_std=np.std(data, ddof=1)\n",
    "    # standard error\n",
    "    error=sample_std/np.sqrt(sample_size)\n",
    "    # z_value\n",
    "    z_value=norm.ppf((1+confidence /100) / 2)\n",
    "    \n",
    "    return (mean -round(z_value*error), mean +(z_value*error))\n",
    "\n",
    "confidence_interval (com_fee_sample, 95)\n",
    "print(f'CI of the sample is: ({lower:.2f}, {upper:.2f})')"
   ]
  }
 ],
 "metadata": {
  "kernelspec": {
   "display_name": "Python 3 (ipykernel)",
   "language": "python",
   "name": "python3"
  },
  "language_info": {
   "codemirror_mode": {
    "name": "ipython",
    "version": 3
   },
   "file_extension": ".py",
   "mimetype": "text/x-python",
   "name": "python",
   "nbconvert_exporter": "python",
   "pygments_lexer": "ipython3",
   "version": "3.12.11"
  }
 },
 "nbformat": 4,
 "nbformat_minor": 5
}
