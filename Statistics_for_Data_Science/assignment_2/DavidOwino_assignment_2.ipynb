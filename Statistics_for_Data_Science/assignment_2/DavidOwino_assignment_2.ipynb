{
 "cells": [
  {
   "cell_type": "markdown",
   "id": "4b31d1f0-1e15-4e6b-be23-007074a7b3fd",
   "metadata": {},
   "source": [
    "## Task  10 marks\n",
    "1.\tFind the World’s total Population’s as of 1 July (in thousands) in 2023\n",
    "2.\tFind the mean Births (thousands) of Kenya from 1950 to 2023\n",
    "3.\tFind the proportion of the Mean Births(thousands) to the Total Population of July (thousands) in Kenya.\n",
    "4.\tUsing 95% percent confidence interval, find the figures within which the proportion above will lie.\n",
    "5.\tFind the correlation between the Births(thousands) and Total Deaths (thousands) in Kenya from 1950 to 2023. Interpret your results.\n",
    "6.\tTake a simple random sample of size 16 in Kenya and size 20 in Uganda and\n",
    "- i). Compare their mean\n",
    "- ii). Compare their median\n",
    "- iii). Determine if there is a statistical difference in their\n",
    "    a). mean\n",
    "    b). Their median"
   ]
  },
  {
   "cell_type": "markdown",
   "id": "70f5cc00-a6da-4cde-9d46-a9c112a48a2b",
   "metadata": {},
   "source": [
    "### Data\n",
    "- The data provided is a Demographic indicator by region, subregion and country, annually for 1950-2100\n",
    "Source: World Population Prospects 2024"
   ]
  },
  {
   "cell_type": "code",
   "execution_count": 2,
   "id": "9a78d558-5e4c-4f69-afec-ec52e781a1fe",
   "metadata": {},
   "outputs": [],
   "source": [
    "# load imports\n",
    "#import requests\n",
    "#import zipfile\n",
    "#import io\n",
    "import os\n",
    "import pandas as pd\n",
    "import numpy as np\n",
    "from scipy.stats import norm"
   ]
  },
  {
   "cell_type": "code",
   "execution_count": 3,
   "id": "e1a8f900-3a87-43d9-8454-3b8dc2142096",
   "metadata": {},
   "outputs": [
    {
     "name": "stdout",
     "output_type": "stream",
     "text": [
      "Current working directory: C:\\Users\\Davie\\Documents\\GitHub\\ML_MachineLearning\\Statistics_for_Data_Science\\assignment_2\n"
     ]
    }
   ],
   "source": [
    "# check current working directory\n",
    "cwd = os.getcwd()\n",
    "print(\"Current working directory:\", cwd)"
   ]
  },
  {
   "cell_type": "code",
   "execution_count": 6,
   "id": "74336481-57ca-406a-84b5-8405521206d2",
   "metadata": {},
   "outputs": [
    {
     "name": "stdout",
     "output_type": "stream",
     "text": [
      "C:\\Users\\Davie\\Documents\\GitHub\\ML_MachineLearning\\Statistics_for_Data_Science\\assignment_2\\WPP2024_GEN_F01_DEMOGRAPHIC_INDICATORS_COMPACT.csv\n"
     ]
    }
   ],
   "source": [
    "# create data path\n",
    "data_path = os.path.join(cwd, 'WPP2024_GEN_F01_DEMOGRAPHIC_INDICATORS_COMPACT.csv')\n",
    "print(data_path)"
   ]
  },
  {
   "cell_type": "markdown",
   "id": "1d48fedc-ae9f-4066-b3e0-39305a684095",
   "metadata": {},
   "source": [
    "- Create a Dataframe from csv"
   ]
  },
  {
   "cell_type": "code",
   "execution_count": 13,
   "id": "644f2848-f264-49ab-abcb-8b9ee1b3457e",
   "metadata": {},
   "outputs": [
    {
     "name": "stderr",
     "output_type": "stream",
     "text": [
      "C:\\Users\\Davie\\AppData\\Local\\Temp\\ipykernel_13148\\2846738563.py:2: DtypeWarning: Columns (1,4,5,6,7,11,13,15,16,17,23,24,25,39,41,42,47,48,49,51,53,54,55,56) have mixed types. Specify dtype option on import or set low_memory=False.\n",
      "  demographic_df=pd.read_csv(data_path)\n"
     ]
    }
   ],
   "source": [
    "# load dataframe\n",
    "demographic_df=pd.read_csv(data_path)\n",
    "demographic_df.head()"
   ]
  },
  {
   "cell_type": "code",
   "execution_count": 7,
   "id": "7a070c08-d87f-4ad5-a9e8-22273db02c8d",
   "metadata": {},
   "outputs": [
    {
     "data": {
      "text/plain": [
       "Index(['Index', 'Region, subregion, country or area *', 'Parent code', 'Year',\n",
       "       'Total Population, as of 1 January (thousands)',\n",
       "       'Total Population, as of 1 July (thousands)',\n",
       "       'Male Population, as of 1 July (thousands)',\n",
       "       'Female Population, as of 1 July (thousands)',\n",
       "       'Population Density, as of 1 July (persons per square km)',\n",
       "       'Population Sex Ratio, as of 1 July (males per 100 females)',\n",
       "       'Median Age, as of 1 July (years)',\n",
       "       'Natural Change, Births minus Deaths (thousands)',\n",
       "       'Rate of Natural Change (per 1,000 population)',\n",
       "       'Population Change (thousands)', 'Population Growth Rate (percentage)',\n",
       "       'Population Annual Doubling Time (years)', 'Births (thousands)',\n",
       "       'Births by women aged 15 to 19 (thousands)',\n",
       "       'Crude Birth Rate (births per 1,000 population)',\n",
       "       'Total Fertility Rate (live births per woman)',\n",
       "       'Net Reproduction Rate (surviving daughters per woman)',\n",
       "       'Mean Age Childbearing (years)',\n",
       "       'Sex Ratio at Birth (males per 100 female births)',\n",
       "       'Total Deaths (thousands)', 'Male Deaths (thousands)',\n",
       "       'Female Deaths (thousands)',\n",
       "       'Crude Death Rate (deaths per 1,000 population)',\n",
       "       'Life Expectancy at Birth, both sexes (years)',\n",
       "       'Male Life Expectancy at Birth (years)',\n",
       "       'Female Life Expectancy at Birth (years)',\n",
       "       'Life Expectancy at Age 15, both sexes (years)',\n",
       "       'Male Life Expectancy at Age 15 (years)',\n",
       "       'Female Life Expectancy at Age 15 (years)',\n",
       "       'Life Expectancy at Age 65, both sexes (years)',\n",
       "       'Male Life Expectancy at Age 65 (years)',\n",
       "       'Female Life Expectancy at Age 65 (years)',\n",
       "       'Life Expectancy at Age 80, both sexes (years)',\n",
       "       'Male Life Expectancy at Age 80 (years)',\n",
       "       'Female Life Expectancy at Age 80 (years)',\n",
       "       'Infant Deaths, under age 1 (thousands)',\n",
       "       'Infant Mortality Rate (infant deaths per 1,000 live births)',\n",
       "       'Live Births Surviving to Age 1 (thousands)',\n",
       "       'Under-Five Deaths, under age 5 (thousands)',\n",
       "       'Under-Five Mortality (deaths under age 5 per 1,000 live births)',\n",
       "       'Mortality before Age 40, both sexes (deaths under age 40 per 1,000 live births)',\n",
       "       'Male Mortality before Age 40 (deaths under age 40 per 1,000 male live births)',\n",
       "       'Female Mortality before Age 40 (deaths under age 40 per 1,000 female live births)',\n",
       "       'Mortality before Age 60, both sexes (deaths under age 60 per 1,000 live births)',\n",
       "       'Male Mortality before Age 60 (deaths under age 60 per 1,000 male live births)',\n",
       "       'Female Mortality before Age 60 (deaths under age 60 per 1,000 female live births)',\n",
       "       'Mortality between Age 15 and 50, both sexes (deaths under age 50 per 1,000 alive at age 15)',\n",
       "       'Male Mortality between Age 15 and 50 (deaths under age 50 per 1,000 males alive at age 15)',\n",
       "       'Female Mortality between Age 15 and 50 (deaths under age 50 per 1,000 females alive at age 15)',\n",
       "       'Mortality between Age 15 and 60, both sexes (deaths under age 60 per 1,000 alive at age 15)',\n",
       "       'Male Mortality between Age 15 and 60 (deaths under age 60 per 1,000 males alive at age 15)',\n",
       "       'Female Mortality between Age 15 and 60 (deaths under age 60 per 1,000 females alive at age 15)',\n",
       "       'Net Number of Migrants (thousands)',\n",
       "       'Net Migration Rate (per 1,000 population)'],\n",
       "      dtype='object')"
      ]
     },
     "execution_count": 7,
     "metadata": {},
     "output_type": "execute_result"
    }
   ],
   "source": [
    "demographic_df.columns"
   ]
  },
  {
   "cell_type": "code",
   "execution_count": 8,
   "id": "94aa43d5-a269-488f-be0c-8f5363990cb7",
   "metadata": {},
   "outputs": [],
   "source": [
    "required_columns = [\n",
    "    \"Region, subregion, country or area *\",\n",
    "    'Year',\n",
    "    \"Total Population, as of 1 July (thousands)\",\n",
    "    \"Births (thousands)\",\n",
    "    \"Total Deaths (thousands)\"\n",
    "]"
   ]
  },
  {
   "cell_type": "code",
   "execution_count": 29,
   "id": "088a5a32-86d6-4d0c-8496-d94d5e09de42",
   "metadata": {},
   "outputs": [
    {
     "data": {
      "text/html": [
       "<div>\n",
       "<style scoped>\n",
       "    .dataframe tbody tr th:only-of-type {\n",
       "        vertical-align: middle;\n",
       "    }\n",
       "\n",
       "    .dataframe tbody tr th {\n",
       "        vertical-align: top;\n",
       "    }\n",
       "\n",
       "    .dataframe thead th {\n",
       "        text-align: right;\n",
       "    }\n",
       "</style>\n",
       "<table border=\"1\" class=\"dataframe\">\n",
       "  <thead>\n",
       "    <tr style=\"text-align: right;\">\n",
       "      <th></th>\n",
       "      <th>Region, subregion, country or area *</th>\n",
       "      <th>Year</th>\n",
       "      <th>Total Population, as of 1 July (thousands)</th>\n",
       "      <th>Births (thousands)</th>\n",
       "      <th>Total Deaths (thousands)</th>\n",
       "    </tr>\n",
       "  </thead>\n",
       "  <tbody>\n",
       "    <tr>\n",
       "      <th>0</th>\n",
       "      <td>World</td>\n",
       "      <td>1950.0</td>\n",
       "      <td>2 493 093</td>\n",
       "      <td>91 824</td>\n",
       "      <td>48 487</td>\n",
       "    </tr>\n",
       "    <tr>\n",
       "      <th>1</th>\n",
       "      <td>World</td>\n",
       "      <td>1951.0</td>\n",
       "      <td>2 536 927</td>\n",
       "      <td>92 507</td>\n",
       "      <td>48 176</td>\n",
       "    </tr>\n",
       "    <tr>\n",
       "      <th>2</th>\n",
       "      <td>World</td>\n",
       "      <td>1952.0</td>\n",
       "      <td>2 584 086</td>\n",
       "      <td>97 371</td>\n",
       "      <td>47 383</td>\n",
       "    </tr>\n",
       "    <tr>\n",
       "      <th>3</th>\n",
       "      <td>World</td>\n",
       "      <td>1953.0</td>\n",
       "      <td>2 634 106</td>\n",
       "      <td>97 291</td>\n",
       "      <td>47 240</td>\n",
       "    </tr>\n",
       "    <tr>\n",
       "      <th>4</th>\n",
       "      <td>World</td>\n",
       "      <td>1954.0</td>\n",
       "      <td>2 685 895</td>\n",
       "      <td>100 188</td>\n",
       "      <td>46 662</td>\n",
       "    </tr>\n",
       "    <tr>\n",
       "      <th>...</th>\n",
       "      <td>...</td>\n",
       "      <td>...</td>\n",
       "      <td>...</td>\n",
       "      <td>...</td>\n",
       "      <td>...</td>\n",
       "    </tr>\n",
       "    <tr>\n",
       "      <th>3991</th>\n",
       "      <td>Zambia</td>\n",
       "      <td>2019.0</td>\n",
       "      <td>18 514</td>\n",
       "      <td>648</td>\n",
       "      <td>120</td>\n",
       "    </tr>\n",
       "    <tr>\n",
       "      <th>3992</th>\n",
       "      <td>Zambia</td>\n",
       "      <td>2020.0</td>\n",
       "      <td>19 059</td>\n",
       "      <td>656</td>\n",
       "      <td>119</td>\n",
       "    </tr>\n",
       "    <tr>\n",
       "      <th>3993</th>\n",
       "      <td>Zambia</td>\n",
       "      <td>2021.0</td>\n",
       "      <td>19 604</td>\n",
       "      <td>665</td>\n",
       "      <td>130</td>\n",
       "    </tr>\n",
       "    <tr>\n",
       "      <th>3994</th>\n",
       "      <td>Zambia</td>\n",
       "      <td>2022.0</td>\n",
       "      <td>20 153</td>\n",
       "      <td>676</td>\n",
       "      <td>113</td>\n",
       "    </tr>\n",
       "    <tr>\n",
       "      <th>3995</th>\n",
       "      <td>Zambia</td>\n",
       "      <td>2023.0</td>\n",
       "      <td>20 724</td>\n",
       "      <td>686</td>\n",
       "      <td>108</td>\n",
       "    </tr>\n",
       "  </tbody>\n",
       "</table>\n",
       "<p>3996 rows × 5 columns</p>\n",
       "</div>"
      ],
      "text/plain": [
       "     Region, subregion, country or area *    Year  \\\n",
       "0                                   World  1950.0   \n",
       "1                                   World  1951.0   \n",
       "2                                   World  1952.0   \n",
       "3                                   World  1953.0   \n",
       "4                                   World  1954.0   \n",
       "...                                   ...     ...   \n",
       "3991                               Zambia  2019.0   \n",
       "3992                               Zambia  2020.0   \n",
       "3993                               Zambia  2021.0   \n",
       "3994                               Zambia  2022.0   \n",
       "3995                               Zambia  2023.0   \n",
       "\n",
       "     Total Population, as of 1 July (thousands) Births (thousands)  \\\n",
       "0                                     2 493 093             91 824   \n",
       "1                                     2 536 927             92 507   \n",
       "2                                     2 584 086             97 371   \n",
       "3                                     2 634 106             97 291   \n",
       "4                                     2 685 895            100 188   \n",
       "...                                         ...                ...   \n",
       "3991                                     18 514                648   \n",
       "3992                                     19 059                656   \n",
       "3993                                     19 604                665   \n",
       "3994                                     20 153                676   \n",
       "3995                                     20 724                686   \n",
       "\n",
       "     Total Deaths (thousands)  \n",
       "0                      48 487  \n",
       "1                      48 176  \n",
       "2                      47 383  \n",
       "3                      47 240  \n",
       "4                      46 662  \n",
       "...                       ...  \n",
       "3991                      120  \n",
       "3992                      119  \n",
       "3993                      130  \n",
       "3994                      113  \n",
       "3995                      108  \n",
       "\n",
       "[3996 rows x 5 columns]"
      ]
     },
     "execution_count": 29,
     "metadata": {},
     "output_type": "execute_result"
    }
   ],
   "source": [
    "demographic_df=demographic_df[required_columns].dropna()\n",
    "demographic_df"
   ]
  },
  {
   "cell_type": "code",
   "execution_count": 30,
   "id": "043c4bb2-8fe5-41a0-bb66-0d0df6627bcf",
   "metadata": {},
   "outputs": [
    {
     "data": {
      "text/plain": [
       "Region, subregion, country or area *           object\n",
       "Year                                          float64\n",
       "Total Population, as of 1 July (thousands)     object\n",
       "Births (thousands)                             object\n",
       "Total Deaths (thousands)                       object\n",
       "dtype: object"
      ]
     },
     "execution_count": 30,
     "metadata": {},
     "output_type": "execute_result"
    }
   ],
   "source": [
    "demographic_df.dtypes"
   ]
  },
  {
   "cell_type": "code",
   "execution_count": 35,
   "id": "7cc58b36-71e5-45e1-87d8-f6f68a044f00",
   "metadata": {},
   "outputs": [],
   "source": [
    "# change year to int\n",
    "demographic_df['Year']=demographic_df['Year'].astype(int)\n",
    "\n",
    "# Change the following columns to float\n",
    "columns = [\n",
    "    'Total Population, as of 1 July (thousands)',\n",
    "    'Births (thousands)',\n",
    "    'Total Deaths (thousands)'\n",
    "]\n",
    "\n",
    "for col in columns:\n",
    "    demographic_df[col] = (demographic_df[col].replace(' ', '', regex=True).astype(float))"
   ]
  },
  {
   "cell_type": "code",
   "execution_count": 36,
   "id": "c11ac3a7-b1fa-4f62-a168-7b6bda1d777d",
   "metadata": {},
   "outputs": [
    {
     "data": {
      "text/plain": [
       "Region, subregion, country or area *           object\n",
       "Year                                            int32\n",
       "Total Population, as of 1 July (thousands)    float64\n",
       "Births (thousands)                            float64\n",
       "Total Deaths (thousands)                      float64\n",
       "dtype: object"
      ]
     },
     "execution_count": 36,
     "metadata": {},
     "output_type": "execute_result"
    }
   ],
   "source": [
    "demographic_df.dtypes"
   ]
  },
  {
   "cell_type": "code",
   "execution_count": 39,
   "id": "ee559218-c26c-4cb0-a35a-398cca707585",
   "metadata": {},
   "outputs": [],
   "source": [
    "demographic_clean_df=demographic_df.copy()"
   ]
  },
  {
   "cell_type": "code",
   "execution_count": 41,
   "id": "b7390e5a-19b0-477b-a158-6d6bf7357a38",
   "metadata": {},
   "outputs": [
    {
     "data": {
      "text/html": [
       "<div>\n",
       "<style scoped>\n",
       "    .dataframe tbody tr th:only-of-type {\n",
       "        vertical-align: middle;\n",
       "    }\n",
       "\n",
       "    .dataframe tbody tr th {\n",
       "        vertical-align: top;\n",
       "    }\n",
       "\n",
       "    .dataframe thead th {\n",
       "        text-align: right;\n",
       "    }\n",
       "</style>\n",
       "<table border=\"1\" class=\"dataframe\">\n",
       "  <thead>\n",
       "    <tr style=\"text-align: right;\">\n",
       "      <th></th>\n",
       "      <th>Region, subregion, country or area *</th>\n",
       "      <th>Year</th>\n",
       "      <th>Total Population, as of 1 July (thousands)</th>\n",
       "      <th>Births (thousands)</th>\n",
       "      <th>Total Deaths (thousands)</th>\n",
       "    </tr>\n",
       "  </thead>\n",
       "  <tbody>\n",
       "    <tr>\n",
       "      <th>0</th>\n",
       "      <td>World</td>\n",
       "      <td>1950</td>\n",
       "      <td>2493093.0</td>\n",
       "      <td>91824.0</td>\n",
       "      <td>48487.0</td>\n",
       "    </tr>\n",
       "    <tr>\n",
       "      <th>1</th>\n",
       "      <td>World</td>\n",
       "      <td>1951</td>\n",
       "      <td>2536927.0</td>\n",
       "      <td>92507.0</td>\n",
       "      <td>48176.0</td>\n",
       "    </tr>\n",
       "    <tr>\n",
       "      <th>2</th>\n",
       "      <td>World</td>\n",
       "      <td>1952</td>\n",
       "      <td>2584086.0</td>\n",
       "      <td>97371.0</td>\n",
       "      <td>47383.0</td>\n",
       "    </tr>\n",
       "    <tr>\n",
       "      <th>3</th>\n",
       "      <td>World</td>\n",
       "      <td>1953</td>\n",
       "      <td>2634106.0</td>\n",
       "      <td>97291.0</td>\n",
       "      <td>47240.0</td>\n",
       "    </tr>\n",
       "    <tr>\n",
       "      <th>4</th>\n",
       "      <td>World</td>\n",
       "      <td>1954</td>\n",
       "      <td>2685895.0</td>\n",
       "      <td>100188.0</td>\n",
       "      <td>46662.0</td>\n",
       "    </tr>\n",
       "    <tr>\n",
       "      <th>...</th>\n",
       "      <td>...</td>\n",
       "      <td>...</td>\n",
       "      <td>...</td>\n",
       "      <td>...</td>\n",
       "      <td>...</td>\n",
       "    </tr>\n",
       "    <tr>\n",
       "      <th>3991</th>\n",
       "      <td>Zambia</td>\n",
       "      <td>2019</td>\n",
       "      <td>18514.0</td>\n",
       "      <td>648.0</td>\n",
       "      <td>120.0</td>\n",
       "    </tr>\n",
       "    <tr>\n",
       "      <th>3992</th>\n",
       "      <td>Zambia</td>\n",
       "      <td>2020</td>\n",
       "      <td>19059.0</td>\n",
       "      <td>656.0</td>\n",
       "      <td>119.0</td>\n",
       "    </tr>\n",
       "    <tr>\n",
       "      <th>3993</th>\n",
       "      <td>Zambia</td>\n",
       "      <td>2021</td>\n",
       "      <td>19604.0</td>\n",
       "      <td>665.0</td>\n",
       "      <td>130.0</td>\n",
       "    </tr>\n",
       "    <tr>\n",
       "      <th>3994</th>\n",
       "      <td>Zambia</td>\n",
       "      <td>2022</td>\n",
       "      <td>20153.0</td>\n",
       "      <td>676.0</td>\n",
       "      <td>113.0</td>\n",
       "    </tr>\n",
       "    <tr>\n",
       "      <th>3995</th>\n",
       "      <td>Zambia</td>\n",
       "      <td>2023</td>\n",
       "      <td>20724.0</td>\n",
       "      <td>686.0</td>\n",
       "      <td>108.0</td>\n",
       "    </tr>\n",
       "  </tbody>\n",
       "</table>\n",
       "<p>3996 rows × 5 columns</p>\n",
       "</div>"
      ],
      "text/plain": [
       "     Region, subregion, country or area *  Year  \\\n",
       "0                                   World  1950   \n",
       "1                                   World  1951   \n",
       "2                                   World  1952   \n",
       "3                                   World  1953   \n",
       "4                                   World  1954   \n",
       "...                                   ...   ...   \n",
       "3991                               Zambia  2019   \n",
       "3992                               Zambia  2020   \n",
       "3993                               Zambia  2021   \n",
       "3994                               Zambia  2022   \n",
       "3995                               Zambia  2023   \n",
       "\n",
       "      Total Population, as of 1 July (thousands)  Births (thousands)  \\\n",
       "0                                      2493093.0             91824.0   \n",
       "1                                      2536927.0             92507.0   \n",
       "2                                      2584086.0             97371.0   \n",
       "3                                      2634106.0             97291.0   \n",
       "4                                      2685895.0            100188.0   \n",
       "...                                          ...                 ...   \n",
       "3991                                     18514.0               648.0   \n",
       "3992                                     19059.0               656.0   \n",
       "3993                                     19604.0               665.0   \n",
       "3994                                     20153.0               676.0   \n",
       "3995                                     20724.0               686.0   \n",
       "\n",
       "      Total Deaths (thousands)  \n",
       "0                      48487.0  \n",
       "1                      48176.0  \n",
       "2                      47383.0  \n",
       "3                      47240.0  \n",
       "4                      46662.0  \n",
       "...                        ...  \n",
       "3991                     120.0  \n",
       "3992                     119.0  \n",
       "3993                     130.0  \n",
       "3994                     113.0  \n",
       "3995                     108.0  \n",
       "\n",
       "[3996 rows x 5 columns]"
      ]
     },
     "execution_count": 41,
     "metadata": {},
     "output_type": "execute_result"
    }
   ],
   "source": [
    "demographic_clean_df"
   ]
  },
  {
   "cell_type": "markdown",
   "id": "4452018d-2d89-4143-a7e0-1570ab7912ab",
   "metadata": {},
   "source": [
    "### 1. Find the World’s total Population’s as of 1 July (in thousands) in 2023"
   ]
  },
  {
   "cell_type": "code",
   "execution_count": 89,
   "id": "a325236c-43ff-4d3b-8ee8-01d3d093c026",
   "metadata": {},
   "outputs": [
    {
     "name": "stdout",
     "output_type": "stream",
     "text": [
      "8091735\n"
     ]
    }
   ],
   "source": [
    "#demographic_clean_df[demographic_clean_df[\"Region, subregion, country or area *\"]=='World'].where(['Year']==2023)\n",
    "# Filter for the World in 2023\n",
    "world_pop_2023 = demographic_clean_df[\n",
    "    (demographic_clean_df['Region, subregion, country or area *'] == 'World') & \\\n",
    "    (demographic_clean_df['Year'] == 2023)]['Total Population, as of 1 July (thousands)']\n",
    "\n",
    "print(int(world_pop_2023.values[0])) # population cannot be float"
   ]
  },
  {
   "cell_type": "markdown",
   "id": "64ea218b-6412-40d3-a386-52b5041974a8",
   "metadata": {},
   "source": [
    "### 2. Find the mean Births (thousands) of Kenya from 1950 to 2023"
   ]
  },
  {
   "cell_type": "code",
   "execution_count": 88,
   "id": "6e48e1c1-4546-44ac-9003-ff78b394409c",
   "metadata": {},
   "outputs": [
    {
     "name": "stdout",
     "output_type": "stream",
     "text": [
      "24004\n"
     ]
    }
   ],
   "source": [
    "# filter Kenyan Births from 1950 to 2023 and find the mean\n",
    "births_in_kenya=demographic_clean_df[(demographic_clean_df['Region, subregion, country or area *'] == 'Kenya') & \\\n",
    "                (demographic_clean_df['Year'] <= 2023)]['Total Population, as of 1 July (thousands)'].mean()\n",
    "print(int(births_in_kenya))"
   ]
  },
  {
   "cell_type": "markdown",
   "id": "3643e94d-b329-4f66-b58b-dd70f9f501ac",
   "metadata": {},
   "source": [
    "### 3. Find the proportion of the Mean Births(thousands) to the Total Population of July (thousands) in Kenya."
   ]
  },
  {
   "cell_type": "code",
   "execution_count": 93,
   "id": "f957e0c0-d93f-4005-a197-27f7afa55888",
   "metadata": {},
   "outputs": [
    {
     "data": {
      "text/plain": [
       "0.03897"
      ]
     },
     "execution_count": 93,
     "metadata": {},
     "output_type": "execute_result"
    }
   ],
   "source": [
    "# filter data for Kenya\n",
    "kenya_demo_df = demographic_df[demographic_df['Region, subregion, country or area *'] == 'Kenya']\n",
    "\n",
    "# mean values\n",
    "mean_births = kenya_demo_df['Births (thousands)'].mean()\n",
    "mean_population = kenya_demo_df['Total Population, as of 1 July (thousands)'].mean()\n",
    "\n",
    "# proportion\n",
    "proportion = mean_births / mean_population\n",
    "round(proportion,5)"
   ]
  },
  {
   "cell_type": "markdown",
   "id": "77c4526d-b0d1-4eff-b7fc-a3036c175d4b",
   "metadata": {},
   "source": [
    "### 4. Using 95% percent confidence interval, find the figures within which the proportion above will lie.\n",
    "5.\tFind the correlation between the Births(thousands) and Total Deaths (thousands) in Kenya from 1950 to 2023. Interpret your results.\n",
    "6.\tTake a simple random sample of size 16 in Kenya and size 20 in Uganda and\n",
    "- i). Compare their mean\n",
    "- ii). Compare their median\n",
    "- iii). Determine if there is a statistical difference in their\n",
    "    a). mean\n",
    "    b). Their median"
   ]
  },
  {
   "cell_type": "code",
   "execution_count": 10,
   "id": "476c73f4-43ab-4656-9546-b54aeafa9d41",
   "metadata": {},
   "outputs": [
    {
     "data": {
      "text/plain": [
       "np.float64(127.92)"
      ]
     },
     "execution_count": 10,
     "metadata": {},
     "output_type": "execute_result"
    }
   ],
   "source": [
    "# commission fee sample column\n",
    "com_fee_sample=sample[\"Commission Fee\"]\n",
    "\n",
    "# sample mean\n",
    "com_fee_sample.mean()"
   ]
  },
  {
   "cell_type": "code",
   "execution_count": 11,
   "id": "60a779f4-f89c-43a1-b596-19d6cff5aba3",
   "metadata": {},
   "outputs": [
    {
     "name": "stdout",
     "output_type": "stream",
     "text": [
      "CI for the sample is: (118.92, 136.74)\n"
     ]
    }
   ],
   "source": [
    "# calculate 95% confidence interval for the sample mean\n",
    "def confidence_interval(data_array, confidence):\n",
    "    data=np.array(data_array)\n",
    "    sample_size=len(data)\n",
    "    mean=np.mean(data)\n",
    "    sample_std=np.std(data, ddof=1)\n",
    "    error=sample_std/np.sqrt(sample_size) # standard error\n",
    "    z_value=norm.ppf((1+confidence /100) / 2) # z_value\n",
    "    \n",
    "    return (mean -round(z_value*error), mean +(z_value*error))\n",
    "    \n",
    "lower, upper = confidence_interval (com_fee_sample, 95)\n",
    "\n",
    "print(f'CI for the sample is: ({lower:.2f}, {upper:.2f})')"
   ]
  }
 ],
 "metadata": {
  "kernelspec": {
   "display_name": "Python 3 (ipykernel)",
   "language": "python",
   "name": "python3"
  },
  "language_info": {
   "codemirror_mode": {
    "name": "ipython",
    "version": 3
   },
   "file_extension": ".py",
   "mimetype": "text/x-python",
   "name": "python",
   "nbconvert_exporter": "python",
   "pygments_lexer": "ipython3",
   "version": "3.12.7"
  }
 },
 "nbformat": 4,
 "nbformat_minor": 5
}
