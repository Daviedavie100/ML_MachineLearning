{
 "cells": [
  {
   "cell_type": "markdown",
   "id": "cd7c7f0b-6b32-499d-b4d6-bc68155210a8",
   "metadata": {},
   "source": [
    "## Overview of Python for Data Science"
   ]
  },
  {
   "cell_type": "markdown",
   "id": "5eed3d9a-0684-4335-885f-c7a57a938a1a",
   "metadata": {},
   "source": [
    "# HOW TO USE USE MARKDOWN TO WRITE NOTES\n",
    "## welcome home\n",
    "### welcome home\n",
    "#### welcome home\n",
    "**welcome home**\n",
    "\n",
    "*welcome home*\n",
    "\n",
    "```\n",
    "Come home\n",
    "   Yes come\n",
    "```\n",
    "\n",
    "`x for all x in A`\n",
    "\n",
    "$\\displaystyle{\\int_a^b f(x) dx}$"
   ]
  },
  {
   "cell_type": "markdown",
   "id": "9eb368cf-a895-4490-aaa8-bed4f8953c32",
   "metadata": {},
   "source": [
    "#### Variables"
   ]
  },
  {
   "cell_type": "code",
   "execution_count": 1,
   "id": "52abb4b0-d10a-4cfc-afbd-5aff719216a0",
   "metadata": {},
   "outputs": [
    {
     "data": {
      "text/plain": [
       "4"
      ]
     },
     "execution_count": 1,
     "metadata": {},
     "output_type": "execute_result"
    }
   ],
   "source": [
    "var=4 \n",
    "var"
   ]
  },
  {
   "cell_type": "code",
   "execution_count": 2,
   "id": "686d8a44-96d6-47a4-b3b0-4dfda5d6b4f8",
   "metadata": {},
   "outputs": [
    {
     "name": "stdout",
     "output_type": "stream",
     "text": [
      "4\n"
     ]
    }
   ],
   "source": [
    "print(var)"
   ]
  },
  {
   "cell_type": "code",
   "execution_count": 3,
   "id": "861952ab-dc08-48cc-9c48-b75be0ccb6ae",
   "metadata": {},
   "outputs": [],
   "source": [
    "cl_m=\"class members in MSTA 1106\""
   ]
  },
  {
   "cell_type": "code",
   "execution_count": 4,
   "id": "af88ad11-4cf9-4f8a-885a-609e8c9372f1",
   "metadata": {},
   "outputs": [
    {
     "name": "stdout",
     "output_type": "stream",
     "text": [
      "class members in MSTA 1106\n"
     ]
    }
   ],
   "source": [
    "print(cl_m)"
   ]
  },
  {
   "cell_type": "code",
   "execution_count": 5,
   "id": "7f4d9ed0-bce4-4a34-b6c0-5a3560e06b8a",
   "metadata": {},
   "outputs": [],
   "source": [
    "cl_m1='class members in MSTA 1106'"
   ]
  },
  {
   "cell_type": "code",
   "execution_count": 6,
   "id": "b0b31c5f-57d8-4c45-b04e-0ce62e6d31cb",
   "metadata": {},
   "outputs": [
    {
     "name": "stdout",
     "output_type": "stream",
     "text": [
      "class members in MSTA 1106\n"
     ]
    }
   ],
   "source": [
    "print(cl_m1)"
   ]
  },
  {
   "cell_type": "markdown",
   "id": "670ab450-fe09-4b81-baa3-673a0401465f",
   "metadata": {},
   "source": [
    "### Comparison\n",
    "\n",
    "* Less than < ,\n",
    "* Greater than > ,\n",
    "* Less than or equal to < =,\n",
    "* Greater than or equal to >=,\n",
    "* Not equal to !=,\n",
    "* Equal to  == "
   ]
  },
  {
   "cell_type": "code",
   "execution_count": 7,
   "id": "a3fe292f-39db-4282-b83b-dc6562b6137b",
   "metadata": {},
   "outputs": [
    {
     "data": {
      "text/plain": [
       "True"
      ]
     },
     "execution_count": 7,
     "metadata": {},
     "output_type": "execute_result"
    }
   ],
   "source": [
    "4 < 8"
   ]
  },
  {
   "cell_type": "code",
   "execution_count": 8,
   "id": "52677ae3-e7f4-4930-a48c-61dac5776725",
   "metadata": {},
   "outputs": [
    {
     "data": {
      "text/plain": [
       "False"
      ]
     },
     "execution_count": 8,
     "metadata": {},
     "output_type": "execute_result"
    }
   ],
   "source": [
    "4 > 8"
   ]
  },
  {
   "cell_type": "code",
   "execution_count": 9,
   "id": "82a234c8-a3ae-419d-9361-6e37b41c3190",
   "metadata": {},
   "outputs": [
    {
     "data": {
      "text/plain": [
       "True"
      ]
     },
     "execution_count": 9,
     "metadata": {},
     "output_type": "execute_result"
    }
   ],
   "source": [
    "4 != 7"
   ]
  },
  {
   "cell_type": "code",
   "execution_count": null,
   "id": "74e97c63-2944-4ae9-9c4a-fc93f4cfb171",
   "metadata": {},
   "outputs": [],
   "source": []
  },
  {
   "cell_type": "code",
   "execution_count": 10,
   "id": "950f9144-04bd-4d1d-9d96-530e07b32963",
   "metadata": {},
   "outputs": [
    {
     "data": {
      "text/plain": [
       "4"
      ]
     },
     "execution_count": 10,
     "metadata": {},
     "output_type": "execute_result"
    }
   ],
   "source": [
    "var"
   ]
  },
  {
   "cell_type": "code",
   "execution_count": 11,
   "id": "91a1aa48-b0e9-4059-aecb-c820f3be79f1",
   "metadata": {},
   "outputs": [],
   "source": [
    "var1=2+2"
   ]
  },
  {
   "cell_type": "code",
   "execution_count": 12,
   "id": "5e312915-0ca8-4ace-8c08-e09160d282a2",
   "metadata": {},
   "outputs": [
    {
     "data": {
      "text/plain": [
       "True"
      ]
     },
     "execution_count": 12,
     "metadata": {},
     "output_type": "execute_result"
    }
   ],
   "source": [
    "var1==var #comparison"
   ]
  },
  {
   "cell_type": "code",
   "execution_count": 13,
   "id": "a0a99517-efee-407d-a577-b5a4a181fd63",
   "metadata": {},
   "outputs": [
    {
     "data": {
      "text/plain": [
       "False"
      ]
     },
     "execution_count": 13,
     "metadata": {},
     "output_type": "execute_result"
    }
   ],
   "source": [
    "var1==2"
   ]
  },
  {
   "cell_type": "code",
   "execution_count": 14,
   "id": "136b0638-cbef-4c5d-963c-86edc7de86f3",
   "metadata": {},
   "outputs": [],
   "source": [
    "a=5+4+1"
   ]
  },
  {
   "cell_type": "code",
   "execution_count": 16,
   "id": "d10f854b-ac54-4674-b016-f9efd1765a2e",
   "metadata": {},
   "outputs": [
    {
     "data": {
      "text/plain": [
       "True"
      ]
     },
     "execution_count": 16,
     "metadata": {},
     "output_type": "execute_result"
    }
   ],
   "source": [
    "a==10"
   ]
  },
  {
   "cell_type": "code",
   "execution_count": 19,
   "id": "1804d3a2-2718-4b74-9690-b441fadc537b",
   "metadata": {},
   "outputs": [
    {
     "data": {
      "text/plain": [
       "1"
      ]
     },
     "execution_count": 19,
     "metadata": {},
     "output_type": "execute_result"
    }
   ],
   "source": [
    "int(a==10) #change it into integer"
   ]
  },
  {
   "cell_type": "code",
   "execution_count": 16,
   "id": "bf2435f5-7dac-4886-95dd-e2f0c1a20279",
   "metadata": {},
   "outputs": [
    {
     "data": {
      "text/plain": [
       "False"
      ]
     },
     "execution_count": 16,
     "metadata": {},
     "output_type": "execute_result"
    }
   ],
   "source": [
    "a==2"
   ]
  },
  {
   "cell_type": "markdown",
   "id": "6eb632a3-d122-4002-947c-828259a7cbe3",
   "metadata": {},
   "source": [
    "#### Logical operators\n",
    "not, and, or"
   ]
  },
  {
   "cell_type": "code",
   "execution_count": null,
   "id": "b6cc679b-29c2-437a-9b14-d815d9b54230",
   "metadata": {},
   "outputs": [],
   "source": []
  },
  {
   "cell_type": "markdown",
   "id": "087bf102-bccb-4ffb-ab60-6c8afcdfa548",
   "metadata": {},
   "source": [
    "### Data types and Operations\n",
    "* Data Types: Integers, Floats, Booleans, Strings\n",
    "* \n",
    "Operators: Arithmetic, Assignment, Comparison, Logical"
   ]
  },
  {
   "cell_type": "code",
   "execution_count": 20,
   "id": "30afc4f5-5159-49b4-9a15-b1cbc7a63cb1",
   "metadata": {},
   "outputs": [
    {
     "data": {
      "text/plain": [
       "int"
      ]
     },
     "execution_count": 20,
     "metadata": {},
     "output_type": "execute_result"
    }
   ],
   "source": [
    "type(22) #whole number   "
   ]
  },
  {
   "cell_type": "code",
   "execution_count": 18,
   "id": "b0a959e3-4b7c-40e7-9efa-6408fdc96f2d",
   "metadata": {},
   "outputs": [
    {
     "data": {
      "text/plain": [
       "str"
      ]
     },
     "execution_count": 18,
     "metadata": {},
     "output_type": "execute_result"
    }
   ],
   "source": [
    "type('2')"
   ]
  },
  {
   "cell_type": "code",
   "execution_count": 21,
   "id": "d0a57269-01aa-47d7-8aa4-54c197717608",
   "metadata": {},
   "outputs": [
    {
     "data": {
      "text/plain": [
       "bool"
      ]
     },
     "execution_count": 21,
     "metadata": {},
     "output_type": "execute_result"
    }
   ],
   "source": [
    "type(True) #Booleans: True , False"
   ]
  },
  {
   "cell_type": "code",
   "execution_count": 22,
   "id": "f5c86923-d8d8-4d49-b417-aa6e0d3dd703",
   "metadata": {},
   "outputs": [
    {
     "data": {
      "text/plain": [
       "float"
      ]
     },
     "execution_count": 22,
     "metadata": {},
     "output_type": "execute_result"
    }
   ],
   "source": [
    "type(2.0) #float, decimal number"
   ]
  },
  {
   "cell_type": "code",
   "execution_count": 23,
   "id": "6990e58c-80b2-479f-8b45-93d295f68fb4",
   "metadata": {},
   "outputs": [],
   "source": [
    "number=\"2\""
   ]
  },
  {
   "cell_type": "code",
   "execution_count": 24,
   "id": "cf94abb9-ca89-4d1a-a6a8-51d4d3512f62",
   "metadata": {},
   "outputs": [
    {
     "name": "stdout",
     "output_type": "stream",
     "text": [
      "2\n"
     ]
    }
   ],
   "source": [
    "print(number)"
   ]
  },
  {
   "cell_type": "code",
   "execution_count": 25,
   "id": "dbbc3a87-9020-4936-8ac9-636668f26221",
   "metadata": {},
   "outputs": [
    {
     "data": {
      "text/plain": [
       "str"
      ]
     },
     "execution_count": 25,
     "metadata": {},
     "output_type": "execute_result"
    }
   ],
   "source": [
    "type(number)"
   ]
  },
  {
   "cell_type": "code",
   "execution_count": 26,
   "id": "1d1c0a89-05d6-4a66-9aad-89051dadd8e9",
   "metadata": {},
   "outputs": [
    {
     "data": {
      "text/plain": [
       "int"
      ]
     },
     "execution_count": 26,
     "metadata": {},
     "output_type": "execute_result"
    }
   ],
   "source": [
    "type(int(number)) #convert to integer"
   ]
  },
  {
   "cell_type": "code",
   "execution_count": 29,
   "id": "0221b058-0ca1-4ede-8dc8-752d2a06ce18",
   "metadata": {},
   "outputs": [
    {
     "data": {
      "text/plain": [
       "18"
      ]
     },
     "execution_count": 29,
     "metadata": {},
     "output_type": "execute_result"
    }
   ],
   "source": [
    "int(\"18\")"
   ]
  },
  {
   "cell_type": "code",
   "execution_count": 30,
   "id": "44d82add-5396-4dd5-b675-33be10462fbf",
   "metadata": {},
   "outputs": [
    {
     "data": {
      "text/plain": [
       "0"
      ]
     },
     "execution_count": 30,
     "metadata": {},
     "output_type": "execute_result"
    }
   ],
   "source": [
    "int(False)"
   ]
  },
  {
   "cell_type": "markdown",
   "id": "a958546a-1b2a-4ca5-81f9-8f0909c91f13",
   "metadata": {},
   "source": [
    "## Assigment operator"
   ]
  },
  {
   "cell_type": "code",
   "execution_count": 33,
   "id": "395ee955-17af-4f36-8403-5541af334357",
   "metadata": {},
   "outputs": [],
   "source": [
    "a=45\n"
   ]
  },
  {
   "cell_type": "code",
   "execution_count": 32,
   "id": "dfe862a4-a584-4723-99c7-173350122e36",
   "metadata": {},
   "outputs": [
    {
     "data": {
      "text/plain": [
       "int"
      ]
     },
     "execution_count": 32,
     "metadata": {},
     "output_type": "execute_result"
    }
   ],
   "source": [
    "type(a)"
   ]
  },
  {
   "cell_type": "markdown",
   "id": "9963786d-f976-4b9d-888e-7a4272bc17a5",
   "metadata": {},
   "source": [
    "### Arithmetic operators\n",
    "\n",
    "* addition, subtraction, division(integer,float), power, modular division\n",
    "* Built-In Functions, Type Conversion\n",
    "  \n",
    "In this quiz you're going to do some calculations for a tiler. Two parts of a floor need tiling. One part is 9 tiles wide by 7 tiles long, the other is 5 tiles wide by 7 tiles long. Tiles come in packages of 6.\n",
    "* \n",
    "How many tiles are neede\n",
    "\n",
    "* ?\n",
    "You buy 17 packages of tiles containing 6 tiles each. How many tiles will be left over?"
   ]
  },
  {
   "cell_type": "code",
   "execution_count": 44,
   "id": "f3f90fa3-1f12-470e-8167-79e84f1fe7e1",
   "metadata": {},
   "outputs": [
    {
     "name": "stdout",
     "output_type": "stream",
     "text": [
      "a+a= 90 \n",
      " a x 4= 180 \n",
      " a-2= 43 \n",
      "a//5= 6 \n",
      "a/5= 6.428571428571429\n"
     ]
    }
   ],
   "source": [
    "print(\"a+a=\",a+a,'\\n'\" a x 4=\",a*4,'\\n' \" a-2=\",a-2,'\\n' \"a//5=\",a//7,'\\n'\"a/5=\",a/7) \n",
    "#addition,multiplication, subtraction, integer division,float division)"
   ]
  },
  {
   "cell_type": "code",
   "execution_count": null,
   "id": "840bd672-2997-4c11-afe2-4653b36bac7e",
   "metadata": {},
   "outputs": [],
   "source": []
  },
  {
   "cell_type": "code",
   "execution_count": 36,
   "id": "da4c8150-b1cb-4673-b4d9-3667adb3da20",
   "metadata": {},
   "outputs": [
    {
     "data": {
      "text/plain": [
       "2025"
      ]
     },
     "execution_count": 36,
     "metadata": {},
     "output_type": "execute_result"
    }
   ],
   "source": [
    "a**2 #power"
   ]
  },
  {
   "cell_type": "code",
   "execution_count": 37,
   "id": "eb098d3d-a1b5-42b8-bc24-1276999097df",
   "metadata": {},
   "outputs": [
    {
     "data": {
      "text/plain": [
       "3"
      ]
     },
     "execution_count": 37,
     "metadata": {},
     "output_type": "execute_result"
    }
   ],
   "source": [
    "a%7 #remainder after division by 2"
   ]
  },
  {
   "cell_type": "code",
   "execution_count": 38,
   "id": "cbc1b498-d0ec-45f5-ad23-90fbe004666a",
   "metadata": {},
   "outputs": [
    {
     "data": {
      "text/plain": [
       "2"
      ]
     },
     "execution_count": 38,
     "metadata": {},
     "output_type": "execute_result"
    }
   ],
   "source": [
    "20%3"
   ]
  },
  {
   "cell_type": "code",
   "execution_count": null,
   "id": "560e6d01-5597-4b3d-b560-5dab27ac4d51",
   "metadata": {},
   "outputs": [],
   "source": []
  },
  {
   "cell_type": "code",
   "execution_count": null,
   "id": "a4cb9c1d-ed90-4b95-adf2-ce4e44cd7803",
   "metadata": {},
   "outputs": [],
   "source": []
  },
  {
   "cell_type": "markdown",
   "id": "8afc6484-3ab0-492e-bc2c-8df731765bb4",
   "metadata": {},
   "source": [
    "Built-In Functions, Type Conversion\n",
    "\n",
    "Booleans, Comparison Operators, and Logical Operators\n",
    "\n",
    "True, False, ==, <, >, <=, >=, !=,  or and,  not\n"
   ]
  },
  {
   "cell_type": "code",
   "execution_count": null,
   "id": "c04d5bb0-a1c3-4b23-bc4f-2c9626ed617b",
   "metadata": {},
   "outputs": [],
   "source": []
  },
  {
   "cell_type": "markdown",
   "id": "ed539e19-d137-491a-80d4-2b04a6e59442",
   "metadata": {},
   "source": [
    "## Data Structures\n",
    "\n",
    "Lists, tuples, dictionaries, sets\n",
    "\n",
    "List methods: len, sum, sorted, \n"
   ]
  },
  {
   "cell_type": "code",
   "execution_count": 45,
   "id": "3fac1062-acc8-46e4-9e26-3a7c79b2405c",
   "metadata": {},
   "outputs": [],
   "source": [
    "#list\n",
    "names = [\"Carol\", \"Albert\", \"Ben\", \"Donna\"]\n",
    "sb=[2,4,5,6,8,8]\n",
    "list1=[[4,5],['3','come', True, False], 4]"
   ]
  },
  {
   "cell_type": "code",
   "execution_count": 46,
   "id": "bd046212-488a-4701-93f6-f97e08ee0d13",
   "metadata": {},
   "outputs": [
    {
     "data": {
      "text/plain": [
       "['Carol', 'Albert', 'Ben', 'Donna']"
      ]
     },
     "execution_count": 46,
     "metadata": {},
     "output_type": "execute_result"
    }
   ],
   "source": [
    "names"
   ]
  },
  {
   "cell_type": "code",
   "execution_count": 52,
   "id": "ccbbdb1d-a181-4b08-804a-35a8126c58fa",
   "metadata": {},
   "outputs": [
    {
     "name": "stdout",
     "output_type": "stream",
     "text": [
      "names[0]=: Carol ,names[2]=: Ben, names[-1]=: Donna\n"
     ]
    }
   ],
   "source": [
    "print(f\"names[0]=: {names[0]} ,names[2]=: {names[2]}, names[-1]=: {names[-1]}\")"
   ]
  },
  {
   "cell_type": "code",
   "execution_count": 53,
   "id": "8ebb08bc-2349-4e01-a86e-f1afcedbeefb",
   "metadata": {},
   "outputs": [
    {
     "data": {
      "text/plain": [
       "'Ben'"
      ]
     },
     "execution_count": 53,
     "metadata": {},
     "output_type": "execute_result"
    }
   ],
   "source": [
    "names[-2]"
   ]
  },
  {
   "cell_type": "code",
   "execution_count": 58,
   "id": "20e13cdc-6ff4-469f-b30f-2b0f7611a314",
   "metadata": {},
   "outputs": [
    {
     "name": "stdout",
     "output_type": "stream",
     "text": [
      "Carol , Donna\n"
     ]
    }
   ],
   "source": [
    "print(names[0],',', names[3])"
   ]
  },
  {
   "cell_type": "code",
   "execution_count": 59,
   "id": "68ca0546-292b-45f6-9e96-0c99f2657265",
   "metadata": {},
   "outputs": [],
   "source": [
    "names[-1]=3"
   ]
  },
  {
   "cell_type": "code",
   "execution_count": 60,
   "id": "c1d3a3e4-ea50-4d84-baaa-5d80694824fb",
   "metadata": {},
   "outputs": [
    {
     "data": {
      "text/plain": [
       "['Carol', 'Albert', 'Ben', 3]"
      ]
     },
     "execution_count": 60,
     "metadata": {},
     "output_type": "execute_result"
    }
   ],
   "source": [
    "names"
   ]
  },
  {
   "cell_type": "code",
   "execution_count": 61,
   "id": "87ad1fe8-64be-4586-86d2-fbae11607c75",
   "metadata": {},
   "outputs": [
    {
     "data": {
      "text/plain": [
       "'Ben'"
      ]
     },
     "execution_count": 61,
     "metadata": {},
     "output_type": "execute_result"
    }
   ],
   "source": [
    "names[-2]"
   ]
  },
  {
   "cell_type": "code",
   "execution_count": 62,
   "id": "3cd38220-5d3b-45e2-a4fc-c04eaa5fee5f",
   "metadata": {},
   "outputs": [
    {
     "data": {
      "text/plain": [
       "['Carol', 'Albert', 'Ben']"
      ]
     },
     "execution_count": 62,
     "metadata": {},
     "output_type": "execute_result"
    }
   ],
   "source": [
    "names[0:3] #slice from index 0 to 3-1 i.e. 0,1,2"
   ]
  },
  {
   "cell_type": "code",
   "execution_count": 66,
   "id": "69564af9-104d-479b-9276-8dfa448e5e91",
   "metadata": {},
   "outputs": [],
   "source": [
    "sb=[\"first\",\"second\",\"third\",\"fourth\",\"fifth\",\"sixth\",\"seventh\"]"
   ]
  },
  {
   "cell_type": "code",
   "execution_count": 67,
   "id": "2189bc46-93bb-4584-a0ee-1c61ff371f67",
   "metadata": {},
   "outputs": [
    {
     "data": {
      "text/plain": [
       "['first', 'second', 'third', 'fourth']"
      ]
     },
     "execution_count": 67,
     "metadata": {},
     "output_type": "execute_result"
    }
   ],
   "source": [
    "sb[0:4]"
   ]
  },
  {
   "cell_type": "code",
   "execution_count": 68,
   "id": "4fad4a66-cc70-41fb-9683-bdc92b0cb401",
   "metadata": {},
   "outputs": [
    {
     "data": {
      "text/plain": [
       "['first', 'second', 'third', 'fourth']"
      ]
     },
     "execution_count": 68,
     "metadata": {},
     "output_type": "execute_result"
    }
   ],
   "source": [
    "sb[:4]"
   ]
  },
  {
   "cell_type": "code",
   "execution_count": 70,
   "id": "1fdb466c-7c84-4697-8f47-3128793e100a",
   "metadata": {},
   "outputs": [
    {
     "data": {
      "text/plain": [
       "['fifth', 'sixth', 'seventh']"
      ]
     },
     "execution_count": 70,
     "metadata": {},
     "output_type": "execute_result"
    }
   ],
   "source": [
    "sb[4:]"
   ]
  },
  {
   "cell_type": "code",
   "execution_count": 71,
   "id": "aeaa7b22-a2df-41a0-a7f1-4eb616eed0b0",
   "metadata": {},
   "outputs": [
    {
     "data": {
      "text/plain": [
       "['Ben', 3]"
      ]
     },
     "execution_count": 71,
     "metadata": {},
     "output_type": "execute_result"
    }
   ],
   "source": [
    "names[2:]"
   ]
  },
  {
   "cell_type": "code",
   "execution_count": 72,
   "id": "aef34525-563a-468a-bae5-72e78957d14b",
   "metadata": {},
   "outputs": [
    {
     "data": {
      "text/plain": [
       "(['Carol', 'Albert', 'Ben', 3], ['Carol', 'Albert'])"
      ]
     },
     "execution_count": 72,
     "metadata": {},
     "output_type": "execute_result"
    }
   ],
   "source": [
    "names,names[:-2]"
   ]
  },
  {
   "cell_type": "code",
   "execution_count": 91,
   "id": "4811ad0d-5c81-48ce-b524-4bf0d98a5cda",
   "metadata": {},
   "outputs": [
    {
     "data": {
      "text/plain": [
       "['Carol',\n",
       " 'Albert',\n",
       " 'Ben',\n",
       " 3,\n",
       " ['Carol', 'Albert'],\n",
       " ['Carol', 'Albert', 'Ben'],\n",
       " ['Carol', 'Albert', 'Ben', 3],\n",
       " ['first', 'second', 'third', 'fourth', 'fifth'],\n",
       " ['first', 'second', 'third', 'fourth', 'fifth'],\n",
       " 'first',\n",
       " 'second',\n",
       " 'third',\n",
       " 'fourth',\n",
       " 'fifth',\n",
       " 'first',\n",
       " 'second',\n",
       " 'third',\n",
       " 'fourth',\n",
       " 'fifth',\n",
       " 'Carol',\n",
       " 'Albert',\n",
       " ['Carol', 'Albert'],\n",
       " ['Carol', 'Albert', 'newwww'],\n",
       " 'Carol',\n",
       " 'Albert',\n",
       " 'newwww',\n",
       " 'Carol',\n",
       " 'Albert',\n",
       " 'newwww',\n",
       " 'extend']"
      ]
     },
     "execution_count": 91,
     "metadata": {},
     "output_type": "execute_result"
    }
   ],
   "source": [
    "names"
   ]
  },
  {
   "cell_type": "code",
   "execution_count": 90,
   "id": "50b65896-65c6-4cd4-9ac9-e299342fd13b",
   "metadata": {},
   "outputs": [
    {
     "name": "stdout",
     "output_type": "stream",
     "text": [
      "None\n"
     ]
    }
   ],
   "source": [
    "print(names.extend(['Carol', 'Albert', 'newwww','extend']))"
   ]
  },
  {
   "cell_type": "code",
   "execution_count": 92,
   "id": "0792eae5-90b3-47fd-8f34-c98369eac7fa",
   "metadata": {},
   "outputs": [
    {
     "data": {
      "text/plain": [
       "['Carol',\n",
       " 'Albert',\n",
       " 'Ben',\n",
       " 3,\n",
       " ['Carol', 'Albert'],\n",
       " ['Carol', 'Albert', 'Ben'],\n",
       " ['Carol', 'Albert', 'Ben', 3],\n",
       " ['first', 'second', 'third', 'fourth', 'fifth'],\n",
       " ['first', 'second', 'third', 'fourth', 'fifth'],\n",
       " 'first',\n",
       " 'second',\n",
       " 'third',\n",
       " 'fourth',\n",
       " 'fifth',\n",
       " 'first',\n",
       " 'second',\n",
       " 'third',\n",
       " 'fourth',\n",
       " 'fifth',\n",
       " 'Carol',\n",
       " 'Albert',\n",
       " ['Carol', 'Albert'],\n",
       " ['Carol', 'Albert', 'newwww'],\n",
       " 'Carol',\n",
       " 'Albert',\n",
       " 'newwww',\n",
       " 'Carol',\n",
       " 'Albert',\n",
       " 'newwww',\n",
       " 'extend',\n",
       " 'Carol',\n",
       " 'Albert',\n",
       " 'Ben',\n",
       " 3,\n",
       " ['Carol', 'Albert'],\n",
       " ['Carol', 'Albert', 'Ben'],\n",
       " ['Carol', 'Albert', 'Ben', 3],\n",
       " ['first', 'second', 'third', 'fourth', 'fifth'],\n",
       " ['first', 'second', 'third', 'fourth', 'fifth'],\n",
       " 'first',\n",
       " 'second',\n",
       " 'third',\n",
       " 'fourth',\n",
       " 'fifth',\n",
       " 'first',\n",
       " 'second',\n",
       " 'third',\n",
       " 'fourth',\n",
       " 'fifth',\n",
       " 'Carol',\n",
       " 'Albert',\n",
       " ['Carol', 'Albert'],\n",
       " ['Carol', 'Albert', 'newwww'],\n",
       " 'Carol',\n",
       " 'Albert',\n",
       " 'newwww',\n",
       " 'Carol',\n",
       " 'Albert']"
      ]
     },
     "execution_count": 92,
     "metadata": {},
     "output_type": "execute_result"
    }
   ],
   "source": [
    "names+names[:-2]"
   ]
  },
  {
   "cell_type": "markdown",
   "id": "cb04477c-eb45-47af-9382-c8fbc4a93193",
   "metadata": {},
   "source": [
    "### Tuple"
   ]
  },
  {
   "cell_type": "code",
   "execution_count": 93,
   "id": "53a02718-ccd5-4f97-881a-7344cb39de2d",
   "metadata": {},
   "outputs": [],
   "source": [
    "sb1=(2,4,5,6,8,8)"
   ]
  },
  {
   "cell_type": "code",
   "execution_count": 94,
   "id": "610f3fb8-f387-4ec6-b7f1-de0412d398c5",
   "metadata": {},
   "outputs": [
    {
     "data": {
      "text/plain": [
       "8"
      ]
     },
     "execution_count": 94,
     "metadata": {},
     "output_type": "execute_result"
    }
   ],
   "source": [
    "sb1[-1]"
   ]
  },
  {
   "cell_type": "code",
   "execution_count": 97,
   "id": "55f69bee-a45c-43cd-b6d0-4bd4ae04522c",
   "metadata": {},
   "outputs": [],
   "source": [
    "sb2=sb1[1:]"
   ]
  },
  {
   "cell_type": "code",
   "execution_count": 99,
   "id": "f325ccce-a68c-410f-bf69-787dd1fd46c7",
   "metadata": {},
   "outputs": [
    {
     "data": {
      "text/plain": [
       "[4, 5, 6, 8, 8]"
      ]
     },
     "execution_count": 99,
     "metadata": {},
     "output_type": "execute_result"
    }
   ],
   "source": [
    "list(sb2)"
   ]
  },
  {
   "cell_type": "code",
   "execution_count": 100,
   "id": "6b5e8960-bd14-4c8f-be60-af1f47c8768a",
   "metadata": {},
   "outputs": [
    {
     "data": {
      "text/plain": [
       "6"
      ]
     },
     "execution_count": 100,
     "metadata": {},
     "output_type": "execute_result"
    }
   ],
   "source": [
    "len(sb1)"
   ]
  },
  {
   "cell_type": "markdown",
   "id": "3c53e493-9593-4f68-9875-56b6248b4c20",
   "metadata": {},
   "source": [
    "## sets"
   ]
  },
  {
   "cell_type": "code",
   "execution_count": 101,
   "id": "4f2bfcf8-3e86-4f07-b94e-f1221ad57276",
   "metadata": {},
   "outputs": [],
   "source": [
    "set1=set(sb1)"
   ]
  },
  {
   "cell_type": "code",
   "execution_count": 102,
   "id": "d12f74e5-318d-4fb2-bae7-2b82ba454db2",
   "metadata": {},
   "outputs": [
    {
     "data": {
      "text/plain": [
       "{2, 4, 5, 6, 8}"
      ]
     },
     "execution_count": 102,
     "metadata": {},
     "output_type": "execute_result"
    }
   ],
   "source": [
    "set1"
   ]
  },
  {
   "cell_type": "code",
   "execution_count": 104,
   "id": "3237b69b-634d-4505-afdf-cb789adaedfa",
   "metadata": {
    "scrolled": true
   },
   "outputs": [
    {
     "data": {
      "text/plain": [
       "5"
      ]
     },
     "execution_count": 104,
     "metadata": {},
     "output_type": "execute_result"
    }
   ],
   "source": [
    "len(set1)"
   ]
  },
  {
   "cell_type": "code",
   "execution_count": 107,
   "id": "bfeb5b67-a90b-44c3-a5ed-7171321ef05b",
   "metadata": {},
   "outputs": [
    {
     "data": {
      "text/plain": [
       "(list, tuple, set)"
      ]
     },
     "execution_count": 107,
     "metadata": {},
     "output_type": "execute_result"
    }
   ],
   "source": [
    "type(names),type(sb1),type(set1)"
   ]
  },
  {
   "cell_type": "markdown",
   "id": "08b06e8f-cf01-4d80-a44a-f82f913c6f81",
   "metadata": {},
   "source": [
    "## dictionary"
   ]
  },
  {
   "cell_type": "code",
   "execution_count": 109,
   "id": "5f497f91-d828-434c-a12d-29c99a062e3c",
   "metadata": {},
   "outputs": [],
   "source": [
    "dic1 = {\"a\": 11, \"b\": 12, \"c\": 36, \"v\": True}"
   ]
  },
  {
   "cell_type": "code",
   "execution_count": 110,
   "id": "fc3c0248-b7e5-4f3f-9aa7-f60378a49b0c",
   "metadata": {},
   "outputs": [
    {
     "data": {
      "text/plain": [
       "dict"
      ]
     },
     "execution_count": 110,
     "metadata": {},
     "output_type": "execute_result"
    }
   ],
   "source": [
    "type(dic1)"
   ]
  },
  {
   "cell_type": "code",
   "execution_count": 111,
   "id": "0078fcc1-94d6-43d9-835f-4bcae601de52",
   "metadata": {},
   "outputs": [
    {
     "data": {
      "text/plain": [
       "dict_keys(['a', 'b', 'c', 'v'])"
      ]
     },
     "execution_count": 111,
     "metadata": {},
     "output_type": "execute_result"
    }
   ],
   "source": [
    "dic1.keys()"
   ]
  },
  {
   "cell_type": "code",
   "execution_count": 112,
   "id": "a7f79319-c05c-4c78-80c6-4c229b66ff39",
   "metadata": {},
   "outputs": [
    {
     "data": {
      "text/plain": [
       "dict_values([11, 12, 36, True])"
      ]
     },
     "execution_count": 112,
     "metadata": {},
     "output_type": "execute_result"
    }
   ],
   "source": [
    "dic1.values()"
   ]
  },
  {
   "cell_type": "code",
   "execution_count": 114,
   "id": "72363d91-2a74-4182-a8bf-961529e8742e",
   "metadata": {},
   "outputs": [
    {
     "data": {
      "text/plain": [
       "True"
      ]
     },
     "execution_count": 114,
     "metadata": {},
     "output_type": "execute_result"
    }
   ],
   "source": [
    "dic1['v']"
   ]
  },
  {
   "cell_type": "markdown",
   "id": "5c5c27f7-a1e9-49b9-910d-f0e742edba30",
   "metadata": {},
   "source": [
    "## control flows\n",
    "\n",
    "If statements\n",
    "If, Elif, Else"
   ]
  },
  {
   "cell_type": "code",
   "execution_count": 117,
   "id": "c6a48472-dd84-48bc-9f3b-afdb7f7449fd",
   "metadata": {},
   "outputs": [
    {
     "name": "stdout",
     "output_type": "stream",
     "text": [
      "Proceed with the class\n"
     ]
    }
   ],
   "source": [
    "#if we have 9 students, the class will proceed\n",
    "n=8\n",
    "if n >=5:\n",
    "    print('Proceed with the class')"
   ]
  },
  {
   "cell_type": "code",
   "execution_count": 118,
   "id": "6caa3733-82b4-4610-b930-977f0500f570",
   "metadata": {},
   "outputs": [],
   "source": [
    "n=4\n",
    "if n >= 5:\n",
    "    print('Proceed with the class')"
   ]
  },
  {
   "cell_type": "code",
   "execution_count": null,
   "id": "30ddcfb5-f1b0-4010-bd9b-61a1e3d463cf",
   "metadata": {},
   "outputs": [],
   "source": [
    "#if we have 5 students, the class will proceed otherwise do not"
   ]
  },
  {
   "cell_type": "code",
   "execution_count": 119,
   "id": "7fe11c9a-1e64-4fd2-903d-f3f49e70eeb4",
   "metadata": {},
   "outputs": [
    {
     "name": "stdout",
     "output_type": "stream",
     "text": [
      "Do not proceed with the class\n"
     ]
    }
   ],
   "source": [
    "n=3\n",
    "if n>=5:\n",
    "    print('Proceed with the class')\n",
    "else:\n",
    "    print('Do not proceed with the class')"
   ]
  },
  {
   "cell_type": "code",
   "execution_count": 120,
   "id": "446130eb-00b1-4faf-8092-be4b68fc7ae0",
   "metadata": {},
   "outputs": [
    {
     "name": "stdout",
     "output_type": "stream",
     "text": [
      "Proceed with the class\n"
     ]
    }
   ],
   "source": [
    "n=13\n",
    "if n>=5:\n",
    "    print('Proceed with the class')\n",
    "else:\n",
    "    print('Do not proceed with the class')"
   ]
  },
  {
   "cell_type": "code",
   "execution_count": null,
   "id": "86636229-a005-44e9-b92b-32066879cd85",
   "metadata": {},
   "outputs": [],
   "source": [
    "# grading: F:<40, pass 40 <= x< 50, Second class above 50, first class above or equal to 70  "
   ]
  },
  {
   "cell_type": "code",
   "execution_count": null,
   "id": "7dfb0ef0-bc66-47f4-bac1-2b06f6cf7edb",
   "metadata": {},
   "outputs": [],
   "source": []
  },
  {
   "cell_type": "code",
   "execution_count": 123,
   "id": "14e30107-63bd-413e-a336-af4f14b48d4d",
   "metadata": {
    "scrolled": true
   },
   "outputs": [
    {
     "name": "stdout",
     "output_type": "stream",
     "text": [
      "Second class upper or Lower\n"
     ]
    }
   ],
   "source": [
    "marks= 68\n",
    "if marks <40 and marks>=0:# 0=< marks < 40\n",
    "    print('Fail')\n",
    "elif marks < 50 and marks>=40:  # 40=< marks < 50\n",
    "    print('pass')\n",
    "elif marks < 70 and marks>=50:  # 50=< marks < 70\n",
    "    print('Second class upper or Lower')\n",
    "elif marks < 100 and marks>=70:  # 70=< marks < 100\n",
    "    print('first class')\n",
    "else:\n",
    "    print('Invalid')"
   ]
  },
  {
   "cell_type": "code",
   "execution_count": null,
   "id": "968ea41b-a8f1-47bd-84a4-e3a616851552",
   "metadata": {},
   "outputs": [],
   "source": [
    "# grading: Fail:<40, passed 40 <= x<= 100, (marks > 100) or (marks < 0): Invalid score  "
   ]
  },
  {
   "cell_type": "code",
   "execution_count": null,
   "id": "d2780b7c-8671-4254-91c5-fe26fe092361",
   "metadata": {},
   "outputs": [],
   "source": []
  },
  {
   "cell_type": "markdown",
   "id": "f30b6455-013d-4c30-b99e-d501e4d29dd9",
   "metadata": {},
   "source": [
    "loops\n",
    "For and while loop\n",
    "\n",
    "\n",
    "## Functions"
   ]
  },
  {
   "cell_type": "markdown",
   "id": "e987b740-eb7b-4432-9b43-8d1c5c0aef8c",
   "metadata": {},
   "source": [
    "Population Density Function\n",
    "Write a function named population_density that takes two arguments, population and land_area, and returns a population density calculated from those values.\n",
    "\n",
    "\n",
    "Find area, average, standard deviation, median, mode\n"
   ]
  },
  {
   "cell_type": "code",
   "execution_count": null,
   "id": "a5ef0347-2b65-4fd4-84b3-e8689aa5164d",
   "metadata": {},
   "outputs": [],
   "source": []
  },
  {
   "cell_type": "code",
   "execution_count": 125,
   "id": "3bdcc825-0c58-4900-b10e-cfd29300732c",
   "metadata": {},
   "outputs": [],
   "source": [
    "def add2numbers(a,b):\n",
    "    '''\n",
    "    This function calculates the sum of two numbers and returns a number\n",
    "    Arguments a = number, b=number  \n",
    "    output = sum of the inputs which is an integers or a float\n",
    "    '''\n",
    "    return a+b"
   ]
  },
  {
   "cell_type": "code",
   "execution_count": 130,
   "id": "0bf8cfc2-b2c9-4885-a440-b521a1cd3471",
   "metadata": {},
   "outputs": [],
   "source": [
    "def devde2numbers(a,b):\n",
    "    '''\n",
    "    This function calculates the sum of two numbers and returns a number\n",
    "    Arguments a = number, b=number  \n",
    "    output = sum of the inputs which is an integers or a float\n",
    "    '''\n",
    "    sum=a/b\n",
    "    return sum"
   ]
  },
  {
   "cell_type": "code",
   "execution_count": 135,
   "id": "224044da-bfb0-4edc-8788-19f3b6bf673c",
   "metadata": {},
   "outputs": [],
   "source": [
    "v=add2numbers(10,7)+3"
   ]
  },
  {
   "cell_type": "code",
   "execution_count": 136,
   "id": "438ee5bb-d4c0-471d-8be6-8b310f3c7b54",
   "metadata": {},
   "outputs": [
    {
     "data": {
      "text/plain": [
       "20"
      ]
     },
     "execution_count": 136,
     "metadata": {},
     "output_type": "execute_result"
    }
   ],
   "source": [
    "v"
   ]
  },
  {
   "cell_type": "code",
   "execution_count": 134,
   "id": "0fc1cbc8-99a9-4c40-a2e4-107e51a17055",
   "metadata": {},
   "outputs": [],
   "source": [
    "var2=10+7"
   ]
  },
  {
   "cell_type": "code",
   "execution_count": null,
   "id": "4a9be318-5846-4ff5-b564-94a17ddb178f",
   "metadata": {},
   "outputs": [],
   "source": [
    "var2"
   ]
  },
  {
   "cell_type": "code",
   "execution_count": 137,
   "id": "af1d7831-2d0c-4e6e-ad6c-6b87c63ff994",
   "metadata": {},
   "outputs": [
    {
     "data": {
      "text/plain": [
       "4.8"
      ]
     },
     "execution_count": 137,
     "metadata": {},
     "output_type": "execute_result"
    }
   ],
   "source": [
    "devde2numbers(48,10)"
   ]
  },
  {
   "cell_type": "code",
   "execution_count": 107,
   "id": "a6833979-4fb4-48c2-8da4-8eaa2da23886",
   "metadata": {
    "scrolled": true
   },
   "outputs": [
    {
     "data": {
      "text/plain": [
       "34"
      ]
     },
     "execution_count": 107,
     "metadata": {},
     "output_type": "execute_result"
    }
   ],
   "source": [
    "v+var2"
   ]
  },
  {
   "cell_type": "code",
   "execution_count": null,
   "id": "34736bc1-6435-4e97-9b4b-850e47d0377d",
   "metadata": {},
   "outputs": [],
   "source": [
    "#area of a triangle with base = 24, hypotenuse= 25: \n",
    "#defne the function and class it\n",
    "# area= (base * height)/2\n",
    "#height=(hypotenuse**2 -base**2)**(1/2)"
   ]
  },
  {
   "cell_type": "code",
   "execution_count": 138,
   "id": "95bbbc3e-7e1e-4347-aef3-96eeeb7e2030",
   "metadata": {},
   "outputs": [],
   "source": [
    "def area_of_tri(base,hyp):\n",
    "    hei=(hyp**2 - base**2)**0.5\n",
    "    area=0.5*base*hei\n",
    "    return area,hei"
   ]
  },
  {
   "cell_type": "code",
   "execution_count": 139,
   "id": "23613414-6a83-4993-80b3-84016fba1a17",
   "metadata": {},
   "outputs": [
    {
     "data": {
      "text/plain": [
       "(84.0, 7.0)"
      ]
     },
     "execution_count": 139,
     "metadata": {},
     "output_type": "execute_result"
    }
   ],
   "source": [
    "area_of_tri(24,25)"
   ]
  },
  {
   "cell_type": "code",
   "execution_count": 148,
   "id": "75c3a28d-e28b-488d-9fd7-a2bc9db18962",
   "metadata": {},
   "outputs": [
    {
     "data": {
      "text/plain": [
       "[3, 2, 4, 15, 9, 18, 20]"
      ]
     },
     "execution_count": 148,
     "metadata": {},
     "output_type": "execute_result"
    }
   ],
   "source": [
    "lis=[3,2,4,15,9,18,20]\n",
    "lis"
   ]
  },
  {
   "cell_type": "code",
   "execution_count": 111,
   "id": "f2e9518d-9fff-49dd-991c-d3ec3e78ae22",
   "metadata": {},
   "outputs": [
    {
     "data": {
      "text/plain": [
       "\u001b[1;31mType:\u001b[0m        list\n",
       "\u001b[1;31mString form:\u001b[0m [3, 2, 4, 8, 9, 8]\n",
       "\u001b[1;31mLength:\u001b[0m      6\n",
       "\u001b[1;31mDocstring:\u001b[0m  \n",
       "Built-in mutable sequence.\n",
       "\n",
       "If no argument is given, the constructor creates a new empty list.\n",
       "The argument must be an iterable if specified."
      ]
     },
     "metadata": {},
     "output_type": "display_data"
    }
   ],
   "source": [
    "lis?"
   ]
  },
  {
   "cell_type": "code",
   "execution_count": 112,
   "id": "554be0d8-984e-4eaf-be6e-2557fca3ff0a",
   "metadata": {},
   "outputs": [
    {
     "data": {
      "text/plain": [
       "['__add__',\n",
       " '__class__',\n",
       " '__class_getitem__',\n",
       " '__contains__',\n",
       " '__delattr__',\n",
       " '__delitem__',\n",
       " '__dir__',\n",
       " '__doc__',\n",
       " '__eq__',\n",
       " '__format__',\n",
       " '__ge__',\n",
       " '__getattribute__',\n",
       " '__getitem__',\n",
       " '__getstate__',\n",
       " '__gt__',\n",
       " '__hash__',\n",
       " '__iadd__',\n",
       " '__imul__',\n",
       " '__init__',\n",
       " '__init_subclass__',\n",
       " '__iter__',\n",
       " '__le__',\n",
       " '__len__',\n",
       " '__lt__',\n",
       " '__mul__',\n",
       " '__ne__',\n",
       " '__new__',\n",
       " '__reduce__',\n",
       " '__reduce_ex__',\n",
       " '__repr__',\n",
       " '__reversed__',\n",
       " '__rmul__',\n",
       " '__setattr__',\n",
       " '__setitem__',\n",
       " '__sizeof__',\n",
       " '__str__',\n",
       " '__subclasshook__',\n",
       " 'append',\n",
       " 'clear',\n",
       " 'copy',\n",
       " 'count',\n",
       " 'extend',\n",
       " 'index',\n",
       " 'insert',\n",
       " 'pop',\n",
       " 'remove',\n",
       " 'reverse',\n",
       " 'sort']"
      ]
     },
     "execution_count": 112,
     "metadata": {},
     "output_type": "execute_result"
    }
   ],
   "source": [
    "dir(lis)"
   ]
  },
  {
   "cell_type": "code",
   "execution_count": 114,
   "id": "ec21e196-3def-47f4-8f40-fce4d4266132",
   "metadata": {},
   "outputs": [
    {
     "data": {
      "text/plain": [
       "34"
      ]
     },
     "execution_count": 114,
     "metadata": {},
     "output_type": "execute_result"
    }
   ],
   "source": [
    "s=sum(lis)\n",
    "s"
   ]
  },
  {
   "cell_type": "code",
   "execution_count": 113,
   "id": "28cd1afb-4c82-45fa-b508-eebd664e6134",
   "metadata": {},
   "outputs": [
    {
     "data": {
      "text/plain": [
       "5.666666666666667"
      ]
     },
     "execution_count": 113,
     "metadata": {},
     "output_type": "execute_result"
    }
   ],
   "source": [
    "sum(lis)/len(lis)"
   ]
  },
  {
   "cell_type": "code",
   "execution_count": 115,
   "id": "11248dd0-5193-4b2a-a301-de23a685abe8",
   "metadata": {},
   "outputs": [],
   "source": [
    "def average_f(a_list):\n",
    "    return sum(a_list)/len(a_list)"
   ]
  },
  {
   "cell_type": "code",
   "execution_count": 116,
   "id": "6bf4fc22-7b84-4d40-84df-f2e23064239f",
   "metadata": {},
   "outputs": [
    {
     "data": {
      "text/plain": [
       "5.666666666666667"
      ]
     },
     "execution_count": 116,
     "metadata": {},
     "output_type": "execute_result"
    }
   ],
   "source": [
    "average_f(lis)"
   ]
  },
  {
   "cell_type": "code",
   "execution_count": 117,
   "id": "cef7708b-a4c7-471a-9c6f-f504de44ccd0",
   "metadata": {},
   "outputs": [
    {
     "data": {
      "text/plain": [
       "[3, 2, 4, 8, 9, 8]"
      ]
     },
     "execution_count": 117,
     "metadata": {},
     "output_type": "execute_result"
    }
   ],
   "source": [
    "lis"
   ]
  },
  {
   "cell_type": "code",
   "execution_count": 146,
   "id": "9131485e-42a2-4bda-aac9-87703c211f8d",
   "metadata": {},
   "outputs": [
    {
     "name": "stdout",
     "output_type": "stream",
     "text": [
      "3\n"
     ]
    }
   ],
   "source": [
    "for element in lis:\n",
    "    print(element)\n",
    "    break"
   ]
  },
  {
   "cell_type": "code",
   "execution_count": 152,
   "id": "714e4f5c-6e0a-4113-89bb-df07aee1f9a7",
   "metadata": {},
   "outputs": [
    {
     "name": "stdout",
     "output_type": "stream",
     "text": [
      "15\n"
     ]
    }
   ],
   "source": [
    "for element in lis:\n",
    "    if element % 5 == 0:\n",
    "        print(element)\n",
    "        break\n"
   ]
  },
  {
   "cell_type": "code",
   "execution_count": 155,
   "id": "e583e6f0-cea4-4bd9-9180-d085bfc35654",
   "metadata": {},
   "outputs": [
    {
     "name": "stdout",
     "output_type": "stream",
     "text": [
      "71\n"
     ]
    }
   ],
   "source": [
    "sum1=0\n",
    "for i in lis:\n",
    "    sum1=sum1+i\n",
    "print(sum1)\n",
    "\n"
   ]
  },
  {
   "cell_type": "code",
   "execution_count": 156,
   "id": "becac9f8-9b30-4fff-ad04-ea4060a113f3",
   "metadata": {},
   "outputs": [
    {
     "name": "stdout",
     "output_type": "stream",
     "text": [
      "71\n"
     ]
    }
   ],
   "source": [
    "sum1=0\n",
    "for i in lis:\n",
    "    sum1+=i\n",
    "print(sum1)"
   ]
  },
  {
   "cell_type": "code",
   "execution_count": 157,
   "id": "3377db6e-e8b7-433c-9036-a96177e7a2b9",
   "metadata": {},
   "outputs": [
    {
     "data": {
      "text/plain": [
       "7"
      ]
     },
     "execution_count": 157,
     "metadata": {},
     "output_type": "execute_result"
    }
   ],
   "source": [
    "len(lis)"
   ]
  },
  {
   "cell_type": "code",
   "execution_count": 162,
   "id": "8b6f6d11-1919-47ec-9a6e-f338d61510a9",
   "metadata": {},
   "outputs": [
    {
     "name": "stdout",
     "output_type": "stream",
     "text": [
      "6 : 20\n",
      "5 : 18\n",
      "4 : 9\n"
     ]
    }
   ],
   "source": [
    "n0=len(lis)\n",
    "while n0>4:\n",
    "    n0=n0-1\n",
    "    print(n0,':', lis[n0])"
   ]
  },
  {
   "cell_type": "code",
   "execution_count": 163,
   "id": "1dd42adf-6847-46df-8548-7519bd7ad4bf",
   "metadata": {},
   "outputs": [],
   "source": [
    "import numpy as np #alias\n",
    "import pandas as pd #alias"
   ]
  },
  {
   "cell_type": "code",
   "execution_count": 164,
   "id": "1b93b90d-7dca-4255-9876-03ebdd9e0cf1",
   "metadata": {},
   "outputs": [],
   "source": [
    "lis1=np.array([3,2,4,8,9,8])"
   ]
  },
  {
   "cell_type": "code",
   "execution_count": 165,
   "id": "450fad33-a3df-46a6-9905-e02a1393873b",
   "metadata": {},
   "outputs": [
    {
     "data": {
      "text/plain": [
       "array([3, 2, 4, 8, 9, 8])"
      ]
     },
     "execution_count": 165,
     "metadata": {},
     "output_type": "execute_result"
    }
   ],
   "source": [
    "lis1"
   ]
  },
  {
   "cell_type": "code",
   "execution_count": 166,
   "id": "3fa4abab-827f-448f-8bcf-0ba4b13427b3",
   "metadata": {},
   "outputs": [
    {
     "data": {
      "text/plain": [
       "numpy.ndarray"
      ]
     },
     "execution_count": 166,
     "metadata": {},
     "output_type": "execute_result"
    }
   ],
   "source": [
    "type(lis1)"
   ]
  },
  {
   "cell_type": "code",
   "execution_count": 167,
   "id": "bca364d1-0651-4d06-bdd8-e29ace450ed4",
   "metadata": {},
   "outputs": [],
   "source": [
    "dict2={'names':['james','david','Emmanuel','john'], 'age':[32,26,28,30], 'experience':[3,5,4,6]}"
   ]
  },
  {
   "cell_type": "code",
   "execution_count": 168,
   "id": "906442bf-42b5-411e-a595-1285852ea7fb",
   "metadata": {},
   "outputs": [],
   "source": [
    "df=pd.DataFrame(dict2)"
   ]
  },
  {
   "cell_type": "code",
   "execution_count": 169,
   "id": "01ceae8f-955f-426b-8764-7fd67219c217",
   "metadata": {},
   "outputs": [
    {
     "data": {
      "text/html": [
       "<div>\n",
       "<style scoped>\n",
       "    .dataframe tbody tr th:only-of-type {\n",
       "        vertical-align: middle;\n",
       "    }\n",
       "\n",
       "    .dataframe tbody tr th {\n",
       "        vertical-align: top;\n",
       "    }\n",
       "\n",
       "    .dataframe thead th {\n",
       "        text-align: right;\n",
       "    }\n",
       "</style>\n",
       "<table border=\"1\" class=\"dataframe\">\n",
       "  <thead>\n",
       "    <tr style=\"text-align: right;\">\n",
       "      <th></th>\n",
       "      <th>names</th>\n",
       "      <th>age</th>\n",
       "      <th>experience</th>\n",
       "    </tr>\n",
       "  </thead>\n",
       "  <tbody>\n",
       "    <tr>\n",
       "      <th>0</th>\n",
       "      <td>james</td>\n",
       "      <td>32</td>\n",
       "      <td>3</td>\n",
       "    </tr>\n",
       "    <tr>\n",
       "      <th>1</th>\n",
       "      <td>david</td>\n",
       "      <td>26</td>\n",
       "      <td>5</td>\n",
       "    </tr>\n",
       "    <tr>\n",
       "      <th>2</th>\n",
       "      <td>Emmanuel</td>\n",
       "      <td>28</td>\n",
       "      <td>4</td>\n",
       "    </tr>\n",
       "    <tr>\n",
       "      <th>3</th>\n",
       "      <td>john</td>\n",
       "      <td>30</td>\n",
       "      <td>6</td>\n",
       "    </tr>\n",
       "  </tbody>\n",
       "</table>\n",
       "</div>"
      ],
      "text/plain": [
       "      names  age  experience\n",
       "0     james   32           3\n",
       "1     david   26           5\n",
       "2  Emmanuel   28           4\n",
       "3      john   30           6"
      ]
     },
     "execution_count": 169,
     "metadata": {},
     "output_type": "execute_result"
    }
   ],
   "source": [
    "df"
   ]
  },
  {
   "cell_type": "code",
   "execution_count": 170,
   "id": "65065840-07c8-4092-aa98-a687e7fc3515",
   "metadata": {},
   "outputs": [
    {
     "data": {
      "text/plain": [
       "(4, 3)"
      ]
     },
     "execution_count": 170,
     "metadata": {},
     "output_type": "execute_result"
    }
   ],
   "source": [
    "df.shape"
   ]
  },
  {
   "cell_type": "code",
   "execution_count": 171,
   "id": "9a69e05e-f158-4af4-8666-c873fdecfdd0",
   "metadata": {},
   "outputs": [
    {
     "name": "stdout",
     "output_type": "stream",
     "text": [
      "<class 'pandas.core.frame.DataFrame'>\n",
      "RangeIndex: 4 entries, 0 to 3\n",
      "Data columns (total 3 columns):\n",
      " #   Column      Non-Null Count  Dtype \n",
      "---  ------      --------------  ----- \n",
      " 0   names       4 non-null      object\n",
      " 1   age         4 non-null      int64 \n",
      " 2   experience  4 non-null      int64 \n",
      "dtypes: int64(2), object(1)\n",
      "memory usage: 228.0+ bytes\n"
     ]
    }
   ],
   "source": [
    "df.info()"
   ]
  },
  {
   "cell_type": "code",
   "execution_count": 186,
   "id": "b0e59da7-c6e0-4509-8db4-ec97c9c4d1c4",
   "metadata": {},
   "outputs": [],
   "source": [
    "#import libraries\n",
    "import numpy as np\n",
    "import pandas as pd"
   ]
  },
  {
   "cell_type": "code",
   "execution_count": 173,
   "id": "f980beae-e993-4f63-8e89-aa0215957b03",
   "metadata": {},
   "outputs": [],
   "source": [
    "np1=np.array([3,5,7,9,11,13,15])"
   ]
  },
  {
   "cell_type": "code",
   "execution_count": null,
   "id": "9ffcca44-8f56-4ef3-8b08-99f4fa6378df",
   "metadata": {},
   "outputs": [],
   "source": [
    "np1"
   ]
  },
  {
   "cell_type": "code",
   "execution_count": null,
   "id": "b9d5c934-6ecf-493a-b796-29cac8f476e8",
   "metadata": {},
   "outputs": [],
   "source": [
    "#check type\n",
    "type(np1)"
   ]
  },
  {
   "cell_type": "code",
   "execution_count": 174,
   "id": "ebbb40f4-0729-4741-912a-48c83db64aeb",
   "metadata": {},
   "outputs": [],
   "source": [
    "sum1=np1.sum() #sum of elements"
   ]
  },
  {
   "cell_type": "code",
   "execution_count": null,
   "id": "44bd22dd-2d9c-4234-9b5e-fa9b8ce763bf",
   "metadata": {},
   "outputs": [],
   "source": [
    "print(sum1)"
   ]
  },
  {
   "cell_type": "code",
   "execution_count": 175,
   "id": "ead0e764-5e34-4b0e-aa54-abf5c5acaa5a",
   "metadata": {},
   "outputs": [
    {
     "name": "stdout",
     "output_type": "stream",
     "text": [
      "7\n"
     ]
    }
   ],
   "source": [
    "len1=len(np1) # number of elements\n",
    "print(len1)"
   ]
  },
  {
   "cell_type": "code",
   "execution_count": 176,
   "id": "2a3141a3-b688-4594-870f-f6d66c0b521a",
   "metadata": {},
   "outputs": [
    {
     "data": {
      "text/plain": [
       "(4, 3)"
      ]
     },
     "execution_count": 176,
     "metadata": {},
     "output_type": "execute_result"
    }
   ],
   "source": [
    "df.shape"
   ]
  },
  {
   "cell_type": "markdown",
   "id": "2b365bd8-00f7-4184-9b1c-f8e261555afe",
   "metadata": {},
   "source": [
    "### mean"
   ]
  },
  {
   "cell_type": "code",
   "execution_count": 177,
   "id": "c83a1964-ae84-457c-bb3d-b5f82b27e0ac",
   "metadata": {},
   "outputs": [
    {
     "data": {
      "text/plain": [
       "np.float64(9.0)"
      ]
     },
     "execution_count": 177,
     "metadata": {},
     "output_type": "execute_result"
    }
   ],
   "source": [
    "np1.mean()"
   ]
  },
  {
   "cell_type": "code",
   "execution_count": null,
   "id": "08554c82-fed6-41a3-b59b-d86971a9ab81",
   "metadata": {},
   "outputs": [],
   "source": [
    "mean=sum1/len1\n",
    "print(mean)"
   ]
  },
  {
   "cell_type": "code",
   "execution_count": null,
   "id": "9e03bb79-4c2c-49ff-b4b5-c4bfce3de99a",
   "metadata": {},
   "outputs": [],
   "source": [
    "def summation(list1):\n",
    "    sum3=0\n",
    "    for number in list1:\n",
    "        sum3=sum3+number\n",
    "    return sum3     \n",
    "\n",
    "def average1(list1):\n",
    "    sum3=0\n",
    "    for number in list1:\n",
    "        sum3=sum3+number\n",
    "    return sum3/len(list1)  \n",
    "    "
   ]
  },
  {
   "cell_type": "code",
   "execution_count": null,
   "id": "c65f309e-e0ea-44da-877e-aa8d4fc9021d",
   "metadata": {},
   "outputs": [],
   "source": [
    "summation(np1)"
   ]
  },
  {
   "cell_type": "code",
   "execution_count": null,
   "id": "ed09fc29-654a-43f5-ab58-87c42bc9a20b",
   "metadata": {},
   "outputs": [],
   "source": [
    "average1(np1)"
   ]
  },
  {
   "cell_type": "code",
   "execution_count": 178,
   "id": "b191db42-5fdf-40e0-8795-ae242dd64e8b",
   "metadata": {},
   "outputs": [
    {
     "data": {
      "text/plain": [
       "np.float64(9.0)"
      ]
     },
     "execution_count": 178,
     "metadata": {},
     "output_type": "execute_result"
    }
   ],
   "source": [
    "np.median(np1)"
   ]
  },
  {
   "cell_type": "code",
   "execution_count": null,
   "id": "01c71f5c-4ec3-4ee7-8863-b360ce053b61",
   "metadata": {},
   "outputs": [],
   "source": [
    "np1"
   ]
  },
  {
   "cell_type": "code",
   "execution_count": 180,
   "id": "26553850-bc30-4eac-8597-ae9cbb8751c1",
   "metadata": {},
   "outputs": [],
   "source": [
    "np2=np.array([3,7,15,11,5,9,13])"
   ]
  },
  {
   "cell_type": "code",
   "execution_count": 181,
   "id": "31d3821a-e13d-46b4-b359-9f3fc47a9141",
   "metadata": {},
   "outputs": [
    {
     "data": {
      "text/plain": [
       "np.float64(9.0)"
      ]
     },
     "execution_count": 181,
     "metadata": {},
     "output_type": "execute_result"
    }
   ],
   "source": [
    "np.median(np2)"
   ]
  },
  {
   "cell_type": "markdown",
   "id": "8e0a1dc5-c565-4fbc-804f-758779ac4c5e",
   "metadata": {},
   "source": [
    "### Import a csv file into a python notebook"
   ]
  },
  {
   "cell_type": "code",
   "execution_count": 198,
   "id": "7bac57ff-a31e-41f7-8aef-07762e6dfe4a",
   "metadata": {},
   "outputs": [],
   "source": [
    "import requests"
   ]
  },
  {
   "cell_type": "code",
   "execution_count": 199,
   "id": "6a5992d9-aee3-4a59-a5a2-16f99dfba24d",
   "metadata": {},
   "outputs": [],
   "source": [
    "url=\"https://statso.io/wp-content/uploads/2024/02/food_orders_new_delhi.csv\"\n",
    "response=requests.get(url)\n",
    "with open('food_order1.csv','wb') as file:\n",
    "    file.write(response.content)"
   ]
  },
  {
   "cell_type": "code",
   "execution_count": 200,
   "id": "7bf66c13-0c77-4e38-a3a3-938733ef554a",
   "metadata": {},
   "outputs": [
    {
     "ename": "ParserError",
     "evalue": "Error tokenizing data. C error: Expected 1 fields in line 16, saw 2\n",
     "output_type": "error",
     "traceback": [
      "\u001b[31m---------------------------------------------------------------------------\u001b[39m",
      "\u001b[31mParserError\u001b[39m                               Traceback (most recent call last)",
      "\u001b[36mCell\u001b[39m\u001b[36m \u001b[39m\u001b[32mIn[200]\u001b[39m\u001b[32m, line 1\u001b[39m\n\u001b[32m----> \u001b[39m\u001b[32m1\u001b[39m food_order=\u001b[43mpd\u001b[49m\u001b[43m.\u001b[49m\u001b[43mread_csv\u001b[49m\u001b[43m(\u001b[49m\u001b[33;43m'\u001b[39;49m\u001b[33;43mfood_order1.csv\u001b[39;49m\u001b[33;43m'\u001b[39;49m\u001b[43m)\u001b[49m\n\u001b[32m      2\u001b[39m food_order.head()\n",
      "\u001b[36mFile \u001b[39m\u001b[32m~\\AppData\\Local\\Programs\\Python\\Python313\\Lib\\site-packages\\pandas\\io\\parsers\\readers.py:1026\u001b[39m, in \u001b[36mread_csv\u001b[39m\u001b[34m(filepath_or_buffer, sep, delimiter, header, names, index_col, usecols, dtype, engine, converters, true_values, false_values, skipinitialspace, skiprows, skipfooter, nrows, na_values, keep_default_na, na_filter, verbose, skip_blank_lines, parse_dates, infer_datetime_format, keep_date_col, date_parser, date_format, dayfirst, cache_dates, iterator, chunksize, compression, thousands, decimal, lineterminator, quotechar, quoting, doublequote, escapechar, comment, encoding, encoding_errors, dialect, on_bad_lines, delim_whitespace, low_memory, memory_map, float_precision, storage_options, dtype_backend)\u001b[39m\n\u001b[32m   1013\u001b[39m kwds_defaults = _refine_defaults_read(\n\u001b[32m   1014\u001b[39m     dialect,\n\u001b[32m   1015\u001b[39m     delimiter,\n\u001b[32m   (...)\u001b[39m\u001b[32m   1022\u001b[39m     dtype_backend=dtype_backend,\n\u001b[32m   1023\u001b[39m )\n\u001b[32m   1024\u001b[39m kwds.update(kwds_defaults)\n\u001b[32m-> \u001b[39m\u001b[32m1026\u001b[39m \u001b[38;5;28;01mreturn\u001b[39;00m \u001b[43m_read\u001b[49m\u001b[43m(\u001b[49m\u001b[43mfilepath_or_buffer\u001b[49m\u001b[43m,\u001b[49m\u001b[43m \u001b[49m\u001b[43mkwds\u001b[49m\u001b[43m)\u001b[49m\n",
      "\u001b[36mFile \u001b[39m\u001b[32m~\\AppData\\Local\\Programs\\Python\\Python313\\Lib\\site-packages\\pandas\\io\\parsers\\readers.py:626\u001b[39m, in \u001b[36m_read\u001b[39m\u001b[34m(filepath_or_buffer, kwds)\u001b[39m\n\u001b[32m    623\u001b[39m     \u001b[38;5;28;01mreturn\u001b[39;00m parser\n\u001b[32m    625\u001b[39m \u001b[38;5;28;01mwith\u001b[39;00m parser:\n\u001b[32m--> \u001b[39m\u001b[32m626\u001b[39m     \u001b[38;5;28;01mreturn\u001b[39;00m \u001b[43mparser\u001b[49m\u001b[43m.\u001b[49m\u001b[43mread\u001b[49m\u001b[43m(\u001b[49m\u001b[43mnrows\u001b[49m\u001b[43m)\u001b[49m\n",
      "\u001b[36mFile \u001b[39m\u001b[32m~\\AppData\\Local\\Programs\\Python\\Python313\\Lib\\site-packages\\pandas\\io\\parsers\\readers.py:1923\u001b[39m, in \u001b[36mTextFileReader.read\u001b[39m\u001b[34m(self, nrows)\u001b[39m\n\u001b[32m   1916\u001b[39m nrows = validate_integer(\u001b[33m\"\u001b[39m\u001b[33mnrows\u001b[39m\u001b[33m\"\u001b[39m, nrows)\n\u001b[32m   1917\u001b[39m \u001b[38;5;28;01mtry\u001b[39;00m:\n\u001b[32m   1918\u001b[39m     \u001b[38;5;66;03m# error: \"ParserBase\" has no attribute \"read\"\u001b[39;00m\n\u001b[32m   1919\u001b[39m     (\n\u001b[32m   1920\u001b[39m         index,\n\u001b[32m   1921\u001b[39m         columns,\n\u001b[32m   1922\u001b[39m         col_dict,\n\u001b[32m-> \u001b[39m\u001b[32m1923\u001b[39m     ) = \u001b[38;5;28;43mself\u001b[39;49m\u001b[43m.\u001b[49m\u001b[43m_engine\u001b[49m\u001b[43m.\u001b[49m\u001b[43mread\u001b[49m\u001b[43m(\u001b[49m\u001b[43m  \u001b[49m\u001b[38;5;66;43;03m# type: ignore[attr-defined]\u001b[39;49;00m\n\u001b[32m   1924\u001b[39m \u001b[43m        \u001b[49m\u001b[43mnrows\u001b[49m\n\u001b[32m   1925\u001b[39m \u001b[43m    \u001b[49m\u001b[43m)\u001b[49m\n\u001b[32m   1926\u001b[39m \u001b[38;5;28;01mexcept\u001b[39;00m \u001b[38;5;167;01mException\u001b[39;00m:\n\u001b[32m   1927\u001b[39m     \u001b[38;5;28mself\u001b[39m.close()\n",
      "\u001b[36mFile \u001b[39m\u001b[32m~\\AppData\\Local\\Programs\\Python\\Python313\\Lib\\site-packages\\pandas\\io\\parsers\\c_parser_wrapper.py:234\u001b[39m, in \u001b[36mCParserWrapper.read\u001b[39m\u001b[34m(self, nrows)\u001b[39m\n\u001b[32m    232\u001b[39m \u001b[38;5;28;01mtry\u001b[39;00m:\n\u001b[32m    233\u001b[39m     \u001b[38;5;28;01mif\u001b[39;00m \u001b[38;5;28mself\u001b[39m.low_memory:\n\u001b[32m--> \u001b[39m\u001b[32m234\u001b[39m         chunks = \u001b[38;5;28;43mself\u001b[39;49m\u001b[43m.\u001b[49m\u001b[43m_reader\u001b[49m\u001b[43m.\u001b[49m\u001b[43mread_low_memory\u001b[49m\u001b[43m(\u001b[49m\u001b[43mnrows\u001b[49m\u001b[43m)\u001b[49m\n\u001b[32m    235\u001b[39m         \u001b[38;5;66;03m# destructive to chunks\u001b[39;00m\n\u001b[32m    236\u001b[39m         data = _concatenate_chunks(chunks)\n",
      "\u001b[36mFile \u001b[39m\u001b[32mparsers.pyx:838\u001b[39m, in \u001b[36mpandas._libs.parsers.TextReader.read_low_memory\u001b[39m\u001b[34m()\u001b[39m\n",
      "\u001b[36mFile \u001b[39m\u001b[32mparsers.pyx:905\u001b[39m, in \u001b[36mpandas._libs.parsers.TextReader._read_rows\u001b[39m\u001b[34m()\u001b[39m\n",
      "\u001b[36mFile \u001b[39m\u001b[32mparsers.pyx:874\u001b[39m, in \u001b[36mpandas._libs.parsers.TextReader._tokenize_rows\u001b[39m\u001b[34m()\u001b[39m\n",
      "\u001b[36mFile \u001b[39m\u001b[32mparsers.pyx:891\u001b[39m, in \u001b[36mpandas._libs.parsers.TextReader._check_tokenize_status\u001b[39m\u001b[34m()\u001b[39m\n",
      "\u001b[36mFile \u001b[39m\u001b[32mparsers.pyx:2061\u001b[39m, in \u001b[36mpandas._libs.parsers.raise_parser_error\u001b[39m\u001b[34m()\u001b[39m\n",
      "\u001b[31mParserError\u001b[39m: Error tokenizing data. C error: Expected 1 fields in line 16, saw 2\n"
     ]
    }
   ],
   "source": [
    "food_order=pd.read_csv('food_order1.csv')\n",
    "food_order.head()"
   ]
  },
  {
   "cell_type": "code",
   "execution_count": null,
   "id": "56a37c5f-1a6b-4262-ba8b-24f709913ff6",
   "metadata": {},
   "outputs": [],
   "source": []
  },
  {
   "cell_type": "code",
   "execution_count": null,
   "id": "266a472a-b2bb-49a3-b28f-df10d11258e6",
   "metadata": {},
   "outputs": [],
   "source": []
  },
  {
   "cell_type": "code",
   "execution_count": 201,
   "id": "a224b4b5-874e-4b36-a3fb-e72bd6257e57",
   "metadata": {},
   "outputs": [],
   "source": [
    "link=\"https://raw.githubusercontent.com/cloudxlab/ml/master/machine_learning/datasets/housing/housing.csv\"\n",
    "request=requests.get(link)"
   ]
  },
  {
   "cell_type": "code",
   "execution_count": 202,
   "id": "dc3c2262-e9d5-4312-9ba8-8f7b9910ffc2",
   "metadata": {},
   "outputs": [],
   "source": [
    "with open(\"housing.csv\",'wb') as file:\n",
    "    file.write(request.content)"
   ]
  },
  {
   "cell_type": "code",
   "execution_count": 203,
   "id": "1076e1c4-655c-43fe-8e09-553117a7faa4",
   "metadata": {},
   "outputs": [],
   "source": [
    "housing_df=pd.read_csv(\"housing.csv\")"
   ]
  },
  {
   "cell_type": "code",
   "execution_count": 210,
   "id": "c67ec7e8-dd49-453e-b5a2-f7a5db315b19",
   "metadata": {},
   "outputs": [
    {
     "data": {
      "text/html": [
       "<div>\n",
       "<style scoped>\n",
       "    .dataframe tbody tr th:only-of-type {\n",
       "        vertical-align: middle;\n",
       "    }\n",
       "\n",
       "    .dataframe tbody tr th {\n",
       "        vertical-align: top;\n",
       "    }\n",
       "\n",
       "    .dataframe thead th {\n",
       "        text-align: right;\n",
       "    }\n",
       "</style>\n",
       "<table border=\"1\" class=\"dataframe\">\n",
       "  <thead>\n",
       "    <tr style=\"text-align: right;\">\n",
       "      <th></th>\n",
       "      <th>longitude</th>\n",
       "      <th>latitude</th>\n",
       "      <th>housing_median_age</th>\n",
       "      <th>total_rooms</th>\n",
       "      <th>total_bedrooms</th>\n",
       "      <th>population</th>\n",
       "      <th>households</th>\n",
       "      <th>median_income</th>\n",
       "      <th>median_house_value</th>\n",
       "      <th>ocean_proximity</th>\n",
       "    </tr>\n",
       "  </thead>\n",
       "  <tbody>\n",
       "    <tr>\n",
       "      <th>0</th>\n",
       "      <td>-122.23</td>\n",
       "      <td>37.88</td>\n",
       "      <td>41.0</td>\n",
       "      <td>880.0</td>\n",
       "      <td>129.0</td>\n",
       "      <td>322.0</td>\n",
       "      <td>126.0</td>\n",
       "      <td>8.3252</td>\n",
       "      <td>452600.0</td>\n",
       "      <td>NEAR BAY</td>\n",
       "    </tr>\n",
       "    <tr>\n",
       "      <th>1</th>\n",
       "      <td>-122.22</td>\n",
       "      <td>37.86</td>\n",
       "      <td>21.0</td>\n",
       "      <td>7099.0</td>\n",
       "      <td>1106.0</td>\n",
       "      <td>2401.0</td>\n",
       "      <td>1138.0</td>\n",
       "      <td>8.3014</td>\n",
       "      <td>358500.0</td>\n",
       "      <td>NEAR BAY</td>\n",
       "    </tr>\n",
       "  </tbody>\n",
       "</table>\n",
       "</div>"
      ],
      "text/plain": [
       "   longitude  latitude  housing_median_age  total_rooms  total_bedrooms  \\\n",
       "0    -122.23     37.88                41.0        880.0           129.0   \n",
       "1    -122.22     37.86                21.0       7099.0          1106.0   \n",
       "\n",
       "   population  households  median_income  median_house_value ocean_proximity  \n",
       "0       322.0       126.0         8.3252            452600.0        NEAR BAY  \n",
       "1      2401.0      1138.0         8.3014            358500.0        NEAR BAY  "
      ]
     },
     "execution_count": 210,
     "metadata": {},
     "output_type": "execute_result"
    }
   ],
   "source": [
    "housing_df.head(2)"
   ]
  },
  {
   "cell_type": "code",
   "execution_count": 211,
   "id": "a89f0347-9490-4d09-a2c9-c93559b46d83",
   "metadata": {},
   "outputs": [
    {
     "data": {
      "text/plain": [
       "(20640, 10)"
      ]
     },
     "execution_count": 211,
     "metadata": {},
     "output_type": "execute_result"
    }
   ],
   "source": [
    "housing_df.shape"
   ]
  },
  {
   "cell_type": "code",
   "execution_count": 213,
   "id": "fe1ac69d-3ec1-4cfc-8184-e8db9bdc7e48",
   "metadata": {},
   "outputs": [
    {
     "data": {
      "text/plain": [
       "20640"
      ]
     },
     "execution_count": 213,
     "metadata": {},
     "output_type": "execute_result"
    }
   ],
   "source": [
    "housing_df.shape[0]"
   ]
  },
  {
   "cell_type": "code",
   "execution_count": 214,
   "id": "c774700a-972e-443c-b569-adf38e318569",
   "metadata": {},
   "outputs": [
    {
     "name": "stdout",
     "output_type": "stream",
     "text": [
      "<class 'pandas.core.frame.DataFrame'>\n",
      "RangeIndex: 20640 entries, 0 to 20639\n",
      "Data columns (total 10 columns):\n",
      " #   Column              Non-Null Count  Dtype  \n",
      "---  ------              --------------  -----  \n",
      " 0   longitude           20640 non-null  float64\n",
      " 1   latitude            20640 non-null  float64\n",
      " 2   housing_median_age  20640 non-null  float64\n",
      " 3   total_rooms         20640 non-null  float64\n",
      " 4   total_bedrooms      20433 non-null  float64\n",
      " 5   population          20640 non-null  float64\n",
      " 6   households          20640 non-null  float64\n",
      " 7   median_income       20640 non-null  float64\n",
      " 8   median_house_value  20640 non-null  float64\n",
      " 9   ocean_proximity     20640 non-null  object \n",
      "dtypes: float64(9), object(1)\n",
      "memory usage: 1.6+ MB\n"
     ]
    }
   ],
   "source": [
    "housing_df.info()"
   ]
  },
  {
   "cell_type": "code",
   "execution_count": 215,
   "id": "468c8ba6-d810-443c-b20f-ffa467738ede",
   "metadata": {},
   "outputs": [
    {
     "data": {
      "text/plain": [
       "Index(['longitude', 'latitude', 'housing_median_age', 'total_rooms',\n",
       "       'total_bedrooms', 'population', 'households', 'median_income',\n",
       "       'median_house_value', 'ocean_proximity'],\n",
       "      dtype='object')"
      ]
     },
     "execution_count": 215,
     "metadata": {},
     "output_type": "execute_result"
    }
   ],
   "source": [
    "housing_df.columns"
   ]
  },
  {
   "cell_type": "code",
   "execution_count": 216,
   "id": "01023fd1-d062-4e9f-91e5-abbaccf1ce99",
   "metadata": {},
   "outputs": [
    {
     "data": {
      "text/plain": [
       "['longitude',\n",
       " 'latitude',\n",
       " 'housing_median_age',\n",
       " 'total_rooms',\n",
       " 'total_bedrooms',\n",
       " 'population',\n",
       " 'households',\n",
       " 'median_income',\n",
       " 'median_house_value',\n",
       " 'ocean_proximity']"
      ]
     },
     "execution_count": 216,
     "metadata": {},
     "output_type": "execute_result"
    }
   ],
   "source": [
    "housing_df.columns.to_list()"
   ]
  },
  {
   "cell_type": "code",
   "execution_count": 222,
   "id": "1b77301e-89f9-41c0-a15a-98922c68d823",
   "metadata": {},
   "outputs": [
    {
     "data": {
      "text/plain": [
       "0         880.0\n",
       "1        7099.0\n",
       "2        1467.0\n",
       "3        1274.0\n",
       "4        1627.0\n",
       "          ...  \n",
       "20635    1665.0\n",
       "20636     697.0\n",
       "20637    2254.0\n",
       "20638    1860.0\n",
       "20639    2785.0\n",
       "Name: total_rooms, Length: 20640, dtype: float64"
      ]
     },
     "execution_count": 222,
     "metadata": {},
     "output_type": "execute_result"
    }
   ],
   "source": [
    "housing_df['total_rooms']"
   ]
  },
  {
   "cell_type": "code",
   "execution_count": 223,
   "id": "53652eff-28af-4a5a-a849-2f2b83eed67c",
   "metadata": {},
   "outputs": [
    {
     "data": {
      "text/html": [
       "<div>\n",
       "<style scoped>\n",
       "    .dataframe tbody tr th:only-of-type {\n",
       "        vertical-align: middle;\n",
       "    }\n",
       "\n",
       "    .dataframe tbody tr th {\n",
       "        vertical-align: top;\n",
       "    }\n",
       "\n",
       "    .dataframe thead th {\n",
       "        text-align: right;\n",
       "    }\n",
       "</style>\n",
       "<table border=\"1\" class=\"dataframe\">\n",
       "  <thead>\n",
       "    <tr style=\"text-align: right;\">\n",
       "      <th></th>\n",
       "      <th>total_rooms</th>\n",
       "    </tr>\n",
       "  </thead>\n",
       "  <tbody>\n",
       "    <tr>\n",
       "      <th>0</th>\n",
       "      <td>880.0</td>\n",
       "    </tr>\n",
       "    <tr>\n",
       "      <th>1</th>\n",
       "      <td>7099.0</td>\n",
       "    </tr>\n",
       "    <tr>\n",
       "      <th>2</th>\n",
       "      <td>1467.0</td>\n",
       "    </tr>\n",
       "    <tr>\n",
       "      <th>3</th>\n",
       "      <td>1274.0</td>\n",
       "    </tr>\n",
       "    <tr>\n",
       "      <th>4</th>\n",
       "      <td>1627.0</td>\n",
       "    </tr>\n",
       "    <tr>\n",
       "      <th>...</th>\n",
       "      <td>...</td>\n",
       "    </tr>\n",
       "    <tr>\n",
       "      <th>20635</th>\n",
       "      <td>1665.0</td>\n",
       "    </tr>\n",
       "    <tr>\n",
       "      <th>20636</th>\n",
       "      <td>697.0</td>\n",
       "    </tr>\n",
       "    <tr>\n",
       "      <th>20637</th>\n",
       "      <td>2254.0</td>\n",
       "    </tr>\n",
       "    <tr>\n",
       "      <th>20638</th>\n",
       "      <td>1860.0</td>\n",
       "    </tr>\n",
       "    <tr>\n",
       "      <th>20639</th>\n",
       "      <td>2785.0</td>\n",
       "    </tr>\n",
       "  </tbody>\n",
       "</table>\n",
       "<p>20640 rows × 1 columns</p>\n",
       "</div>"
      ],
      "text/plain": [
       "       total_rooms\n",
       "0            880.0\n",
       "1           7099.0\n",
       "2           1467.0\n",
       "3           1274.0\n",
       "4           1627.0\n",
       "...            ...\n",
       "20635       1665.0\n",
       "20636        697.0\n",
       "20637       2254.0\n",
       "20638       1860.0\n",
       "20639       2785.0\n",
       "\n",
       "[20640 rows x 1 columns]"
      ]
     },
     "execution_count": 223,
     "metadata": {},
     "output_type": "execute_result"
    }
   ],
   "source": [
    "housing_df[['total_rooms']]"
   ]
  },
  {
   "cell_type": "code",
   "execution_count": 224,
   "id": "ea1bf5b9-3a4c-4a61-8878-17cbbecd82a6",
   "metadata": {},
   "outputs": [
    {
     "data": {
      "text/plain": [
       "0         880.0\n",
       "1        7099.0\n",
       "2        1467.0\n",
       "3        1274.0\n",
       "4        1627.0\n",
       "          ...  \n",
       "20635    1665.0\n",
       "20636     697.0\n",
       "20637    2254.0\n",
       "20638    1860.0\n",
       "20639    2785.0\n",
       "Name: total_rooms, Length: 20640, dtype: float64"
      ]
     },
     "execution_count": 224,
     "metadata": {},
     "output_type": "execute_result"
    }
   ],
   "source": [
    "housing_df.total_rooms #pandas series "
   ]
  },
  {
   "cell_type": "code",
   "execution_count": 225,
   "id": "50c26e67-4017-491c-bc15-b5eaeff18acd",
   "metadata": {},
   "outputs": [
    {
     "name": "stdout",
     "output_type": "stream",
     "text": [
      "sum:  54402150.0\n",
      "mean:  2635.7630813953488\n"
     ]
    }
   ],
   "source": [
    "print(\"sum: \",housing_df['total_rooms'].sum())\n",
    "print('mean: ',housing_df['total_rooms'].mean())"
   ]
  },
  {
   "cell_type": "code",
   "execution_count": 163,
   "id": "c4293830-799e-4998-ab29-6887c06634d1",
   "metadata": {},
   "outputs": [
    {
     "name": "stdout",
     "output_type": "stream",
     "text": [
      "mean = 2635.7630813953488 and sum = 54402150.0\n"
     ]
    }
   ],
   "source": [
    "print('mean = {} and sum = {}'.format(housing_df['total_rooms'].mean(),housing_df['total_rooms'].sum()))"
   ]
  },
  {
   "cell_type": "code",
   "execution_count": 164,
   "id": "ab038a88-3c87-4b0b-9550-f3bfe27b160c",
   "metadata": {},
   "outputs": [
    {
     "data": {
      "text/html": [
       "<div>\n",
       "<style scoped>\n",
       "    .dataframe tbody tr th:only-of-type {\n",
       "        vertical-align: middle;\n",
       "    }\n",
       "\n",
       "    .dataframe tbody tr th {\n",
       "        vertical-align: top;\n",
       "    }\n",
       "\n",
       "    .dataframe thead th {\n",
       "        text-align: right;\n",
       "    }\n",
       "</style>\n",
       "<table border=\"1\" class=\"dataframe\">\n",
       "  <thead>\n",
       "    <tr style=\"text-align: right;\">\n",
       "      <th></th>\n",
       "      <th>longitude</th>\n",
       "      <th>latitude</th>\n",
       "      <th>housing_median_age</th>\n",
       "      <th>total_rooms</th>\n",
       "      <th>total_bedrooms</th>\n",
       "      <th>population</th>\n",
       "      <th>households</th>\n",
       "      <th>median_income</th>\n",
       "      <th>median_house_value</th>\n",
       "    </tr>\n",
       "  </thead>\n",
       "  <tbody>\n",
       "    <tr>\n",
       "      <th>count</th>\n",
       "      <td>20640.000000</td>\n",
       "      <td>20640.000000</td>\n",
       "      <td>20640.000000</td>\n",
       "      <td>20640.000000</td>\n",
       "      <td>20433.000000</td>\n",
       "      <td>20640.000000</td>\n",
       "      <td>20640.000000</td>\n",
       "      <td>20640.000000</td>\n",
       "      <td>20640.000000</td>\n",
       "    </tr>\n",
       "    <tr>\n",
       "      <th>mean</th>\n",
       "      <td>-119.569704</td>\n",
       "      <td>35.631861</td>\n",
       "      <td>28.639486</td>\n",
       "      <td>2635.763081</td>\n",
       "      <td>537.870553</td>\n",
       "      <td>1425.476744</td>\n",
       "      <td>499.539680</td>\n",
       "      <td>3.870671</td>\n",
       "      <td>206855.816909</td>\n",
       "    </tr>\n",
       "    <tr>\n",
       "      <th>std</th>\n",
       "      <td>2.003532</td>\n",
       "      <td>2.135952</td>\n",
       "      <td>12.585558</td>\n",
       "      <td>2181.615252</td>\n",
       "      <td>421.385070</td>\n",
       "      <td>1132.462122</td>\n",
       "      <td>382.329753</td>\n",
       "      <td>1.899822</td>\n",
       "      <td>115395.615874</td>\n",
       "    </tr>\n",
       "    <tr>\n",
       "      <th>min</th>\n",
       "      <td>-124.350000</td>\n",
       "      <td>32.540000</td>\n",
       "      <td>1.000000</td>\n",
       "      <td>2.000000</td>\n",
       "      <td>1.000000</td>\n",
       "      <td>3.000000</td>\n",
       "      <td>1.000000</td>\n",
       "      <td>0.499900</td>\n",
       "      <td>14999.000000</td>\n",
       "    </tr>\n",
       "    <tr>\n",
       "      <th>25%</th>\n",
       "      <td>-121.800000</td>\n",
       "      <td>33.930000</td>\n",
       "      <td>18.000000</td>\n",
       "      <td>1447.750000</td>\n",
       "      <td>296.000000</td>\n",
       "      <td>787.000000</td>\n",
       "      <td>280.000000</td>\n",
       "      <td>2.563400</td>\n",
       "      <td>119600.000000</td>\n",
       "    </tr>\n",
       "    <tr>\n",
       "      <th>50%</th>\n",
       "      <td>-118.490000</td>\n",
       "      <td>34.260000</td>\n",
       "      <td>29.000000</td>\n",
       "      <td>2127.000000</td>\n",
       "      <td>435.000000</td>\n",
       "      <td>1166.000000</td>\n",
       "      <td>409.000000</td>\n",
       "      <td>3.534800</td>\n",
       "      <td>179700.000000</td>\n",
       "    </tr>\n",
       "    <tr>\n",
       "      <th>75%</th>\n",
       "      <td>-118.010000</td>\n",
       "      <td>37.710000</td>\n",
       "      <td>37.000000</td>\n",
       "      <td>3148.000000</td>\n",
       "      <td>647.000000</td>\n",
       "      <td>1725.000000</td>\n",
       "      <td>605.000000</td>\n",
       "      <td>4.743250</td>\n",
       "      <td>264725.000000</td>\n",
       "    </tr>\n",
       "    <tr>\n",
       "      <th>max</th>\n",
       "      <td>-114.310000</td>\n",
       "      <td>41.950000</td>\n",
       "      <td>52.000000</td>\n",
       "      <td>39320.000000</td>\n",
       "      <td>6445.000000</td>\n",
       "      <td>35682.000000</td>\n",
       "      <td>6082.000000</td>\n",
       "      <td>15.000100</td>\n",
       "      <td>500001.000000</td>\n",
       "    </tr>\n",
       "  </tbody>\n",
       "</table>\n",
       "</div>"
      ],
      "text/plain": [
       "          longitude      latitude  housing_median_age   total_rooms  \\\n",
       "count  20640.000000  20640.000000        20640.000000  20640.000000   \n",
       "mean    -119.569704     35.631861           28.639486   2635.763081   \n",
       "std        2.003532      2.135952           12.585558   2181.615252   \n",
       "min     -124.350000     32.540000            1.000000      2.000000   \n",
       "25%     -121.800000     33.930000           18.000000   1447.750000   \n",
       "50%     -118.490000     34.260000           29.000000   2127.000000   \n",
       "75%     -118.010000     37.710000           37.000000   3148.000000   \n",
       "max     -114.310000     41.950000           52.000000  39320.000000   \n",
       "\n",
       "       total_bedrooms    population    households  median_income  \\\n",
       "count    20433.000000  20640.000000  20640.000000   20640.000000   \n",
       "mean       537.870553   1425.476744    499.539680       3.870671   \n",
       "std        421.385070   1132.462122    382.329753       1.899822   \n",
       "min          1.000000      3.000000      1.000000       0.499900   \n",
       "25%        296.000000    787.000000    280.000000       2.563400   \n",
       "50%        435.000000   1166.000000    409.000000       3.534800   \n",
       "75%        647.000000   1725.000000    605.000000       4.743250   \n",
       "max       6445.000000  35682.000000   6082.000000      15.000100   \n",
       "\n",
       "       median_house_value  \n",
       "count        20640.000000  \n",
       "mean        206855.816909  \n",
       "std         115395.615874  \n",
       "min          14999.000000  \n",
       "25%         119600.000000  \n",
       "50%         179700.000000  \n",
       "75%         264725.000000  \n",
       "max         500001.000000  "
      ]
     },
     "execution_count": 164,
     "metadata": {},
     "output_type": "execute_result"
    }
   ],
   "source": [
    "housing_df.describe()"
   ]
  },
  {
   "cell_type": "code",
   "execution_count": null,
   "id": "6081392d-ea8d-43b7-a2be-0196665f3368",
   "metadata": {},
   "outputs": [],
   "source": []
  }
 ],
 "metadata": {
  "kernelspec": {
   "display_name": "Python 3 (ipykernel)",
   "language": "python",
   "name": "python3"
  },
  "language_info": {
   "codemirror_mode": {
    "name": "ipython",
    "version": 3
   },
   "file_extension": ".py",
   "mimetype": "text/x-python",
   "name": "python",
   "nbconvert_exporter": "python",
   "pygments_lexer": "ipython3",
   "version": "3.13.3"
  }
 },
 "nbformat": 4,
 "nbformat_minor": 5
}
