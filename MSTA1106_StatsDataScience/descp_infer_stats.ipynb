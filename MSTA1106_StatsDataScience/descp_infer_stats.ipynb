{
 "cells": [
  {
   "cell_type": "markdown",
   "id": "b81b8a17-b47e-40ed-8444-b751e3c89fd5",
   "metadata": {},
   "source": [
    "# BASIC CONCEPTS ON DESCRIPTIVE STATISTICS AND STATISTICAL INFERENCE \n",
    "## Descriptive Analysis\n",
    "Is a branch of statistics that summarises the characteristics of a data set. They are mainly\n",
    "* measures of central tendency\n",
    "* measures of variability(spread/dispersion)\n",
    "* Frequency distribution\n",
    "\n",
    "### Measures of central tendency\n",
    "These refer to numbers that represent the middle of the data. The include **mean(arithmetic), median** and **mode**.\n",
    "\n",
    "$$\\text{mean}, \\bar{x} =\\sum_{i=1}^n \\dfrac{x_i}{n}$$\n",
    "\n",
    "* **mean**: The sum divided by the number of elements\n",
    "* **median** the middle value when the values are arranged logically based on the magnitude\n",
    "* **mode** the most common item\n",
    "  \n",
    "Let us consider the housing data. The data contains the census report of the households grouped in blocks in California. \n",
    "\n",
    "Column details:\n",
    "* **longitute**: A measure of how far west a house is, a higher value is farther west\n",
    "* **latitide**: A measure of how far north a house is; a higher vale is farther north\n",
    "* **housing_median_age**: The median age of a house within a block; a lower number is a new building\n",
    "* **total_rooms**: total number of rooms within a block\n",
    "* **total_bedrooms**: total number of bedrooms within a block\n",
    "* **population**: total number of people residing within a block\n",
    "* **households**: Total number of households, a group of people residing within a home unit, for a block\n",
    "* **median_income**: median income for households within a block of houses(measured in 10,000USD)\n",
    "* **median_house_value**: median house value for households within a block(in USD)\n",
    "* **ocean_Proximity**: Location of the house of the ocean or sea\n",
    "t ocean/sea\n"
   ]
  },
  {
   "cell_type": "code",
   "execution_count": 4,
   "id": "01e5c009-6c3c-470b-b3e5-a77387d5a400",
   "metadata": {},
   "outputs": [],
   "source": [
    "#Load the libraries\n",
    "#ensure that the graphics are displayed in the notebook, we use the magic function below\n",
    "%matplotlib inline \n",
    "import numpy as np\n",
    "import pandas as pd\n",
    "import matplotlib.pyplot as plt\n",
    "from scipy import stats "
   ]
  },
  {
   "cell_type": "code",
   "execution_count": 5,
   "id": "cd7b9867-fac5-4f37-b231-39a16c97333d",
   "metadata": {
    "scrolled": true
   },
   "outputs": [
    {
     "data": {
      "text/html": [
       "<div>\n",
       "<style scoped>\n",
       "    .dataframe tbody tr th:only-of-type {\n",
       "        vertical-align: middle;\n",
       "    }\n",
       "\n",
       "    .dataframe tbody tr th {\n",
       "        vertical-align: top;\n",
       "    }\n",
       "\n",
       "    .dataframe thead th {\n",
       "        text-align: right;\n",
       "    }\n",
       "</style>\n",
       "<table border=\"1\" class=\"dataframe\">\n",
       "  <thead>\n",
       "    <tr style=\"text-align: right;\">\n",
       "      <th></th>\n",
       "      <th>longitude</th>\n",
       "      <th>latitude</th>\n",
       "      <th>housing_median_age</th>\n",
       "      <th>total_rooms</th>\n",
       "      <th>total_bedrooms</th>\n",
       "      <th>population</th>\n",
       "      <th>households</th>\n",
       "      <th>median_income</th>\n",
       "      <th>median_house_value</th>\n",
       "      <th>ocean_proximity</th>\n",
       "    </tr>\n",
       "  </thead>\n",
       "  <tbody>\n",
       "    <tr>\n",
       "      <th>0</th>\n",
       "      <td>-122.23</td>\n",
       "      <td>37.88</td>\n",
       "      <td>41.0</td>\n",
       "      <td>880.0</td>\n",
       "      <td>129.0</td>\n",
       "      <td>322.0</td>\n",
       "      <td>126.0</td>\n",
       "      <td>8.3252</td>\n",
       "      <td>452600.0</td>\n",
       "      <td>NEAR BAY</td>\n",
       "    </tr>\n",
       "    <tr>\n",
       "      <th>1</th>\n",
       "      <td>-122.22</td>\n",
       "      <td>37.86</td>\n",
       "      <td>21.0</td>\n",
       "      <td>7099.0</td>\n",
       "      <td>1106.0</td>\n",
       "      <td>2401.0</td>\n",
       "      <td>1138.0</td>\n",
       "      <td>8.3014</td>\n",
       "      <td>358500.0</td>\n",
       "      <td>NEAR BAY</td>\n",
       "    </tr>\n",
       "  </tbody>\n",
       "</table>\n",
       "</div>"
      ],
      "text/plain": [
       "   longitude  latitude  housing_median_age  total_rooms  total_bedrooms  \\\n",
       "0    -122.23     37.88                41.0        880.0           129.0   \n",
       "1    -122.22     37.86                21.0       7099.0          1106.0   \n",
       "\n",
       "   population  households  median_income  median_house_value ocean_proximity  \n",
       "0       322.0       126.0         8.3252            452600.0        NEAR BAY  \n",
       "1      2401.0      1138.0         8.3014            358500.0        NEAR BAY  "
      ]
     },
     "execution_count": 5,
     "metadata": {},
     "output_type": "execute_result"
    }
   ],
   "source": [
    "housing_data=pd.read_csv('housing.csv') #creating a pandas dataframe\n",
    "housing_data.head(2) ##see the first 2 rows"
   ]
  },
  {
   "cell_type": "code",
   "execution_count": 6,
   "id": "e3338a22-fb78-4082-9799-6952fdb1cf7d",
   "metadata": {},
   "outputs": [
    {
     "data": {
      "text/html": [
       "<div>\n",
       "<style scoped>\n",
       "    .dataframe tbody tr th:only-of-type {\n",
       "        vertical-align: middle;\n",
       "    }\n",
       "\n",
       "    .dataframe tbody tr th {\n",
       "        vertical-align: top;\n",
       "    }\n",
       "\n",
       "    .dataframe thead th {\n",
       "        text-align: right;\n",
       "    }\n",
       "</style>\n",
       "<table border=\"1\" class=\"dataframe\">\n",
       "  <thead>\n",
       "    <tr style=\"text-align: right;\">\n",
       "      <th></th>\n",
       "      <th>longitude</th>\n",
       "      <th>latitude</th>\n",
       "      <th>housing_median_age</th>\n",
       "      <th>total_rooms</th>\n",
       "      <th>total_bedrooms</th>\n",
       "      <th>population</th>\n",
       "      <th>households</th>\n",
       "      <th>median_income</th>\n",
       "      <th>median_house_value</th>\n",
       "      <th>ocean_proximity</th>\n",
       "    </tr>\n",
       "  </thead>\n",
       "  <tbody>\n",
       "    <tr>\n",
       "      <th>20639</th>\n",
       "      <td>-121.24</td>\n",
       "      <td>39.37</td>\n",
       "      <td>16.0</td>\n",
       "      <td>2785.0</td>\n",
       "      <td>616.0</td>\n",
       "      <td>1387.0</td>\n",
       "      <td>530.0</td>\n",
       "      <td>2.3886</td>\n",
       "      <td>89400.0</td>\n",
       "      <td>INLAND</td>\n",
       "    </tr>\n",
       "  </tbody>\n",
       "</table>\n",
       "</div>"
      ],
      "text/plain": [
       "       longitude  latitude  housing_median_age  total_rooms  total_bedrooms  \\\n",
       "20639    -121.24     39.37                16.0       2785.0           616.0   \n",
       "\n",
       "       population  households  median_income  median_house_value  \\\n",
       "20639      1387.0       530.0         2.3886             89400.0   \n",
       "\n",
       "      ocean_proximity  \n",
       "20639          INLAND  "
      ]
     },
     "execution_count": 6,
     "metadata": {},
     "output_type": "execute_result"
    }
   ],
   "source": [
    "housing_data.tail(1) ##see the last 5 rows"
   ]
  },
  {
   "cell_type": "code",
   "execution_count": 7,
   "id": "acfba343-af32-4337-bca8-9399fc8afeb5",
   "metadata": {},
   "outputs": [
    {
     "data": {
      "text/plain": [
       "(20640, 10)"
      ]
     },
     "execution_count": 7,
     "metadata": {},
     "output_type": "execute_result"
    }
   ],
   "source": [
    "housing_data.shape #dimension rows, columns"
   ]
  },
  {
   "cell_type": "code",
   "execution_count": 8,
   "id": "474c5ed1-ae62-4074-a4fb-bf195abbed94",
   "metadata": {},
   "outputs": [
    {
     "data": {
      "text/plain": [
       "20640"
      ]
     },
     "execution_count": 8,
     "metadata": {},
     "output_type": "execute_result"
    }
   ],
   "source": [
    "housing_data.shape[0]"
   ]
  },
  {
   "cell_type": "code",
   "execution_count": 9,
   "id": "e2f681d7-498e-44e3-a42a-8fded908545d",
   "metadata": {
    "scrolled": true
   },
   "outputs": [
    {
     "name": "stdout",
     "output_type": "stream",
     "text": [
      "<class 'pandas.core.frame.DataFrame'>\n",
      "RangeIndex: 20640 entries, 0 to 20639\n",
      "Data columns (total 10 columns):\n",
      " #   Column              Non-Null Count  Dtype  \n",
      "---  ------              --------------  -----  \n",
      " 0   longitude           20640 non-null  float64\n",
      " 1   latitude            20640 non-null  float64\n",
      " 2   housing_median_age  20640 non-null  float64\n",
      " 3   total_rooms         20640 non-null  float64\n",
      " 4   total_bedrooms      20433 non-null  float64\n",
      " 5   population          20640 non-null  float64\n",
      " 6   households          20640 non-null  float64\n",
      " 7   median_income       20640 non-null  float64\n",
      " 8   median_house_value  20640 non-null  float64\n",
      " 9   ocean_proximity     20640 non-null  object \n",
      "dtypes: float64(9), object(1)\n",
      "memory usage: 1.6+ MB\n"
     ]
    }
   ],
   "source": [
    "housing_data.info() #view the data types of the columns"
   ]
  },
  {
   "cell_type": "code",
   "execution_count": 10,
   "id": "58a95af5-0f95-49a4-87cf-561b17d53a32",
   "metadata": {},
   "outputs": [
    {
     "data": {
      "text/html": [
       "<div>\n",
       "<style scoped>\n",
       "    .dataframe tbody tr th:only-of-type {\n",
       "        vertical-align: middle;\n",
       "    }\n",
       "\n",
       "    .dataframe tbody tr th {\n",
       "        vertical-align: top;\n",
       "    }\n",
       "\n",
       "    .dataframe thead th {\n",
       "        text-align: right;\n",
       "    }\n",
       "</style>\n",
       "<table border=\"1\" class=\"dataframe\">\n",
       "  <thead>\n",
       "    <tr style=\"text-align: right;\">\n",
       "      <th></th>\n",
       "      <th>longitude</th>\n",
       "      <th>latitude</th>\n",
       "      <th>housing_median_age</th>\n",
       "      <th>total_rooms</th>\n",
       "      <th>total_bedrooms</th>\n",
       "      <th>population</th>\n",
       "      <th>households</th>\n",
       "      <th>median_income</th>\n",
       "      <th>median_house_value</th>\n",
       "    </tr>\n",
       "  </thead>\n",
       "  <tbody>\n",
       "    <tr>\n",
       "      <th>count</th>\n",
       "      <td>20640.000000</td>\n",
       "      <td>20640.000000</td>\n",
       "      <td>20640.000000</td>\n",
       "      <td>20640.000000</td>\n",
       "      <td>20433.000000</td>\n",
       "      <td>20640.000000</td>\n",
       "      <td>20640.000000</td>\n",
       "      <td>20640.000000</td>\n",
       "      <td>20640.000000</td>\n",
       "    </tr>\n",
       "    <tr>\n",
       "      <th>mean</th>\n",
       "      <td>-119.569704</td>\n",
       "      <td>35.631861</td>\n",
       "      <td>28.639486</td>\n",
       "      <td>2635.763081</td>\n",
       "      <td>537.870553</td>\n",
       "      <td>1425.476744</td>\n",
       "      <td>499.539680</td>\n",
       "      <td>3.870671</td>\n",
       "      <td>206855.816909</td>\n",
       "    </tr>\n",
       "    <tr>\n",
       "      <th>std</th>\n",
       "      <td>2.003532</td>\n",
       "      <td>2.135952</td>\n",
       "      <td>12.585558</td>\n",
       "      <td>2181.615252</td>\n",
       "      <td>421.385070</td>\n",
       "      <td>1132.462122</td>\n",
       "      <td>382.329753</td>\n",
       "      <td>1.899822</td>\n",
       "      <td>115395.615874</td>\n",
       "    </tr>\n",
       "    <tr>\n",
       "      <th>min</th>\n",
       "      <td>-124.350000</td>\n",
       "      <td>32.540000</td>\n",
       "      <td>1.000000</td>\n",
       "      <td>2.000000</td>\n",
       "      <td>1.000000</td>\n",
       "      <td>3.000000</td>\n",
       "      <td>1.000000</td>\n",
       "      <td>0.499900</td>\n",
       "      <td>14999.000000</td>\n",
       "    </tr>\n",
       "    <tr>\n",
       "      <th>25%</th>\n",
       "      <td>-121.800000</td>\n",
       "      <td>33.930000</td>\n",
       "      <td>18.000000</td>\n",
       "      <td>1447.750000</td>\n",
       "      <td>296.000000</td>\n",
       "      <td>787.000000</td>\n",
       "      <td>280.000000</td>\n",
       "      <td>2.563400</td>\n",
       "      <td>119600.000000</td>\n",
       "    </tr>\n",
       "    <tr>\n",
       "      <th>50%</th>\n",
       "      <td>-118.490000</td>\n",
       "      <td>34.260000</td>\n",
       "      <td>29.000000</td>\n",
       "      <td>2127.000000</td>\n",
       "      <td>435.000000</td>\n",
       "      <td>1166.000000</td>\n",
       "      <td>409.000000</td>\n",
       "      <td>3.534800</td>\n",
       "      <td>179700.000000</td>\n",
       "    </tr>\n",
       "    <tr>\n",
       "      <th>75%</th>\n",
       "      <td>-118.010000</td>\n",
       "      <td>37.710000</td>\n",
       "      <td>37.000000</td>\n",
       "      <td>3148.000000</td>\n",
       "      <td>647.000000</td>\n",
       "      <td>1725.000000</td>\n",
       "      <td>605.000000</td>\n",
       "      <td>4.743250</td>\n",
       "      <td>264725.000000</td>\n",
       "    </tr>\n",
       "    <tr>\n",
       "      <th>max</th>\n",
       "      <td>-114.310000</td>\n",
       "      <td>41.950000</td>\n",
       "      <td>52.000000</td>\n",
       "      <td>39320.000000</td>\n",
       "      <td>6445.000000</td>\n",
       "      <td>35682.000000</td>\n",
       "      <td>6082.000000</td>\n",
       "      <td>15.000100</td>\n",
       "      <td>500001.000000</td>\n",
       "    </tr>\n",
       "  </tbody>\n",
       "</table>\n",
       "</div>"
      ],
      "text/plain": [
       "          longitude      latitude  housing_median_age   total_rooms  \\\n",
       "count  20640.000000  20640.000000        20640.000000  20640.000000   \n",
       "mean    -119.569704     35.631861           28.639486   2635.763081   \n",
       "std        2.003532      2.135952           12.585558   2181.615252   \n",
       "min     -124.350000     32.540000            1.000000      2.000000   \n",
       "25%     -121.800000     33.930000           18.000000   1447.750000   \n",
       "50%     -118.490000     34.260000           29.000000   2127.000000   \n",
       "75%     -118.010000     37.710000           37.000000   3148.000000   \n",
       "max     -114.310000     41.950000           52.000000  39320.000000   \n",
       "\n",
       "       total_bedrooms    population    households  median_income  \\\n",
       "count    20433.000000  20640.000000  20640.000000   20640.000000   \n",
       "mean       537.870553   1425.476744    499.539680       3.870671   \n",
       "std        421.385070   1132.462122    382.329753       1.899822   \n",
       "min          1.000000      3.000000      1.000000       0.499900   \n",
       "25%        296.000000    787.000000    280.000000       2.563400   \n",
       "50%        435.000000   1166.000000    409.000000       3.534800   \n",
       "75%        647.000000   1725.000000    605.000000       4.743250   \n",
       "max       6445.000000  35682.000000   6082.000000      15.000100   \n",
       "\n",
       "       median_house_value  \n",
       "count        20640.000000  \n",
       "mean        206855.816909  \n",
       "std         115395.615874  \n",
       "min          14999.000000  \n",
       "25%         119600.000000  \n",
       "50%         179700.000000  \n",
       "75%         264725.000000  \n",
       "max         500001.000000  "
      ]
     },
     "execution_count": 10,
     "metadata": {},
     "output_type": "execute_result"
    }
   ],
   "source": [
    "housing_data.describe()"
   ]
  },
  {
   "cell_type": "code",
   "execution_count": 13,
   "id": "3a8afefd-be8a-44db-8ae5-c21426580be7",
   "metadata": {},
   "outputs": [],
   "source": [
    "mean_med_inc=housing_data.describe()['median_income'].iloc[1]"
   ]
  },
  {
   "cell_type": "code",
   "execution_count": 16,
   "id": "a876ded6-4382-4e57-b5b2-1f0bf727dcad",
   "metadata": {},
   "outputs": [
    {
     "name": "stdout",
     "output_type": "stream",
     "text": [
      "3.87\n"
     ]
    }
   ],
   "source": [
    "print(round(mean_med_inc,2))"
   ]
  },
  {
   "cell_type": "code",
   "execution_count": 21,
   "id": "ef339d48-5061-420b-8bbf-205f194c5231",
   "metadata": {},
   "outputs": [
    {
     "data": {
      "text/plain": [
       "np.float64(115000.0)"
      ]
     },
     "execution_count": 21,
     "metadata": {},
     "output_type": "execute_result"
    }
   ],
   "source": [
    "round(housing_data.describe()['median_house_value'].iloc[2],-3)"
   ]
  },
  {
   "cell_type": "code",
   "execution_count": 15,
   "id": "99566ef5-8405-4526-8b30-bb2837133d29",
   "metadata": {},
   "outputs": [],
   "source": [
    "no_rows=housing_data.describe()['latitude'].iloc[0]"
   ]
  },
  {
   "cell_type": "code",
   "execution_count": 16,
   "id": "8517bb7e-ea4d-49cf-b625-bbf798da1b05",
   "metadata": {},
   "outputs": [
    {
     "data": {
      "text/plain": [
       "20640.0"
      ]
     },
     "execution_count": 16,
     "metadata": {},
     "output_type": "execute_result"
    }
   ],
   "source": [
    "no_rows"
   ]
  },
  {
   "cell_type": "code",
   "execution_count": 9,
   "id": "d49d74c3-e2ff-4cb8-9940-d004e65f3699",
   "metadata": {},
   "outputs": [],
   "source": [
    "#It is evidet that total_bedrooms columns has missing values(None)"
   ]
  },
  {
   "cell_type": "markdown",
   "id": "5903699d-b693-487b-ab46-1d7db9da68ba",
   "metadata": {},
   "source": [
    "#### slicing"
   ]
  },
  {
   "cell_type": "code",
   "execution_count": 31,
   "id": "066534a2-d49d-4d7d-a0b7-54ff33055840",
   "metadata": {},
   "outputs": [
    {
     "data": {
      "text/plain": [
       "Index(['longitude', 'latitude', 'housing_median_age', 'total_rooms',\n",
       "       'total_bedrooms', 'population', 'households', 'median_income',\n",
       "       'median_house_value', 'ocean_proximity'],\n",
       "      dtype='object')"
      ]
     },
     "execution_count": 31,
     "metadata": {},
     "output_type": "execute_result"
    }
   ],
   "source": [
    "housing_data.columns"
   ]
  },
  {
   "cell_type": "code",
   "execution_count": 27,
   "id": "2918494a-2f84-43e6-a3d3-cdf803d94a48",
   "metadata": {},
   "outputs": [
    {
     "data": {
      "text/html": [
       "<div>\n",
       "<style scoped>\n",
       "    .dataframe tbody tr th:only-of-type {\n",
       "        vertical-align: middle;\n",
       "    }\n",
       "\n",
       "    .dataframe tbody tr th {\n",
       "        vertical-align: top;\n",
       "    }\n",
       "\n",
       "    .dataframe thead th {\n",
       "        text-align: right;\n",
       "    }\n",
       "</style>\n",
       "<table border=\"1\" class=\"dataframe\">\n",
       "  <thead>\n",
       "    <tr style=\"text-align: right;\">\n",
       "      <th></th>\n",
       "      <th>total_rooms</th>\n",
       "      <th>ocean_proximity</th>\n",
       "    </tr>\n",
       "  </thead>\n",
       "  <tbody>\n",
       "    <tr>\n",
       "      <th>0</th>\n",
       "      <td>880.0</td>\n",
       "      <td>NEAR BAY</td>\n",
       "    </tr>\n",
       "    <tr>\n",
       "      <th>1</th>\n",
       "      <td>7099.0</td>\n",
       "      <td>NEAR BAY</td>\n",
       "    </tr>\n",
       "    <tr>\n",
       "      <th>2</th>\n",
       "      <td>1467.0</td>\n",
       "      <td>NEAR BAY</td>\n",
       "    </tr>\n",
       "    <tr>\n",
       "      <th>3</th>\n",
       "      <td>1274.0</td>\n",
       "      <td>NEAR BAY</td>\n",
       "    </tr>\n",
       "    <tr>\n",
       "      <th>4</th>\n",
       "      <td>1627.0</td>\n",
       "      <td>NEAR BAY</td>\n",
       "    </tr>\n",
       "    <tr>\n",
       "      <th>...</th>\n",
       "      <td>...</td>\n",
       "      <td>...</td>\n",
       "    </tr>\n",
       "    <tr>\n",
       "      <th>20635</th>\n",
       "      <td>1665.0</td>\n",
       "      <td>INLAND</td>\n",
       "    </tr>\n",
       "    <tr>\n",
       "      <th>20636</th>\n",
       "      <td>697.0</td>\n",
       "      <td>INLAND</td>\n",
       "    </tr>\n",
       "    <tr>\n",
       "      <th>20637</th>\n",
       "      <td>2254.0</td>\n",
       "      <td>INLAND</td>\n",
       "    </tr>\n",
       "    <tr>\n",
       "      <th>20638</th>\n",
       "      <td>1860.0</td>\n",
       "      <td>INLAND</td>\n",
       "    </tr>\n",
       "    <tr>\n",
       "      <th>20639</th>\n",
       "      <td>2785.0</td>\n",
       "      <td>INLAND</td>\n",
       "    </tr>\n",
       "  </tbody>\n",
       "</table>\n",
       "<p>20640 rows × 2 columns</p>\n",
       "</div>"
      ],
      "text/plain": [
       "       total_rooms ocean_proximity\n",
       "0            880.0        NEAR BAY\n",
       "1           7099.0        NEAR BAY\n",
       "2           1467.0        NEAR BAY\n",
       "3           1274.0        NEAR BAY\n",
       "4           1627.0        NEAR BAY\n",
       "...            ...             ...\n",
       "20635       1665.0          INLAND\n",
       "20636        697.0          INLAND\n",
       "20637       2254.0          INLAND\n",
       "20638       1860.0          INLAND\n",
       "20639       2785.0          INLAND\n",
       "\n",
       "[20640 rows x 2 columns]"
      ]
     },
     "execution_count": 27,
     "metadata": {},
     "output_type": "execute_result"
    }
   ],
   "source": [
    "housing_data['total_rooms']\n",
    "housing_data[['total_rooms','ocean_proximity']] ## .rstrip() removes space from the right  .lstrip(),   .strip()"
   ]
  },
  {
   "cell_type": "code",
   "execution_count": 18,
   "id": "46b55e8c-c37f-4958-bcbc-24796479024d",
   "metadata": {},
   "outputs": [
    {
     "data": {
      "text/plain": [
       "(20640,)"
      ]
     },
     "execution_count": 18,
     "metadata": {},
     "output_type": "execute_result"
    }
   ],
   "source": [
    "#get data for one row\n",
    "housing_data['total_rooms'].shape #this is a Pandas series, 1 dimensional, 1 dimension"
   ]
  },
  {
   "cell_type": "code",
   "execution_count": 12,
   "id": "911e7339-4cd7-4065-b747-b71047b47c54",
   "metadata": {},
   "outputs": [
    {
     "data": {
      "text/plain": [
       "0     880.0\n",
       "1    7099.0\n",
       "Name: total_rooms, dtype: float64"
      ]
     },
     "execution_count": 12,
     "metadata": {},
     "output_type": "execute_result"
    }
   ],
   "source": [
    "housing_data.total_rooms.head(2) # we can also get the above series using the dot notation, 1 dimension"
   ]
  },
  {
   "cell_type": "code",
   "execution_count": 19,
   "id": "fee2f251-eee8-46d0-8abf-0a2d136f9c23",
   "metadata": {},
   "outputs": [
    {
     "data": {
      "text/plain": [
       "(20640, 1)"
      ]
     },
     "execution_count": 19,
     "metadata": {},
     "output_type": "execute_result"
    }
   ],
   "source": [
    "housing_data[['total_rooms']].shape  # this makes it possible to be two dimensional "
   ]
  },
  {
   "cell_type": "code",
   "execution_count": 32,
   "id": "51fe6d1f-0f85-4259-837a-71a6e8db51eb",
   "metadata": {},
   "outputs": [
    {
     "data": {
      "text/plain": [
       "['longitude',\n",
       " 'latitude',\n",
       " 'housing_median_age',\n",
       " 'total_rooms',\n",
       " 'total_bedrooms',\n",
       " 'population',\n",
       " 'households',\n",
       " 'median_income',\n",
       " 'median_house_value',\n",
       " 'ocean_proximity']"
      ]
     },
     "execution_count": 32,
     "metadata": {},
     "output_type": "execute_result"
    }
   ],
   "source": [
    "housing_data.columns.to_list()"
   ]
  },
  {
   "cell_type": "code",
   "execution_count": 21,
   "id": "b4570cbc-67e3-4af4-811d-23aad54957e5",
   "metadata": {},
   "outputs": [
    {
     "data": {
      "text/html": [
       "<div>\n",
       "<style scoped>\n",
       "    .dataframe tbody tr th:only-of-type {\n",
       "        vertical-align: middle;\n",
       "    }\n",
       "\n",
       "    .dataframe tbody tr th {\n",
       "        vertical-align: top;\n",
       "    }\n",
       "\n",
       "    .dataframe thead th {\n",
       "        text-align: right;\n",
       "    }\n",
       "</style>\n",
       "<table border=\"1\" class=\"dataframe\">\n",
       "  <thead>\n",
       "    <tr style=\"text-align: right;\">\n",
       "      <th></th>\n",
       "      <th>total_rooms</th>\n",
       "      <th>total_bedrooms</th>\n",
       "      <th>population</th>\n",
       "    </tr>\n",
       "  </thead>\n",
       "  <tbody>\n",
       "    <tr>\n",
       "      <th>0</th>\n",
       "      <td>880.0</td>\n",
       "      <td>129.0</td>\n",
       "      <td>322.0</td>\n",
       "    </tr>\n",
       "    <tr>\n",
       "      <th>1</th>\n",
       "      <td>7099.0</td>\n",
       "      <td>1106.0</td>\n",
       "      <td>2401.0</td>\n",
       "    </tr>\n",
       "  </tbody>\n",
       "</table>\n",
       "</div>"
      ],
      "text/plain": [
       "   total_rooms  total_bedrooms  population\n",
       "0        880.0           129.0       322.0\n",
       "1       7099.0          1106.0      2401.0"
      ]
     },
     "execution_count": 21,
     "metadata": {},
     "output_type": "execute_result"
    }
   ],
   "source": [
    "##select many columns\n",
    "housing_data[['total_rooms','total_bedrooms','population']].head(2)"
   ]
  },
  {
   "cell_type": "code",
   "execution_count": 36,
   "id": "65ca1b19-645c-4a73-bd9d-0e5649b68f36",
   "metadata": {},
   "outputs": [
    {
     "data": {
      "text/html": [
       "<div>\n",
       "<style scoped>\n",
       "    .dataframe tbody tr th:only-of-type {\n",
       "        vertical-align: middle;\n",
       "    }\n",
       "\n",
       "    .dataframe tbody tr th {\n",
       "        vertical-align: top;\n",
       "    }\n",
       "\n",
       "    .dataframe thead th {\n",
       "        text-align: right;\n",
       "    }\n",
       "</style>\n",
       "<table border=\"1\" class=\"dataframe\">\n",
       "  <thead>\n",
       "    <tr style=\"text-align: right;\">\n",
       "      <th></th>\n",
       "      <th>longitude</th>\n",
       "      <th>latitude</th>\n",
       "      <th>housing_median_age</th>\n",
       "      <th>total_rooms</th>\n",
       "      <th>total_bedrooms</th>\n",
       "      <th>population</th>\n",
       "      <th>households</th>\n",
       "      <th>median_income</th>\n",
       "    </tr>\n",
       "  </thead>\n",
       "  <tbody>\n",
       "    <tr>\n",
       "      <th>0</th>\n",
       "      <td>-122.23</td>\n",
       "      <td>37.88</td>\n",
       "      <td>41.0</td>\n",
       "      <td>880.0</td>\n",
       "      <td>129.0</td>\n",
       "      <td>322.0</td>\n",
       "      <td>126.0</td>\n",
       "      <td>8.3252</td>\n",
       "    </tr>\n",
       "    <tr>\n",
       "      <th>1</th>\n",
       "      <td>-122.22</td>\n",
       "      <td>37.86</td>\n",
       "      <td>21.0</td>\n",
       "      <td>7099.0</td>\n",
       "      <td>1106.0</td>\n",
       "      <td>2401.0</td>\n",
       "      <td>1138.0</td>\n",
       "      <td>8.3014</td>\n",
       "    </tr>\n",
       "    <tr>\n",
       "      <th>2</th>\n",
       "      <td>-122.24</td>\n",
       "      <td>37.85</td>\n",
       "      <td>52.0</td>\n",
       "      <td>1467.0</td>\n",
       "      <td>190.0</td>\n",
       "      <td>496.0</td>\n",
       "      <td>177.0</td>\n",
       "      <td>7.2574</td>\n",
       "    </tr>\n",
       "    <tr>\n",
       "      <th>3</th>\n",
       "      <td>-122.25</td>\n",
       "      <td>37.85</td>\n",
       "      <td>52.0</td>\n",
       "      <td>1274.0</td>\n",
       "      <td>235.0</td>\n",
       "      <td>558.0</td>\n",
       "      <td>219.0</td>\n",
       "      <td>5.6431</td>\n",
       "    </tr>\n",
       "    <tr>\n",
       "      <th>4</th>\n",
       "      <td>-122.25</td>\n",
       "      <td>37.85</td>\n",
       "      <td>52.0</td>\n",
       "      <td>1627.0</td>\n",
       "      <td>280.0</td>\n",
       "      <td>565.0</td>\n",
       "      <td>259.0</td>\n",
       "      <td>3.8462</td>\n",
       "    </tr>\n",
       "    <tr>\n",
       "      <th>...</th>\n",
       "      <td>...</td>\n",
       "      <td>...</td>\n",
       "      <td>...</td>\n",
       "      <td>...</td>\n",
       "      <td>...</td>\n",
       "      <td>...</td>\n",
       "      <td>...</td>\n",
       "      <td>...</td>\n",
       "    </tr>\n",
       "    <tr>\n",
       "      <th>20635</th>\n",
       "      <td>-121.09</td>\n",
       "      <td>39.48</td>\n",
       "      <td>25.0</td>\n",
       "      <td>1665.0</td>\n",
       "      <td>374.0</td>\n",
       "      <td>845.0</td>\n",
       "      <td>330.0</td>\n",
       "      <td>1.5603</td>\n",
       "    </tr>\n",
       "    <tr>\n",
       "      <th>20636</th>\n",
       "      <td>-121.21</td>\n",
       "      <td>39.49</td>\n",
       "      <td>18.0</td>\n",
       "      <td>697.0</td>\n",
       "      <td>150.0</td>\n",
       "      <td>356.0</td>\n",
       "      <td>114.0</td>\n",
       "      <td>2.5568</td>\n",
       "    </tr>\n",
       "    <tr>\n",
       "      <th>20637</th>\n",
       "      <td>-121.22</td>\n",
       "      <td>39.43</td>\n",
       "      <td>17.0</td>\n",
       "      <td>2254.0</td>\n",
       "      <td>485.0</td>\n",
       "      <td>1007.0</td>\n",
       "      <td>433.0</td>\n",
       "      <td>1.7000</td>\n",
       "    </tr>\n",
       "    <tr>\n",
       "      <th>20638</th>\n",
       "      <td>-121.32</td>\n",
       "      <td>39.43</td>\n",
       "      <td>18.0</td>\n",
       "      <td>1860.0</td>\n",
       "      <td>409.0</td>\n",
       "      <td>741.0</td>\n",
       "      <td>349.0</td>\n",
       "      <td>1.8672</td>\n",
       "    </tr>\n",
       "    <tr>\n",
       "      <th>20639</th>\n",
       "      <td>-121.24</td>\n",
       "      <td>39.37</td>\n",
       "      <td>16.0</td>\n",
       "      <td>2785.0</td>\n",
       "      <td>616.0</td>\n",
       "      <td>1387.0</td>\n",
       "      <td>530.0</td>\n",
       "      <td>2.3886</td>\n",
       "    </tr>\n",
       "  </tbody>\n",
       "</table>\n",
       "<p>20640 rows × 8 columns</p>\n",
       "</div>"
      ],
      "text/plain": [
       "       longitude  latitude  housing_median_age  total_rooms  total_bedrooms  \\\n",
       "0        -122.23     37.88                41.0        880.0           129.0   \n",
       "1        -122.22     37.86                21.0       7099.0          1106.0   \n",
       "2        -122.24     37.85                52.0       1467.0           190.0   \n",
       "3        -122.25     37.85                52.0       1274.0           235.0   \n",
       "4        -122.25     37.85                52.0       1627.0           280.0   \n",
       "...          ...       ...                 ...          ...             ...   \n",
       "20635    -121.09     39.48                25.0       1665.0           374.0   \n",
       "20636    -121.21     39.49                18.0        697.0           150.0   \n",
       "20637    -121.22     39.43                17.0       2254.0           485.0   \n",
       "20638    -121.32     39.43                18.0       1860.0           409.0   \n",
       "20639    -121.24     39.37                16.0       2785.0           616.0   \n",
       "\n",
       "       population  households  median_income  \n",
       "0           322.0       126.0         8.3252  \n",
       "1          2401.0      1138.0         8.3014  \n",
       "2           496.0       177.0         7.2574  \n",
       "3           558.0       219.0         5.6431  \n",
       "4           565.0       259.0         3.8462  \n",
       "...           ...         ...            ...  \n",
       "20635       845.0       330.0         1.5603  \n",
       "20636       356.0       114.0         2.5568  \n",
       "20637      1007.0       433.0         1.7000  \n",
       "20638       741.0       349.0         1.8672  \n",
       "20639      1387.0       530.0         2.3886  \n",
       "\n",
       "[20640 rows x 8 columns]"
      ]
     },
     "execution_count": 36,
     "metadata": {},
     "output_type": "execute_result"
    }
   ],
   "source": [
    "housing_data.iloc[:,:-2]"
   ]
  },
  {
   "cell_type": "code",
   "execution_count": 22,
   "id": "1d0c2b94-0c0a-46bf-aca6-10435497ac2f",
   "metadata": {},
   "outputs": [
    {
     "data": {
      "text/plain": [
       "median_house_value    116800.0\n",
       "ocean_proximity         INLAND\n",
       "Name: 20634, dtype: object"
      ]
     },
     "execution_count": 22,
     "metadata": {},
     "output_type": "execute_result"
    }
   ],
   "source": [
    "housing_data.iloc[20634, -2:]"
   ]
  },
  {
   "cell_type": "code",
   "execution_count": 37,
   "id": "6d1ef426-310c-4167-9764-ac6f54103e29",
   "metadata": {},
   "outputs": [
    {
     "data": {
      "text/html": [
       "<div>\n",
       "<style scoped>\n",
       "    .dataframe tbody tr th:only-of-type {\n",
       "        vertical-align: middle;\n",
       "    }\n",
       "\n",
       "    .dataframe tbody tr th {\n",
       "        vertical-align: top;\n",
       "    }\n",
       "\n",
       "    .dataframe thead th {\n",
       "        text-align: right;\n",
       "    }\n",
       "</style>\n",
       "<table border=\"1\" class=\"dataframe\">\n",
       "  <thead>\n",
       "    <tr style=\"text-align: right;\">\n",
       "      <th></th>\n",
       "      <th>longitude</th>\n",
       "      <th>latitude</th>\n",
       "      <th>housing_median_age</th>\n",
       "      <th>total_rooms</th>\n",
       "      <th>total_bedrooms</th>\n",
       "      <th>population</th>\n",
       "      <th>households</th>\n",
       "      <th>median_income</th>\n",
       "      <th>median_house_value</th>\n",
       "      <th>ocean_proximity</th>\n",
       "    </tr>\n",
       "  </thead>\n",
       "  <tbody>\n",
       "    <tr>\n",
       "      <th>20634</th>\n",
       "      <td>-121.56</td>\n",
       "      <td>39.27</td>\n",
       "      <td>28.0</td>\n",
       "      <td>2332.0</td>\n",
       "      <td>395.0</td>\n",
       "      <td>1041.0</td>\n",
       "      <td>344.0</td>\n",
       "      <td>3.7125</td>\n",
       "      <td>116800.0</td>\n",
       "      <td>INLAND</td>\n",
       "    </tr>\n",
       "    <tr>\n",
       "      <th>20635</th>\n",
       "      <td>-121.09</td>\n",
       "      <td>39.48</td>\n",
       "      <td>25.0</td>\n",
       "      <td>1665.0</td>\n",
       "      <td>374.0</td>\n",
       "      <td>845.0</td>\n",
       "      <td>330.0</td>\n",
       "      <td>1.5603</td>\n",
       "      <td>78100.0</td>\n",
       "      <td>INLAND</td>\n",
       "    </tr>\n",
       "    <tr>\n",
       "      <th>20636</th>\n",
       "      <td>-121.21</td>\n",
       "      <td>39.49</td>\n",
       "      <td>18.0</td>\n",
       "      <td>697.0</td>\n",
       "      <td>150.0</td>\n",
       "      <td>356.0</td>\n",
       "      <td>114.0</td>\n",
       "      <td>2.5568</td>\n",
       "      <td>77100.0</td>\n",
       "      <td>INLAND</td>\n",
       "    </tr>\n",
       "    <tr>\n",
       "      <th>20637</th>\n",
       "      <td>-121.22</td>\n",
       "      <td>39.43</td>\n",
       "      <td>17.0</td>\n",
       "      <td>2254.0</td>\n",
       "      <td>485.0</td>\n",
       "      <td>1007.0</td>\n",
       "      <td>433.0</td>\n",
       "      <td>1.7000</td>\n",
       "      <td>92300.0</td>\n",
       "      <td>INLAND</td>\n",
       "    </tr>\n",
       "    <tr>\n",
       "      <th>20638</th>\n",
       "      <td>-121.32</td>\n",
       "      <td>39.43</td>\n",
       "      <td>18.0</td>\n",
       "      <td>1860.0</td>\n",
       "      <td>409.0</td>\n",
       "      <td>741.0</td>\n",
       "      <td>349.0</td>\n",
       "      <td>1.8672</td>\n",
       "      <td>84700.0</td>\n",
       "      <td>INLAND</td>\n",
       "    </tr>\n",
       "    <tr>\n",
       "      <th>20639</th>\n",
       "      <td>-121.24</td>\n",
       "      <td>39.37</td>\n",
       "      <td>16.0</td>\n",
       "      <td>2785.0</td>\n",
       "      <td>616.0</td>\n",
       "      <td>1387.0</td>\n",
       "      <td>530.0</td>\n",
       "      <td>2.3886</td>\n",
       "      <td>89400.0</td>\n",
       "      <td>INLAND</td>\n",
       "    </tr>\n",
       "  </tbody>\n",
       "</table>\n",
       "</div>"
      ],
      "text/plain": [
       "       longitude  latitude  housing_median_age  total_rooms  total_bedrooms  \\\n",
       "20634    -121.56     39.27                28.0       2332.0           395.0   \n",
       "20635    -121.09     39.48                25.0       1665.0           374.0   \n",
       "20636    -121.21     39.49                18.0        697.0           150.0   \n",
       "20637    -121.22     39.43                17.0       2254.0           485.0   \n",
       "20638    -121.32     39.43                18.0       1860.0           409.0   \n",
       "20639    -121.24     39.37                16.0       2785.0           616.0   \n",
       "\n",
       "       population  households  median_income  median_house_value  \\\n",
       "20634      1041.0       344.0         3.7125            116800.0   \n",
       "20635       845.0       330.0         1.5603             78100.0   \n",
       "20636       356.0       114.0         2.5568             77100.0   \n",
       "20637      1007.0       433.0         1.7000             92300.0   \n",
       "20638       741.0       349.0         1.8672             84700.0   \n",
       "20639      1387.0       530.0         2.3886             89400.0   \n",
       "\n",
       "      ocean_proximity  \n",
       "20634          INLAND  \n",
       "20635          INLAND  \n",
       "20636          INLAND  \n",
       "20637          INLAND  \n",
       "20638          INLAND  \n",
       "20639          INLAND  "
      ]
     },
     "execution_count": 37,
     "metadata": {},
     "output_type": "execute_result"
    }
   ],
   "source": [
    "housing_data.tail(6)"
   ]
  },
  {
   "cell_type": "code",
   "execution_count": 40,
   "id": "17d3ca8a-4128-4aa9-a1f2-85395bd17c8b",
   "metadata": {
    "scrolled": true
   },
   "outputs": [
    {
     "data": {
      "text/plain": [
       "longitude             -121.24\n",
       "latitude                39.37\n",
       "housing_median_age       16.0\n",
       "total_rooms            2785.0\n",
       "total_bedrooms          616.0\n",
       "population             1387.0\n",
       "households              530.0\n",
       "median_income          2.3886\n",
       "median_house_value    89400.0\n",
       "ocean_proximity        INLAND\n",
       "Name: 20639, dtype: object"
      ]
     },
     "execution_count": 40,
     "metadata": {},
     "output_type": "execute_result"
    }
   ],
   "source": [
    "housing_data.iloc[20639,:] #specific row with all columns\n"
   ]
  },
  {
   "cell_type": "code",
   "execution_count": 29,
   "id": "9220355f-a4e0-4261-8a45-259dc64e1ef1",
   "metadata": {},
   "outputs": [
    {
     "data": {
      "text/plain": [
       "median_income           3.7125\n",
       "median_house_value    116800.0\n",
       "ocean_proximity         INLAND\n",
       "Name: 20634, dtype: object"
      ]
     },
     "execution_count": 29,
     "metadata": {},
     "output_type": "execute_result"
    }
   ],
   "source": [
    "housing_data.iloc[20634,-3:]"
   ]
  },
  {
   "cell_type": "code",
   "execution_count": 17,
   "id": "60211519-d4fc-43fb-af97-73489340f621",
   "metadata": {},
   "outputs": [
    {
     "data": {
      "text/html": [
       "<div>\n",
       "<style scoped>\n",
       "    .dataframe tbody tr th:only-of-type {\n",
       "        vertical-align: middle;\n",
       "    }\n",
       "\n",
       "    .dataframe tbody tr th {\n",
       "        vertical-align: top;\n",
       "    }\n",
       "\n",
       "    .dataframe thead th {\n",
       "        text-align: right;\n",
       "    }\n",
       "</style>\n",
       "<table border=\"1\" class=\"dataframe\">\n",
       "  <thead>\n",
       "    <tr style=\"text-align: right;\">\n",
       "      <th></th>\n",
       "      <th>longitude</th>\n",
       "      <th>latitude</th>\n",
       "      <th>housing_median_age</th>\n",
       "      <th>total_rooms</th>\n",
       "    </tr>\n",
       "  </thead>\n",
       "  <tbody>\n",
       "    <tr>\n",
       "      <th>0</th>\n",
       "      <td>-122.23</td>\n",
       "      <td>37.88</td>\n",
       "      <td>41.0</td>\n",
       "      <td>880.0</td>\n",
       "    </tr>\n",
       "    <tr>\n",
       "      <th>1</th>\n",
       "      <td>-122.22</td>\n",
       "      <td>37.86</td>\n",
       "      <td>21.0</td>\n",
       "      <td>7099.0</td>\n",
       "    </tr>\n",
       "    <tr>\n",
       "      <th>2</th>\n",
       "      <td>-122.24</td>\n",
       "      <td>37.85</td>\n",
       "      <td>52.0</td>\n",
       "      <td>1467.0</td>\n",
       "    </tr>\n",
       "  </tbody>\n",
       "</table>\n",
       "</div>"
      ],
      "text/plain": [
       "   longitude  latitude  housing_median_age  total_rooms\n",
       "0    -122.23     37.88                41.0        880.0\n",
       "1    -122.22     37.86                21.0       7099.0\n",
       "2    -122.24     37.85                52.0       1467.0"
      ]
     },
     "execution_count": 17,
     "metadata": {},
     "output_type": "execute_result"
    }
   ],
   "source": [
    "# using .loc and iloc. iloc selects rows and columns by using integer positions while loc is by labels\n",
    "housing_data.iloc[0:3,0:4] # seleacts all rows elements for the column 0,1,2,and 3"
   ]
  },
  {
   "cell_type": "code",
   "execution_count": 30,
   "id": "2c970401-378e-4239-9738-69505efae385",
   "metadata": {},
   "outputs": [
    {
     "data": {
      "text/html": [
       "<div>\n",
       "<style scoped>\n",
       "    .dataframe tbody tr th:only-of-type {\n",
       "        vertical-align: middle;\n",
       "    }\n",
       "\n",
       "    .dataframe tbody tr th {\n",
       "        vertical-align: top;\n",
       "    }\n",
       "\n",
       "    .dataframe thead th {\n",
       "        text-align: right;\n",
       "    }\n",
       "</style>\n",
       "<table border=\"1\" class=\"dataframe\">\n",
       "  <thead>\n",
       "    <tr style=\"text-align: right;\">\n",
       "      <th></th>\n",
       "      <th>longitude</th>\n",
       "      <th>latitude</th>\n",
       "      <th>housing_median_age</th>\n",
       "      <th>total_rooms</th>\n",
       "      <th>total_bedrooms</th>\n",
       "      <th>population</th>\n",
       "      <th>households</th>\n",
       "      <th>median_income</th>\n",
       "      <th>median_house_value</th>\n",
       "      <th>ocean_proximity</th>\n",
       "    </tr>\n",
       "  </thead>\n",
       "  <tbody>\n",
       "    <tr>\n",
       "      <th>1</th>\n",
       "      <td>-122.22</td>\n",
       "      <td>37.86</td>\n",
       "      <td>21.0</td>\n",
       "      <td>7099.0</td>\n",
       "      <td>1106.0</td>\n",
       "      <td>2401.0</td>\n",
       "      <td>1138.0</td>\n",
       "      <td>8.3014</td>\n",
       "      <td>358500.0</td>\n",
       "      <td>NEAR BAY</td>\n",
       "    </tr>\n",
       "    <tr>\n",
       "      <th>2</th>\n",
       "      <td>-122.24</td>\n",
       "      <td>37.85</td>\n",
       "      <td>52.0</td>\n",
       "      <td>1467.0</td>\n",
       "      <td>190.0</td>\n",
       "      <td>496.0</td>\n",
       "      <td>177.0</td>\n",
       "      <td>7.2574</td>\n",
       "      <td>352100.0</td>\n",
       "      <td>NEAR BAY</td>\n",
       "    </tr>\n",
       "  </tbody>\n",
       "</table>\n",
       "</div>"
      ],
      "text/plain": [
       "   longitude  latitude  housing_median_age  total_rooms  total_bedrooms  \\\n",
       "1    -122.22     37.86                21.0       7099.0          1106.0   \n",
       "2    -122.24     37.85                52.0       1467.0           190.0   \n",
       "\n",
       "   population  households  median_income  median_house_value ocean_proximity  \n",
       "1      2401.0      1138.0         8.3014            358500.0        NEAR BAY  \n",
       "2       496.0       177.0         7.2574            352100.0        NEAR BAY  "
      ]
     },
     "execution_count": 30,
     "metadata": {},
     "output_type": "execute_result"
    }
   ],
   "source": [
    "housing_data.loc[1:2] #selects the row 2 to 3"
   ]
  },
  {
   "cell_type": "code",
   "execution_count": 31,
   "id": "a9ce6b34-c588-49fb-985d-0989dd94d502",
   "metadata": {},
   "outputs": [
    {
     "data": {
      "text/html": [
       "<div>\n",
       "<style scoped>\n",
       "    .dataframe tbody tr th:only-of-type {\n",
       "        vertical-align: middle;\n",
       "    }\n",
       "\n",
       "    .dataframe tbody tr th {\n",
       "        vertical-align: top;\n",
       "    }\n",
       "\n",
       "    .dataframe thead th {\n",
       "        text-align: right;\n",
       "    }\n",
       "</style>\n",
       "<table border=\"1\" class=\"dataframe\">\n",
       "  <thead>\n",
       "    <tr style=\"text-align: right;\">\n",
       "      <th></th>\n",
       "      <th>longitude</th>\n",
       "      <th>latitude</th>\n",
       "      <th>housing_median_age</th>\n",
       "      <th>total_rooms</th>\n",
       "      <th>total_bedrooms</th>\n",
       "      <th>population</th>\n",
       "      <th>households</th>\n",
       "      <th>median_income</th>\n",
       "      <th>median_house_value</th>\n",
       "      <th>ocean_proximity</th>\n",
       "    </tr>\n",
       "  </thead>\n",
       "  <tbody>\n",
       "    <tr>\n",
       "      <th>0</th>\n",
       "      <td>-122.23</td>\n",
       "      <td>37.88</td>\n",
       "      <td>41.0</td>\n",
       "      <td>880.0</td>\n",
       "      <td>129.0</td>\n",
       "      <td>322.0</td>\n",
       "      <td>126.0</td>\n",
       "      <td>8.3252</td>\n",
       "      <td>452600.0</td>\n",
       "      <td>NEAR BAY</td>\n",
       "    </tr>\n",
       "    <tr>\n",
       "      <th>1</th>\n",
       "      <td>-122.22</td>\n",
       "      <td>37.86</td>\n",
       "      <td>21.0</td>\n",
       "      <td>7099.0</td>\n",
       "      <td>1106.0</td>\n",
       "      <td>2401.0</td>\n",
       "      <td>1138.0</td>\n",
       "      <td>8.3014</td>\n",
       "      <td>358500.0</td>\n",
       "      <td>NEAR BAY</td>\n",
       "    </tr>\n",
       "    <tr>\n",
       "      <th>2</th>\n",
       "      <td>-122.24</td>\n",
       "      <td>37.85</td>\n",
       "      <td>52.0</td>\n",
       "      <td>1467.0</td>\n",
       "      <td>190.0</td>\n",
       "      <td>496.0</td>\n",
       "      <td>177.0</td>\n",
       "      <td>7.2574</td>\n",
       "      <td>352100.0</td>\n",
       "      <td>NEAR BAY</td>\n",
       "    </tr>\n",
       "    <tr>\n",
       "      <th>3</th>\n",
       "      <td>-122.25</td>\n",
       "      <td>37.85</td>\n",
       "      <td>52.0</td>\n",
       "      <td>1274.0</td>\n",
       "      <td>235.0</td>\n",
       "      <td>558.0</td>\n",
       "      <td>219.0</td>\n",
       "      <td>5.6431</td>\n",
       "      <td>341300.0</td>\n",
       "      <td>NEAR BAY</td>\n",
       "    </tr>\n",
       "  </tbody>\n",
       "</table>\n",
       "</div>"
      ],
      "text/plain": [
       "   longitude  latitude  housing_median_age  total_rooms  total_bedrooms  \\\n",
       "0    -122.23     37.88                41.0        880.0           129.0   \n",
       "1    -122.22     37.86                21.0       7099.0          1106.0   \n",
       "2    -122.24     37.85                52.0       1467.0           190.0   \n",
       "3    -122.25     37.85                52.0       1274.0           235.0   \n",
       "\n",
       "   population  households  median_income  median_house_value ocean_proximity  \n",
       "0       322.0       126.0         8.3252            452600.0        NEAR BAY  \n",
       "1      2401.0      1138.0         8.3014            358500.0        NEAR BAY  \n",
       "2       496.0       177.0         7.2574            352100.0        NEAR BAY  \n",
       "3       558.0       219.0         5.6431            341300.0        NEAR BAY  "
      ]
     },
     "execution_count": 31,
     "metadata": {},
     "output_type": "execute_result"
    }
   ],
   "source": [
    "housing_data.loc[0:3] #selects the first 4 rows"
   ]
  },
  {
   "cell_type": "code",
   "execution_count": 33,
   "id": "40658fa5-13b6-4f13-b358-efc644933416",
   "metadata": {},
   "outputs": [
    {
     "data": {
      "text/html": [
       "<div>\n",
       "<style scoped>\n",
       "    .dataframe tbody tr th:only-of-type {\n",
       "        vertical-align: middle;\n",
       "    }\n",
       "\n",
       "    .dataframe tbody tr th {\n",
       "        vertical-align: top;\n",
       "    }\n",
       "\n",
       "    .dataframe thead th {\n",
       "        text-align: right;\n",
       "    }\n",
       "</style>\n",
       "<table border=\"1\" class=\"dataframe\">\n",
       "  <thead>\n",
       "    <tr style=\"text-align: right;\">\n",
       "      <th></th>\n",
       "      <th>longitude</th>\n",
       "      <th>latitude</th>\n",
       "      <th>housing_median_age</th>\n",
       "      <th>population</th>\n",
       "    </tr>\n",
       "  </thead>\n",
       "  <tbody>\n",
       "    <tr>\n",
       "      <th>0</th>\n",
       "      <td>-122.23</td>\n",
       "      <td>37.88</td>\n",
       "      <td>41.0</td>\n",
       "      <td>322.0</td>\n",
       "    </tr>\n",
       "    <tr>\n",
       "      <th>1</th>\n",
       "      <td>-122.22</td>\n",
       "      <td>37.86</td>\n",
       "      <td>21.0</td>\n",
       "      <td>2401.0</td>\n",
       "    </tr>\n",
       "    <tr>\n",
       "      <th>2</th>\n",
       "      <td>-122.24</td>\n",
       "      <td>37.85</td>\n",
       "      <td>52.0</td>\n",
       "      <td>496.0</td>\n",
       "    </tr>\n",
       "    <tr>\n",
       "      <th>3</th>\n",
       "      <td>-122.25</td>\n",
       "      <td>37.85</td>\n",
       "      <td>52.0</td>\n",
       "      <td>558.0</td>\n",
       "    </tr>\n",
       "    <tr>\n",
       "      <th>4</th>\n",
       "      <td>-122.25</td>\n",
       "      <td>37.85</td>\n",
       "      <td>52.0</td>\n",
       "      <td>565.0</td>\n",
       "    </tr>\n",
       "    <tr>\n",
       "      <th>...</th>\n",
       "      <td>...</td>\n",
       "      <td>...</td>\n",
       "      <td>...</td>\n",
       "      <td>...</td>\n",
       "    </tr>\n",
       "    <tr>\n",
       "      <th>20635</th>\n",
       "      <td>-121.09</td>\n",
       "      <td>39.48</td>\n",
       "      <td>25.0</td>\n",
       "      <td>845.0</td>\n",
       "    </tr>\n",
       "    <tr>\n",
       "      <th>20636</th>\n",
       "      <td>-121.21</td>\n",
       "      <td>39.49</td>\n",
       "      <td>18.0</td>\n",
       "      <td>356.0</td>\n",
       "    </tr>\n",
       "    <tr>\n",
       "      <th>20637</th>\n",
       "      <td>-121.22</td>\n",
       "      <td>39.43</td>\n",
       "      <td>17.0</td>\n",
       "      <td>1007.0</td>\n",
       "    </tr>\n",
       "    <tr>\n",
       "      <th>20638</th>\n",
       "      <td>-121.32</td>\n",
       "      <td>39.43</td>\n",
       "      <td>18.0</td>\n",
       "      <td>741.0</td>\n",
       "    </tr>\n",
       "    <tr>\n",
       "      <th>20639</th>\n",
       "      <td>-121.24</td>\n",
       "      <td>39.37</td>\n",
       "      <td>16.0</td>\n",
       "      <td>1387.0</td>\n",
       "    </tr>\n",
       "  </tbody>\n",
       "</table>\n",
       "<p>20640 rows × 4 columns</p>\n",
       "</div>"
      ],
      "text/plain": [
       "       longitude  latitude  housing_median_age  population\n",
       "0        -122.23     37.88                41.0       322.0\n",
       "1        -122.22     37.86                21.0      2401.0\n",
       "2        -122.24     37.85                52.0       496.0\n",
       "3        -122.25     37.85                52.0       558.0\n",
       "4        -122.25     37.85                52.0       565.0\n",
       "...          ...       ...                 ...         ...\n",
       "20635    -121.09     39.48                25.0       845.0\n",
       "20636    -121.21     39.49                18.0       356.0\n",
       "20637    -121.22     39.43                17.0      1007.0\n",
       "20638    -121.32     39.43                18.0       741.0\n",
       "20639    -121.24     39.37                16.0      1387.0\n",
       "\n",
       "[20640 rows x 4 columns]"
      ]
     },
     "execution_count": 33,
     "metadata": {},
     "output_type": "execute_result"
    }
   ],
   "source": [
    "housing_data.iloc[:,np.r_[0:3,5]]"
   ]
  },
  {
   "cell_type": "code",
   "execution_count": 32,
   "id": "cd4e87ff-3879-43f2-8b54-0f0942c8dd95",
   "metadata": {},
   "outputs": [
    {
     "data": {
      "text/html": [
       "<div>\n",
       "<style scoped>\n",
       "    .dataframe tbody tr th:only-of-type {\n",
       "        vertical-align: middle;\n",
       "    }\n",
       "\n",
       "    .dataframe tbody tr th {\n",
       "        vertical-align: top;\n",
       "    }\n",
       "\n",
       "    .dataframe thead th {\n",
       "        text-align: right;\n",
       "    }\n",
       "</style>\n",
       "<table border=\"1\" class=\"dataframe\">\n",
       "  <thead>\n",
       "    <tr style=\"text-align: right;\">\n",
       "      <th></th>\n",
       "      <th>longitude</th>\n",
       "      <th>latitude</th>\n",
       "      <th>housing_median_age</th>\n",
       "      <th>population</th>\n",
       "    </tr>\n",
       "  </thead>\n",
       "  <tbody>\n",
       "    <tr>\n",
       "      <th>0</th>\n",
       "      <td>-122.23</td>\n",
       "      <td>37.88</td>\n",
       "      <td>41.0</td>\n",
       "      <td>322.0</td>\n",
       "    </tr>\n",
       "    <tr>\n",
       "      <th>1</th>\n",
       "      <td>-122.22</td>\n",
       "      <td>37.86</td>\n",
       "      <td>21.0</td>\n",
       "      <td>2401.0</td>\n",
       "    </tr>\n",
       "  </tbody>\n",
       "</table>\n",
       "</div>"
      ],
      "text/plain": [
       "   longitude  latitude  housing_median_age  population\n",
       "0    -122.23     37.88                41.0       322.0\n",
       "1    -122.22     37.86                21.0      2401.0"
      ]
     },
     "execution_count": 32,
     "metadata": {},
     "output_type": "execute_result"
    }
   ],
   "source": [
    "housing_data.iloc[:,np.r_[0:3,5]].head(2) #selects columns that are not following on another"
   ]
  },
  {
   "cell_type": "markdown",
   "id": "3a728091-509e-4b73-af76-fcf49e4d053e",
   "metadata": {},
   "source": [
    "#### Question 1\n",
    "* Find the mean, median and mode population of the blocks\n",
    "* Find the most common total number of rooms in the block"
   ]
  },
  {
   "cell_type": "code",
   "execution_count": 41,
   "id": "a8b40d5c-bef1-4cf9-a1cf-73356592a997",
   "metadata": {},
   "outputs": [
    {
     "name": "stdout",
     "output_type": "stream",
     "text": [
      "35762.283932\n",
      "2decimal places: 35762.28\n",
      "tens: 35760.0\n",
      "hundreds: 35800.0\n"
     ]
    }
   ],
   "source": [
    "ab=35762.283932\n",
    "print(ab)\n",
    "print(\"2decimal places:\", round(ab,2)) #2decimal places\n",
    "print(\"tens:\",round(ab,-1)) #tens\n",
    "print(\"hundreds:\",round(ab,-2)) #hundreds"
   ]
  },
  {
   "cell_type": "code",
   "execution_count": 43,
   "id": "e0304b98-2d68-41db-83a1-a622c0689473",
   "metadata": {},
   "outputs": [
    {
     "data": {
      "text/plain": [
       "np.float64(1425.4767441860465)"
      ]
     },
     "execution_count": 43,
     "metadata": {},
     "output_type": "execute_result"
    }
   ],
   "source": [
    "housing_data['population'].mean()"
   ]
  },
  {
   "cell_type": "code",
   "execution_count": 44,
   "id": "971e08a8-c2e9-4f8d-b9b7-7c9ba86ff52d",
   "metadata": {},
   "outputs": [
    {
     "data": {
      "text/plain": [
       "np.float64(1425.48)"
      ]
     },
     "execution_count": 44,
     "metadata": {},
     "output_type": "execute_result"
    }
   ],
   "source": [
    "round(housing_data['population'].mean(),2)"
   ]
  },
  {
   "cell_type": "code",
   "execution_count": 45,
   "id": "bb9c3c6b-aeb5-4609-9610-61942f78ec1e",
   "metadata": {},
   "outputs": [
    {
     "data": {
      "text/plain": [
       "np.float64(1166.0)"
      ]
     },
     "execution_count": 45,
     "metadata": {},
     "output_type": "execute_result"
    }
   ],
   "source": [
    "round(housing_data['population'].median(),2)"
   ]
  },
  {
   "cell_type": "code",
   "execution_count": 46,
   "id": "c863a3bf-816a-4f11-8135-e3fe1baa76b8",
   "metadata": {},
   "outputs": [
    {
     "data": {
      "text/plain": [
       "0    891.0\n",
       "Name: population, dtype: float64"
      ]
     },
     "execution_count": 46,
     "metadata": {},
     "output_type": "execute_result"
    }
   ],
   "source": [
    "round(housing_data['population'].mode(),2)"
   ]
  },
  {
   "cell_type": "code",
   "execution_count": 47,
   "id": "fe159ac7-fa88-42ba-afd6-82b5d2d9bcae",
   "metadata": {},
   "outputs": [
    {
     "data": {
      "text/plain": [
       "np.float64(4759445.105938661)"
      ]
     },
     "execution_count": 47,
     "metadata": {},
     "output_type": "execute_result"
    }
   ],
   "source": [
    "housing_data['total_rooms'].var()"
   ]
  },
  {
   "cell_type": "code",
   "execution_count": 48,
   "id": "60ace38d-7068-47d7-b395-29246d2b6cd6",
   "metadata": {},
   "outputs": [
    {
     "name": "stdout",
     "output_type": "stream",
     "text": [
      "mean= 1425.48, median= 1166.0 \n"
     ]
    }
   ],
   "source": [
    "print(\"mean= {}, median= {} \".format(round(housing_data['population'].mean(),2),housing_data['population'].median()))"
   ]
  },
  {
   "cell_type": "code",
   "execution_count": 49,
   "id": "fd7023d3-4fb2-4841-820e-d797d7daa57c",
   "metadata": {},
   "outputs": [
    {
     "name": "stdout",
     "output_type": "stream",
     "text": [
      "mean= 1425.48, median= 1166.0 \n"
     ]
    }
   ],
   "source": [
    "mean_pop=round(housing_data['population'].mean(),2)\n",
    "median_pop=housing_data['population'].median()\n",
    "print(\"mean= {}, median= {} \".format(mean_pop,median_pop))"
   ]
  },
  {
   "cell_type": "code",
   "execution_count": null,
   "id": "ec8bfcf4-49f4-4eca-a6b8-f6e2ef71917c",
   "metadata": {},
   "outputs": [],
   "source": []
  },
  {
   "cell_type": "code",
   "execution_count": 50,
   "id": "f0f52538-3942-40e6-9887-edeaca172b8e",
   "metadata": {},
   "outputs": [
    {
     "data": {
      "text/plain": [
       "0    1527.0\n",
       "Name: total_rooms, dtype: float64"
      ]
     },
     "execution_count": 50,
     "metadata": {},
     "output_type": "execute_result"
    }
   ],
   "source": [
    "housing_data['total_rooms'].mode()\n"
   ]
  },
  {
   "cell_type": "code",
   "execution_count": 6,
   "id": "3958ecf9-63d2-49f8-baa7-639e771ec04f",
   "metadata": {},
   "outputs": [
    {
     "data": {
      "text/plain": [
       "[(1527.0, 18),\n",
       " (1613.0, 17),\n",
       " (1582.0, 17),\n",
       " (2127.0, 16),\n",
       " (1471.0, 15),\n",
       " (2053.0, 15),\n",
       " (1717.0, 15),\n",
       " (1607.0, 15)]"
      ]
     },
     "execution_count": 6,
     "metadata": {},
     "output_type": "execute_result"
    }
   ],
   "source": [
    "#use collections module to get the mode\n",
    "from collections import Counter\n",
    "dict_counter=Counter(housing_data['total_rooms'])\n",
    "common_el=dict_counter.most_common(8)\n",
    "common_el"
   ]
  },
  {
   "cell_type": "code",
   "execution_count": 59,
   "id": "fef9d68c-ac81-4f28-ab5b-8b72c359bc58",
   "metadata": {},
   "outputs": [
    {
     "data": {
      "text/plain": [
       "[(1527.0, 18)]"
      ]
     },
     "execution_count": 59,
     "metadata": {},
     "output_type": "execute_result"
    }
   ],
   "source": [
    "dict_counter.most_common(1)"
   ]
  },
  {
   "cell_type": "code",
   "execution_count": 61,
   "id": "19213512-f2ea-4c55-a650-5ab024f31436",
   "metadata": {},
   "outputs": [
    {
     "data": {
      "text/plain": [
       "18"
      ]
     },
     "execution_count": 61,
     "metadata": {},
     "output_type": "execute_result"
    }
   ],
   "source": [
    "dict_counter.most_common(1)[0][1]"
   ]
  },
  {
   "cell_type": "code",
   "execution_count": 62,
   "id": "6cca4285-6792-4c97-b04d-4478c6c84ed6",
   "metadata": {},
   "outputs": [
    {
     "data": {
      "text/plain": [
       "1527.0"
      ]
     },
     "execution_count": 62,
     "metadata": {},
     "output_type": "execute_result"
    }
   ],
   "source": [
    "dict_counter.most_common(1)[0][0]"
   ]
  },
  {
   "cell_type": "code",
   "execution_count": null,
   "id": "6c672ce6-b271-4239-b60a-64751da6d0b0",
   "metadata": {},
   "outputs": [],
   "source": []
  },
  {
   "cell_type": "code",
   "execution_count": 63,
   "id": "a96078e7-431b-4c42-9bde-b73bcab076df",
   "metadata": {},
   "outputs": [
    {
     "name": "stdout",
     "output_type": "stream",
     "text": [
      "common_el_number =(1527.0, 18) and common_el_freq=(1613.0, 17)\n"
     ]
    }
   ],
   "source": [
    "c_number=common_el[0]\n",
    "c_freq=common_el[1]\n",
    "print(\"common_el_number ={} and common_el_freq={}\".format(c_number,c_freq))"
   ]
  },
  {
   "cell_type": "code",
   "execution_count": 64,
   "id": "2fa3c1b8-25cd-4875-a5e2-2c5c6c1e2bb1",
   "metadata": {},
   "outputs": [
    {
     "data": {
      "text/plain": [
       "[(891.0, 25), (1227.0, 24)]"
      ]
     },
     "execution_count": 64,
     "metadata": {},
     "output_type": "execute_result"
    }
   ],
   "source": [
    "#my work\n",
    "from collections import Counter\n",
    "dict_counter=Counter(housing_data['population'])\n",
    "dict_counter.most_common(2)"
   ]
  },
  {
   "cell_type": "code",
   "execution_count": null,
   "id": "c5bbb0e8-36ff-46ce-a957-ebe7f71ee703",
   "metadata": {},
   "outputs": [],
   "source": []
  },
  {
   "cell_type": "code",
   "execution_count": null,
   "id": "7a6f0f3a-48a3-4dc1-a5c9-816245bb1b7a",
   "metadata": {},
   "outputs": [],
   "source": []
  },
  {
   "cell_type": "code",
   "execution_count": 65,
   "id": "faa27802-e758-4aa5-9045-39bdd4c9bee6",
   "metadata": {},
   "outputs": [
    {
     "data": {
      "text/plain": [
       "[(891.0, 25), (1227.0, 24), (761.0, 24), (850.0, 24)]"
      ]
     },
     "execution_count": 65,
     "metadata": {},
     "output_type": "execute_result"
    }
   ],
   "source": [
    "dict_counter.most_common(4)"
   ]
  },
  {
   "cell_type": "code",
   "execution_count": null,
   "id": "14ca7523-a2d7-455b-8222-071ad0168aff",
   "metadata": {},
   "outputs": [],
   "source": []
  },
  {
   "cell_type": "code",
   "execution_count": 7,
   "id": "c09d4bee-9184-499c-ad12-d8e0a765be71",
   "metadata": {},
   "outputs": [
    {
     "name": "stdout",
     "output_type": "stream",
     "text": [
      "Counter({np.int64(23): 4, np.int64(25): 3, np.int64(13): 2, np.int64(12): 2, np.int64(24): 1, np.int64(17): 1, np.int64(34): 1, np.int64(22): 1})\n"
     ]
    }
   ],
   "source": [
    "a=np.array([13,25,25,24,13,12,23,12,17,25,34,23,23,22,23])\n",
    "b=Counter(a)\n",
    "print(b)"
   ]
  },
  {
   "cell_type": "code",
   "execution_count": 63,
   "id": "7a93fb35-7a50-4d09-b955-ad6e113b915f",
   "metadata": {},
   "outputs": [
    {
     "data": {
      "text/plain": [
       "dict_items([(13, 2), (25, 3), (24, 1), (12, 2), (23, 4), (17, 1), (34, 1), (22, 1)])"
      ]
     },
     "execution_count": 63,
     "metadata": {},
     "output_type": "execute_result"
    }
   ],
   "source": [
    "tup=b.items()\n",
    "tup"
   ]
  },
  {
   "cell_type": "code",
   "execution_count": 64,
   "id": "a83e3874-4794-408a-9991-21ef36f62354",
   "metadata": {},
   "outputs": [
    {
     "data": {
      "text/plain": [
       "4"
      ]
     },
     "execution_count": 64,
     "metadata": {},
     "output_type": "execute_result"
    }
   ],
   "source": [
    "b.get(23)"
   ]
  },
  {
   "cell_type": "code",
   "execution_count": 8,
   "id": "64918684-c65d-4bd5-9ebd-6489049730c3",
   "metadata": {},
   "outputs": [
    {
     "data": {
      "text/plain": [
       "array([13, 25, 25, 24, 13, 12, 23, 12, 17, 25, 34, 23, 23, 22, 23])"
      ]
     },
     "execution_count": 8,
     "metadata": {},
     "output_type": "execute_result"
    }
   ],
   "source": [
    "a"
   ]
  },
  {
   "cell_type": "code",
   "execution_count": 14,
   "id": "d5092bbd-3021-460c-a0c2-7bcd52028644",
   "metadata": {},
   "outputs": [
    {
     "data": {
      "text/plain": [
       "{np.int64(13): 2,\n",
       " np.int64(25): 3,\n",
       " np.int64(24): 1,\n",
       " np.int64(12): 2,\n",
       " np.int64(23): 4,\n",
       " np.int64(17): 1,\n",
       " np.int64(34): 1,\n",
       " np.int64(22): 1}"
      ]
     },
     "execution_count": 14,
     "metadata": {},
     "output_type": "execute_result"
    }
   ],
   "source": [
    "dict2={}\n",
    "for i in a:\n",
    "    dict2[i]=dict2.get(i,0)+1\n",
    "dict2\n",
    "\n"
   ]
  },
  {
   "cell_type": "code",
   "execution_count": 15,
   "id": "0f146284-c43d-4629-a925-9e713399e6f0",
   "metadata": {},
   "outputs": [
    {
     "name": "stdout",
     "output_type": "stream",
     "text": [
      "3\n",
      "dict_keys([np.int64(13), np.int64(25), np.int64(24), np.int64(12), np.int64(23), np.int64(17), np.int64(34), np.int64(22)])\n"
     ]
    }
   ],
   "source": [
    "print(dict2[25]) #gives me a value\n",
    "print(dict2.keys())"
   ]
  },
  {
   "cell_type": "code",
   "execution_count": 16,
   "id": "6170a644-43a0-423a-8a76-50a8c09e72ad",
   "metadata": {},
   "outputs": [
    {
     "data": {
      "text/plain": [
       "4"
      ]
     },
     "execution_count": 16,
     "metadata": {},
     "output_type": "execute_result"
    }
   ],
   "source": [
    "max(dict2.values())"
   ]
  },
  {
   "cell_type": "code",
   "execution_count": null,
   "id": "fc97c2a3-ffea-44a6-b552-91a50eb363b3",
   "metadata": {},
   "outputs": [],
   "source": []
  },
  {
   "cell_type": "code",
   "execution_count": 17,
   "id": "c35b58c3-83aa-4e1c-ab01-4d64ea90add8",
   "metadata": {},
   "outputs": [
    {
     "data": {
      "text/plain": [
       "18"
      ]
     },
     "execution_count": 17,
     "metadata": {},
     "output_type": "execute_result"
    }
   ],
   "source": [
    "# use the dictionary to get the mode. Create the dictionary and get the most common\n",
    "dict1={}\n",
    "for number in housing_data['total_rooms']:\n",
    "    dict1[number]=dict1.get(number,0)+1\n",
    "high_frequency=max(dict1.values())\n",
    "high_frequency"
   ]
  },
  {
   "cell_type": "code",
   "execution_count": 19,
   "id": "4064cf38-7a38-4022-bcf7-ec769078a219",
   "metadata": {},
   "outputs": [
    {
     "name": "stdout",
     "output_type": "stream",
     "text": [
      "1527.0\n"
     ]
    }
   ],
   "source": [
    "#Use for loop extract the key with the highest value given the dictionary value\n",
    "for k,v in dict1.items():\n",
    "    if dict1[k]== high_frequency:\n",
    "        print(k)"
   ]
  },
  {
   "cell_type": "code",
   "execution_count": 79,
   "id": "82a35af0-df05-4bc7-956b-d30f0532be29",
   "metadata": {},
   "outputs": [
    {
     "data": {
      "text/plain": [
       "[1, 2, 3, 4, 5, 6, 7, 8, 9, 10]"
      ]
     },
     "execution_count": 79,
     "metadata": {},
     "output_type": "execute_result"
    }
   ],
   "source": [
    "list(range(1,10+1))"
   ]
  },
  {
   "cell_type": "code",
   "execution_count": 20,
   "id": "c5568c5d-4d12-4071-bc8e-342608a4b979",
   "metadata": {},
   "outputs": [
    {
     "data": {
      "text/plain": [
       "[1, 4, 9, 16, 25, 36, 49, 64, 81, 100]"
      ]
     },
     "execution_count": 20,
     "metadata": {},
     "output_type": "execute_result"
    }
   ],
   "source": [
    "[a**2 for a in range(1,10+1)] #a list comprehension"
   ]
  },
  {
   "cell_type": "code",
   "execution_count": 21,
   "id": "a5d7b87c-56a4-42c8-b8b8-7794ba61de1e",
   "metadata": {},
   "outputs": [
    {
     "name": "stdout",
     "output_type": "stream",
     "text": [
      "18\n",
      "1527.0\n"
     ]
    }
   ],
   "source": [
    "#Use list comprehension to print the key(total rooms) with the highest frequency\n",
    "most_frequent=[k for k,v in dict1.items() if dict1[k]==high_frequency] \n",
    "print(high_frequency)\n",
    "print(most_frequent[0])"
   ]
  },
  {
   "cell_type": "markdown",
   "id": "9744e17d-3331-4f67-9db4-e42529287790",
   "metadata": {},
   "source": [
    "## list comprehension"
   ]
  },
  {
   "cell_type": "code",
   "execution_count": 22,
   "id": "95e79926-51e9-4f01-9615-80d5209b56d1",
   "metadata": {},
   "outputs": [],
   "source": [
    "b1=[4,5,6,7,6,5,6,3,9,8,2]"
   ]
  },
  {
   "cell_type": "code",
   "execution_count": 23,
   "id": "9b994787-5695-48c0-aaf5-5381f37d7c55",
   "metadata": {},
   "outputs": [
    {
     "name": "stdout",
     "output_type": "stream",
     "text": [
      "4\n",
      "6\n",
      "6\n",
      "6\n",
      "8\n",
      "2\n"
     ]
    }
   ],
   "source": [
    "for number in b1:\n",
    "    if number % 2==0:\n",
    "        print(number)"
   ]
  },
  {
   "cell_type": "code",
   "execution_count": 24,
   "id": "55c7a72e-7b1c-4c68-a189-c0dfe5627f23",
   "metadata": {},
   "outputs": [],
   "source": [
    "def even_in_list(list1):\n",
    "    even_nums=[]\n",
    "    for number in list1:\n",
    "        if number % 2 == 0:\n",
    "            even_nums.append(number)\n",
    "    return even_nums           \n",
    "    "
   ]
  },
  {
   "cell_type": "code",
   "execution_count": 25,
   "id": "73b57323-b7b3-44fd-9e4c-570c4ac679dd",
   "metadata": {},
   "outputs": [
    {
     "data": {
      "text/plain": [
       "[4, 6, 6, 6, 8, 2]"
      ]
     },
     "execution_count": 25,
     "metadata": {},
     "output_type": "execute_result"
    }
   ],
   "source": [
    "even_in_list(b1)"
   ]
  },
  {
   "cell_type": "code",
   "execution_count": 26,
   "id": "f38faa12-c26c-4782-92b0-9e3e77a37557",
   "metadata": {},
   "outputs": [
    {
     "data": {
      "text/plain": [
       "[4, 6, 6, 6, 8, 2]"
      ]
     },
     "execution_count": 26,
     "metadata": {},
     "output_type": "execute_result"
    }
   ],
   "source": [
    "even_list=[even_nums for even_nums in b1 if even_nums % 2 == 0] #list compressions\n",
    "even_list"
   ]
  },
  {
   "cell_type": "code",
   "execution_count": 27,
   "id": "d60aec59-28d5-4bc1-8f1b-0dac82a8b56e",
   "metadata": {},
   "outputs": [
    {
     "data": {
      "text/plain": [
       "[5, 7, 5, 3, 9]"
      ]
     },
     "execution_count": 27,
     "metadata": {},
     "output_type": "execute_result"
    }
   ],
   "source": [
    "odd_list=[even_nums for even_nums in b1 if even_nums % 2 == 1] #list compressions\n",
    "odd_list"
   ]
  },
  {
   "attachments": {
    "689d4b5d-1bf2-4f45-a440-5c7f65bc9496.png": {
     "image/png": "[encoded data removed]"
    },
    "be9648d7-6aa7-4b68-87b7-a38fd0080182.png": {
     "image/png": "[encoded data removed]"
    }
   },
   "cell_type": "markdown",
   "id": "4b8ae416-b343-4d21-b172-942ac50b2cda",
   "metadata": {},
   "source": [
    "### Measures of dispersion\n",
    "\n",
    "* **Range**: How far is a spread of values between the largest and the smallest one; It is the difference between the highest value and the lowest value in the data\n",
    "* **quartiles**: values that divide logically arranged data into four parts with the same number of items. The data must be arranged in ascending order\n",
    "    * *1st quartile*, the value between the first and the second quarters\n",
    "    * *2nd quartile* is the value between the second and third quarters. This is the median\n",
    "    * *3rd quartile*, the value between the third and the fourth quarters\n",
    "* **percentile**: values that divide logically arranged data into 100 parts with the same number of items. The data must be arranged in ascending order\n",
    "* **Interquartile range**: the difference between the 1st and third quartile\n",
    "* **Standard deviation**: A measure of distribution of data around the mean.\n",
    "* **Variance**: Is a measure of how data points vary from the mean. This is closely related to the standard deviation. Both standard deviation and variance almost represent a similar concept but are used differently in application.\n",
    "* **Kurtosis,*k***: Is a measure of how tailed(peaked) the distribution is with respect to the normal distribution. For a normal distribution, *k=3*. When *k>3* the distribution has thin bell a high peak(**Leptokurtic**) and when *k<3* the distribution has a thick bell with a low peak  peaked(**platykurtic**)  \n",
    "* **Skewness,s**: The measure of symmetrical behavior of a distribution. For a normal distribution, *s=0*. When the distribution is skewed to the left, **negatively skewed** , (the long tail is to the left), *$s < 0$* and when the distribution is skewed to the right **positively skewed** (the long tail is to the right), *$s > 0$*\n",
    "\n",
    "* ![image.png](attachment:689d4b5d-1bf2-4f45-a440-5c7f65bc9496.png)![image.png](attachment:be9648d7-6aa7-4b68-87b7-a38fd0080182.png)"
   ]
  },
  {
   "cell_type": "markdown",
   "id": "dbc48bf8-0eee-4ade-9882-c93df2ade5df",
   "metadata": {},
   "source": [
    "#### Question 2\n",
    "* Find the range of the number of rooms among the blocks\n",
    "* Find the quartiles and the inter-quartile range of the number of rooms among the blocks\n",
    "* Find the lowest value of the median income of the 5% top highest earners in the blocks\n",
    "* Find the variance and standard deviation of the median income among the blocks\n",
    "* Find the kurtosis and skewness of the distribution of the median income"
   ]
  },
  {
   "cell_type": "code",
   "execution_count": 42,
   "id": "fa4fa61a-41a6-46db-9385-ad95ad20a81b",
   "metadata": {},
   "outputs": [
    {
     "data": {
      "text/plain": [
       "Index(['longitude', 'latitude', 'housing_median_age', 'total_rooms',\n",
       "       'total_bedrooms', 'population', 'households', 'median_income',\n",
       "       'median_house_value', 'ocean_proximity'],\n",
       "      dtype='object')"
      ]
     },
     "execution_count": 42,
     "metadata": {},
     "output_type": "execute_result"
    }
   ],
   "source": [
    "housing_data.columns"
   ]
  },
  {
   "cell_type": "code",
   "execution_count": 28,
   "id": "2bfb01d6-3923-4439-bcf8-e89abcf7f0a5",
   "metadata": {},
   "outputs": [
    {
     "data": {
      "text/plain": [
       "np.float64(2.0)"
      ]
     },
     "execution_count": 28,
     "metadata": {},
     "output_type": "execute_result"
    }
   ],
   "source": [
    "housing_data['total_rooms'].min()"
   ]
  },
  {
   "cell_type": "code",
   "execution_count": 29,
   "id": "2d4653a1-7d82-4a95-9c81-fab886278b1a",
   "metadata": {},
   "outputs": [
    {
     "data": {
      "text/plain": [
       "np.float64(39318.0)"
      ]
     },
     "execution_count": 29,
     "metadata": {},
     "output_type": "execute_result"
    }
   ],
   "source": [
    "#range\n",
    "housing_data['total_rooms'].max() -(housing_data['total_rooms'].min())"
   ]
  },
  {
   "cell_type": "code",
   "execution_count": 45,
   "id": "5d1c8c20-06ad-4c11-af08-d8a1d2ad3dd4",
   "metadata": {},
   "outputs": [
    {
     "data": {
      "text/plain": [
       "3148.0"
      ]
     },
     "execution_count": 45,
     "metadata": {},
     "output_type": "execute_result"
    }
   ],
   "source": [
    "np.percentile(housing_data['total_rooms'],75) #third quartile "
   ]
  },
  {
   "cell_type": "code",
   "execution_count": 41,
   "id": "af3c45dd-ecfd-4f9b-9ca5-a5130799cbbd",
   "metadata": {},
   "outputs": [
    {
     "data": {
      "text/plain": [
       "array([ 941., 1298.])"
      ]
     },
     "execution_count": 41,
     "metadata": {},
     "output_type": "execute_result"
    }
   ],
   "source": [
    "np.percentile(housing_data['total_rooms'],[10,20])"
   ]
  },
  {
   "cell_type": "code",
   "execution_count": 37,
   "id": "58968ec7-66dd-4db7-831a-ef0497ec3c39",
   "metadata": {},
   "outputs": [],
   "source": [
    "Q1,Q2,Q3=np.percentile(housing_data['total_rooms'],[25,50,95])"
   ]
  },
  {
   "cell_type": "code",
   "execution_count": 36,
   "id": "611f9d60-6fe2-43fb-bd16-cd5c340a313f",
   "metadata": {},
   "outputs": [
    {
     "name": "stdout",
     "output_type": "stream",
     "text": [
      "Q1=1447.75, Median=2127.0, and Q3=11212.11000000003\n"
     ]
    }
   ],
   "source": [
    "print('Q1={}, Median={}, and Q3={}'.format(Q1,Q2,Q3))"
   ]
  },
  {
   "cell_type": "code",
   "execution_count": 43,
   "id": "3afcc79d-7367-40be-98d8-1d398dbd993d",
   "metadata": {},
   "outputs": [
    {
     "name": "stdout",
     "output_type": "stream",
     "text": [
      "q1=1447.75, q2=2127.0, q3=3148.0\n"
     ]
    }
   ],
   "source": [
    "#quartiles\n",
    "q1,q2,q3=np.percentile(housing_data['total_rooms'],[25,50,75]) \n",
    "#this is tuple unpaking, we create tuple on the right then npack it(asign it values on the right)\n",
    "print(\"q1={}, q2={}, q3={}\".format(q1,q2,q3)) "
   ]
  },
  {
   "cell_type": "code",
   "execution_count": 44,
   "id": "5568ade3-469f-4c50-9add-0811b156b989",
   "metadata": {},
   "outputs": [
    {
     "data": {
      "text/plain": [
       "np.float64(1700.25)"
      ]
     },
     "execution_count": 44,
     "metadata": {},
     "output_type": "execute_result"
    }
   ],
   "source": [
    "#interquatile range\n",
    "interq_s=q3-q1\n",
    "interq_s"
   ]
  },
  {
   "cell_type": "code",
   "execution_count": 48,
   "id": "8b1841bb-0950-4ca1-bfe7-daa323b09612",
   "metadata": {},
   "outputs": [
    {
     "data": {
      "text/plain": [
       "8851     15.0001\n",
       "8850     15.0001\n",
       "8849     15.0001\n",
       "8848     15.0001\n",
       "8852     15.0001\n",
       "15241    15.0001\n",
       "8878     15.0001\n",
       "8805     15.0001\n",
       "8847     15.0001\n",
       "Name: median_income, dtype: float64"
      ]
     },
     "execution_count": 48,
     "metadata": {},
     "output_type": "execute_result"
    }
   ],
   "source": [
    "#lowest of top 5% is 95% percentile. We order the column ascending then get the 95% percentile\n",
    "m_income=housing_data['median_income'].sort_values(ascending=False) #sort values ascending, if descending, we use .sort_values(ascending=False)\n",
    "#Arrange data in ascending order\n",
    "#m_income\n",
    "m_income[:9]"
   ]
  },
  {
   "cell_type": "code",
   "execution_count": 51,
   "id": "a65f4a5a-a06f-474a-a506-dc471ea89c55",
   "metadata": {},
   "outputs": [
    {
     "data": {
      "text/plain": [
       "np.float64(4.7437)"
      ]
     },
     "execution_count": 51,
     "metadata": {},
     "output_type": "execute_result"
    }
   ],
   "source": [
    "m_income [m_income > np.percentile(m_income,75)].min()"
   ]
  },
  {
   "cell_type": "code",
   "execution_count": 52,
   "id": "658d7441-5cd6-499e-acd9-c1156cf22659",
   "metadata": {},
   "outputs": [
    {
     "data": {
      "text/plain": [
       "8851     15.0001\n",
       "8850     15.0001\n",
       "8849     15.0001\n",
       "8848     15.0001\n",
       "8852     15.0001\n",
       "          ...   \n",
       "17171    10.6514\n",
       "10682    10.6349\n",
       "9354     10.6272\n",
       "15152    10.6186\n",
       "10318    10.5981\n",
       "Name: median_income, Length: 207, dtype: float64"
      ]
     },
     "execution_count": 52,
     "metadata": {},
     "output_type": "execute_result"
    }
   ],
   "source": [
    "m_income[m_income > np.percentile(m_income,99)]"
   ]
  },
  {
   "cell_type": "code",
   "execution_count": 55,
   "id": "feca2ae2-fe88-4440-931c-b51d6784daf0",
   "metadata": {},
   "outputs": [],
   "source": [
    "#using assert method to show that the 96% percentile is less than 95%. This is to ensure that you are on the track\n",
    "assert np.percentile(m_income,96) > np.percentile(m_income,95) "
   ]
  },
  {
   "cell_type": "code",
   "execution_count": 56,
   "id": "18da93d6-0618-4944-b4d8-cfb3206b9980",
   "metadata": {},
   "outputs": [
    {
     "data": {
      "text/plain": [
       "np.float64(1.8998)"
      ]
     },
     "execution_count": 56,
     "metadata": {},
     "output_type": "execute_result"
    }
   ],
   "source": [
    "#variance and standard deviation\n",
    "round(housing_data.median_income.std(),4) #round to 4 decimal places"
   ]
  },
  {
   "cell_type": "code",
   "execution_count": 57,
   "id": "d38447d3-4372-458e-ba78-b7105c9fec48",
   "metadata": {},
   "outputs": [
    {
     "data": {
      "text/plain": [
       "np.float64(1.8998)"
      ]
     },
     "execution_count": 57,
     "metadata": {},
     "output_type": "execute_result"
    }
   ],
   "source": [
    "round(housing_data['median_income'].std(),4)"
   ]
  },
  {
   "cell_type": "code",
   "execution_count": 58,
   "id": "070e7270-e9a8-4400-88f0-e1552ddd0476",
   "metadata": {},
   "outputs": [
    {
     "data": {
      "text/plain": [
       "np.float64(3.6093)"
      ]
     },
     "execution_count": 58,
     "metadata": {},
     "output_type": "execute_result"
    }
   ],
   "source": [
    "#variance\n",
    "round(housing_data['median_income'].var(),4)"
   ]
  },
  {
   "cell_type": "code",
   "execution_count": 59,
   "id": "d76bc377-3463-45a8-b480-8e558328f913",
   "metadata": {},
   "outputs": [
    {
     "data": {
      "text/plain": [
       "np.float64(4.953)"
      ]
     },
     "execution_count": 59,
     "metadata": {},
     "output_type": "execute_result"
    }
   ],
   "source": [
    "#kurtosis\n",
    "round(housing_data['median_income'].kurtosis(),3)"
   ]
  },
  {
   "cell_type": "code",
   "execution_count": 60,
   "id": "9f1338a7-0573-496a-b945-56e7543d033e",
   "metadata": {},
   "outputs": [
    {
     "data": {
      "text/plain": [
       "np.float64(1.647)"
      ]
     },
     "execution_count": 60,
     "metadata": {},
     "output_type": "execute_result"
    }
   ],
   "source": [
    "round(housing_data['median_income'].skew(),3)"
   ]
  },
  {
   "cell_type": "code",
   "execution_count": 61,
   "id": "cd253d6a-50c1-4d8c-885e-b4493d23041a",
   "metadata": {},
   "outputs": [],
   "source": [
    "a1,a2,a3=np.percentile(housing_data['median_income'],[25,50,75])\n",
    "IQR_a=a3-a1"
   ]
  },
  {
   "cell_type": "markdown",
   "id": "889373db-7473-4e79-b536-81bfb0289acd",
   "metadata": {},
   "source": [
    "## outliers\n",
    "They are points that significantly differ from others. \n",
    "In practical application, they are taken to be\n",
    "* less than 5% and more than 95% in a normal distribution\n",
    "* less than Q1-1.5IQR or more than Q3+1.5IQR\n",
    "* significantly outside the trend of the general distribution of the data "
   ]
  },
  {
   "cell_type": "code",
   "execution_count": 63,
   "id": "d553a180-7a44-4ede-8241-eabf536ac2b3",
   "metadata": {},
   "outputs": [
    {
     "data": {
      "image/png": "[encoded data removed]",
      "text/plain": [
       "<Figure size 640x480 with 1 Axes>"
      ]
     },
     "metadata": {},
     "output_type": "display_data"
    }
   ],
   "source": [
    "#By using the box plot, we can identify the outliers\n",
    "plt.boxplot(housing_data['median_income'])\n",
    "plt.ylabel('median income(0,000 USD)')\n",
    "plt.title('Distribution of median income in block')\n",
    "plt.show();\n",
    "# see notice many outliers above the upper whisker"
   ]
  },
  {
   "cell_type": "code",
   "execution_count": 64,
   "id": "ae71d2d2-9a6b-479a-81d9-7d580b2ae00b",
   "metadata": {},
   "outputs": [],
   "source": [
    "qq1,qq2,qq3=np.percentile(housing_data['median_income'],[25,50,75])\n",
    "lower_whisker=qq1-(1.5*(qq3-qq1))\n",
    "upper_whisker=qq3+(1.5*(qq3-qq1))"
   ]
  },
  {
   "cell_type": "code",
   "execution_count": 65,
   "id": "2da2910c-2034-4609-adf6-2a3ed64a8653",
   "metadata": {},
   "outputs": [
    {
     "name": "stdout",
     "output_type": "stream",
     "text": [
      "-0.7063750000000004 8.013024999999999\n"
     ]
    }
   ],
   "source": [
    "print(lower_whisker,upper_whisker)"
   ]
  },
  {
   "cell_type": "code",
   "execution_count": 66,
   "id": "3a36afeb-40a7-4a32-8ea3-ded1c148c826",
   "metadata": {},
   "outputs": [],
   "source": [
    "D=np.array([3,5,6,7,2,3,6,3,9,6,4])"
   ]
  },
  {
   "cell_type": "code",
   "execution_count": 67,
   "id": "93157caf-257d-4a0a-8d48-ae403514e397",
   "metadata": {},
   "outputs": [
    {
     "data": {
      "text/plain": [
       "array([False,  True,  True,  True, False, False,  True, False,  True,\n",
       "        True, False])"
      ]
     },
     "execution_count": 67,
     "metadata": {},
     "output_type": "execute_result"
    }
   ],
   "source": [
    "D>4"
   ]
  },
  {
   "cell_type": "code",
   "execution_count": 68,
   "id": "dfe29187-1571-4f0c-ac9a-fe845be12e6a",
   "metadata": {},
   "outputs": [
    {
     "data": {
      "text/plain": [
       "array([5, 6, 7, 6, 9, 6])"
      ]
     },
     "execution_count": 68,
     "metadata": {},
     "output_type": "execute_result"
    }
   ],
   "source": [
    "D[D>4]"
   ]
  },
  {
   "cell_type": "code",
   "execution_count": 69,
   "id": "f29ae4b1-573f-4dd0-8225-9d30d0c2e78b",
   "metadata": {},
   "outputs": [
    {
     "data": {
      "text/plain": [
       "0         True\n",
       "1         True\n",
       "2        False\n",
       "3        False\n",
       "4        False\n",
       "         ...  \n",
       "20635    False\n",
       "20636    False\n",
       "20637    False\n",
       "20638    False\n",
       "20639    False\n",
       "Name: median_income, Length: 20640, dtype: bool"
      ]
     },
     "execution_count": 69,
     "metadata": {},
     "output_type": "execute_result"
    }
   ],
   "source": [
    "housing_data['median_income']>upper_whisker"
   ]
  },
  {
   "cell_type": "code",
   "execution_count": 73,
   "id": "739934dc-1ffd-491e-89dc-d489961884e6",
   "metadata": {},
   "outputs": [
    {
     "data": {
      "text/plain": [
       "681"
      ]
     },
     "execution_count": 73,
     "metadata": {},
     "output_type": "execute_result"
    }
   ],
   "source": [
    "housing_data['median_income'][housing_data['median_income']>upper_whisker].size"
   ]
  },
  {
   "cell_type": "code",
   "execution_count": 74,
   "id": "c6bd6103-dff7-4658-8ead-c1537132cdc1",
   "metadata": {},
   "outputs": [],
   "source": [
    "#compute the outlier\n",
    "outl_low=housing_data['median_income'][housing_data['median_income']< lower_whisker]\n",
    "outl_hig=housing_data['median_income'][housing_data['median_income']> upper_whisker]"
   ]
  },
  {
   "cell_type": "code",
   "execution_count": 75,
   "id": "d389cef3-7c19-4e1d-b884-7108f619f5b0",
   "metadata": {},
   "outputs": [
    {
     "data": {
      "text/plain": [
       "0         8.3252\n",
       "1         8.3014\n",
       "131      11.6017\n",
       "134       8.2049\n",
       "135       8.4010\n",
       "          ...   \n",
       "20426    10.0472\n",
       "20427     8.6499\n",
       "20428     8.7288\n",
       "20436    12.5420\n",
       "20503     8.2787\n",
       "Name: median_income, Length: 681, dtype: float64"
      ]
     },
     "execution_count": 75,
     "metadata": {},
     "output_type": "execute_result"
    }
   ],
   "source": [
    "housing_data['median_income'][housing_data['median_income']>upper_whisker]"
   ]
  },
  {
   "cell_type": "code",
   "execution_count": 76,
   "id": "57c7685b-5940-4f8b-9bc7-f8b88bdeb4d5",
   "metadata": {},
   "outputs": [
    {
     "data": {
      "text/plain": [
       "np.float64(-0.7063750000000004)"
      ]
     },
     "execution_count": 76,
     "metadata": {},
     "output_type": "execute_result"
    }
   ],
   "source": [
    "lower_whisker"
   ]
  },
  {
   "cell_type": "code",
   "execution_count": 77,
   "id": "7fea99f1-186f-40a1-b8a7-bd23705d77ee",
   "metadata": {},
   "outputs": [
    {
     "data": {
      "text/plain": [
       "0"
      ]
     },
     "execution_count": 77,
     "metadata": {},
     "output_type": "execute_result"
    }
   ],
   "source": [
    "outl_low.size #none of then"
   ]
  },
  {
   "cell_type": "code",
   "execution_count": 78,
   "id": "61b8f299-91b6-47f4-95a4-6a6c7dc1a371",
   "metadata": {},
   "outputs": [
    {
     "data": {
      "text/plain": [
       "681"
      ]
     },
     "execution_count": 78,
     "metadata": {},
     "output_type": "execute_result"
    }
   ],
   "source": [
    "outl_hig.size #681 outliers"
   ]
  },
  {
   "cell_type": "markdown",
   "id": "4025875e-7976-4234-a3d4-3424ef709c56",
   "metadata": {},
   "source": [
    "### Frequency distributions\n",
    "We can create tables for frequency distributions the represent them on graphs such as bar graphs, histograms,pie charts among others"
   ]
  },
  {
   "cell_type": "code",
   "execution_count": 79,
   "id": "6abd1fc0-ea96-4457-a09a-b9dc4a310bb4",
   "metadata": {},
   "outputs": [
    {
     "data": {
      "text/html": [
       "<div>\n",
       "<style scoped>\n",
       "    .dataframe tbody tr th:only-of-type {\n",
       "        vertical-align: middle;\n",
       "    }\n",
       "\n",
       "    .dataframe tbody tr th {\n",
       "        vertical-align: top;\n",
       "    }\n",
       "\n",
       "    .dataframe thead th {\n",
       "        text-align: right;\n",
       "    }\n",
       "</style>\n",
       "<table border=\"1\" class=\"dataframe\">\n",
       "  <thead>\n",
       "    <tr style=\"text-align: right;\">\n",
       "      <th></th>\n",
       "      <th>longitude</th>\n",
       "      <th>latitude</th>\n",
       "      <th>housing_median_age</th>\n",
       "      <th>total_rooms</th>\n",
       "      <th>total_bedrooms</th>\n",
       "      <th>population</th>\n",
       "      <th>households</th>\n",
       "      <th>median_income</th>\n",
       "      <th>median_house_value</th>\n",
       "      <th>ocean_proximity</th>\n",
       "    </tr>\n",
       "  </thead>\n",
       "  <tbody>\n",
       "    <tr>\n",
       "      <th>0</th>\n",
       "      <td>-122.23</td>\n",
       "      <td>37.88</td>\n",
       "      <td>41.0</td>\n",
       "      <td>880.0</td>\n",
       "      <td>129.0</td>\n",
       "      <td>322.0</td>\n",
       "      <td>126.0</td>\n",
       "      <td>8.3252</td>\n",
       "      <td>452600.0</td>\n",
       "      <td>NEAR BAY</td>\n",
       "    </tr>\n",
       "    <tr>\n",
       "      <th>1</th>\n",
       "      <td>-122.22</td>\n",
       "      <td>37.86</td>\n",
       "      <td>21.0</td>\n",
       "      <td>7099.0</td>\n",
       "      <td>1106.0</td>\n",
       "      <td>2401.0</td>\n",
       "      <td>1138.0</td>\n",
       "      <td>8.3014</td>\n",
       "      <td>358500.0</td>\n",
       "      <td>NEAR BAY</td>\n",
       "    </tr>\n",
       "    <tr>\n",
       "      <th>2</th>\n",
       "      <td>-122.24</td>\n",
       "      <td>37.85</td>\n",
       "      <td>52.0</td>\n",
       "      <td>1467.0</td>\n",
       "      <td>190.0</td>\n",
       "      <td>496.0</td>\n",
       "      <td>177.0</td>\n",
       "      <td>7.2574</td>\n",
       "      <td>352100.0</td>\n",
       "      <td>NEAR BAY</td>\n",
       "    </tr>\n",
       "    <tr>\n",
       "      <th>3</th>\n",
       "      <td>-122.25</td>\n",
       "      <td>37.85</td>\n",
       "      <td>52.0</td>\n",
       "      <td>1274.0</td>\n",
       "      <td>235.0</td>\n",
       "      <td>558.0</td>\n",
       "      <td>219.0</td>\n",
       "      <td>5.6431</td>\n",
       "      <td>341300.0</td>\n",
       "      <td>NEAR BAY</td>\n",
       "    </tr>\n",
       "    <tr>\n",
       "      <th>4</th>\n",
       "      <td>-122.25</td>\n",
       "      <td>37.85</td>\n",
       "      <td>52.0</td>\n",
       "      <td>1627.0</td>\n",
       "      <td>280.0</td>\n",
       "      <td>565.0</td>\n",
       "      <td>259.0</td>\n",
       "      <td>3.8462</td>\n",
       "      <td>342200.0</td>\n",
       "      <td>NEAR BAY</td>\n",
       "    </tr>\n",
       "  </tbody>\n",
       "</table>\n",
       "</div>"
      ],
      "text/plain": [
       "   longitude  latitude  housing_median_age  total_rooms  total_bedrooms  \\\n",
       "0    -122.23     37.88                41.0        880.0           129.0   \n",
       "1    -122.22     37.86                21.0       7099.0          1106.0   \n",
       "2    -122.24     37.85                52.0       1467.0           190.0   \n",
       "3    -122.25     37.85                52.0       1274.0           235.0   \n",
       "4    -122.25     37.85                52.0       1627.0           280.0   \n",
       "\n",
       "   population  households  median_income  median_house_value ocean_proximity  \n",
       "0       322.0       126.0         8.3252            452600.0        NEAR BAY  \n",
       "1      2401.0      1138.0         8.3014            358500.0        NEAR BAY  \n",
       "2       496.0       177.0         7.2574            352100.0        NEAR BAY  \n",
       "3       558.0       219.0         5.6431            341300.0        NEAR BAY  \n",
       "4       565.0       259.0         3.8462            342200.0        NEAR BAY  "
      ]
     },
     "execution_count": 79,
     "metadata": {},
     "output_type": "execute_result"
    }
   ],
   "source": [
    "housing_data.head()"
   ]
  },
  {
   "cell_type": "code",
   "execution_count": 70,
   "id": "3dcd7ec4-8d7a-4a8e-b45a-a7c8d6ae7736",
   "metadata": {},
   "outputs": [
    {
     "data": {
      "text/plain": [
       "Index(['longitude', 'latitude', 'housing_median_age', 'total_rooms',\n",
       "       'total_bedrooms', 'population', 'households', 'median_income',\n",
       "       'median_house_value', 'ocean_proximity'],\n",
       "      dtype='object')"
      ]
     },
     "execution_count": 70,
     "metadata": {},
     "output_type": "execute_result"
    }
   ],
   "source": [
    "housing_data.columns"
   ]
  },
  {
   "cell_type": "code",
   "execution_count": 80,
   "id": "93a7f334-b361-4f38-b28b-9b54017f6c3a",
   "metadata": {},
   "outputs": [
    {
     "data": {
      "text/plain": [
       "array(['NEAR BAY', '<1H OCEAN', 'INLAND', 'NEAR OCEAN', 'ISLAND'],\n",
       "      dtype=object)"
      ]
     },
     "execution_count": 80,
     "metadata": {},
     "output_type": "execute_result"
    }
   ],
   "source": [
    "housing_data['ocean_proximity'].unique()"
   ]
  },
  {
   "cell_type": "code",
   "execution_count": 81,
   "id": "b5549cf7-df22-4a85-be67-cdebe94df499",
   "metadata": {},
   "outputs": [
    {
     "data": {
      "text/plain": [
       "ocean_proximity\n",
       "<1H OCEAN     9136\n",
       "INLAND        6551\n",
       "NEAR OCEAN    2658\n",
       "NEAR BAY      2290\n",
       "ISLAND           5\n",
       "Name: count, dtype: int64"
      ]
     },
     "execution_count": 81,
     "metadata": {},
     "output_type": "execute_result"
    }
   ],
   "source": [
    "housing_data['ocean_proximity'].value_counts()"
   ]
  },
  {
   "cell_type": "code",
   "execution_count": 82,
   "id": "2a8bd347-9bfc-4b0d-9439-1fe23ae5f595",
   "metadata": {},
   "outputs": [
    {
     "data": {
      "text/plain": [
       "array([9136, 6551, 2658, 2290,    5])"
      ]
     },
     "execution_count": 82,
     "metadata": {},
     "output_type": "execute_result"
    }
   ],
   "source": [
    "housing_data['ocean_proximity'].value_counts().values"
   ]
  },
  {
   "cell_type": "code",
   "execution_count": 88,
   "id": "cae2988d-2033-40de-ad6d-a31f55175edb",
   "metadata": {},
   "outputs": [
    {
     "data": {
      "text/plain": [
       "array(['<1H OCEAN', 'INLAND', 'NEAR OCEAN', 'NEAR BAY', 'ISLAND'],\n",
       "      dtype='<U10')"
      ]
     },
     "execution_count": 88,
     "metadata": {},
     "output_type": "execute_result"
    }
   ],
   "source": [
    "np.array(list(housing_data['ocean_proximity'].value_counts().keys()))"
   ]
  },
  {
   "cell_type": "markdown",
   "id": "a3666e14-5e18-4b5a-a9bb-4b38df5560b6",
   "metadata": {},
   "source": [
    "### Common Visualizations"
   ]
  },
  {
   "cell_type": "markdown",
   "id": "56e35009-7fec-42e4-bc1b-0fb83834c8cc",
   "metadata": {},
   "source": [
    "Create a frequency distribution table showing the ocean proximity for various block"
   ]
  },
  {
   "cell_type": "code",
   "execution_count": 89,
   "id": "ba878c77-2f13-4714-b757-be101fa1316f",
   "metadata": {},
   "outputs": [
    {
     "data": {
      "text/plain": [
       "ocean_proximity\n",
       "<1H OCEAN     9136\n",
       "INLAND        6551\n",
       "NEAR OCEAN    2658\n",
       "NEAR BAY      2290\n",
       "ISLAND           5\n",
       "Name: count, dtype: int64"
      ]
     },
     "execution_count": 89,
     "metadata": {},
     "output_type": "execute_result"
    }
   ],
   "source": [
    "housing_data['ocean_proximity'].value_counts()"
   ]
  },
  {
   "cell_type": "code",
   "execution_count": 90,
   "id": "db991a54-89e7-4c75-b92a-2aff49eb33ac",
   "metadata": {},
   "outputs": [
    {
     "data": {
      "text/plain": [
       "['NEAR BAY', '<1H OCEAN', 'INLAND', 'NEAR OCEAN', 'ISLAND']"
      ]
     },
     "execution_count": 90,
     "metadata": {},
     "output_type": "execute_result"
    }
   ],
   "source": [
    "block_locs=housing_data['ocean_proximity'].unique().tolist()\n",
    "block_locs"
   ]
  },
  {
   "cell_type": "code",
   "execution_count": null,
   "id": "766c7ffa-c5e3-497f-b46a-aca0aa15bba9",
   "metadata": {},
   "outputs": [],
   "source": [
    "plt"
   ]
  },
  {
   "cell_type": "code",
   "execution_count": 122,
   "id": "44cbd249-afef-49ac-b49d-cec1de9135f4",
   "metadata": {},
   "outputs": [
    {
     "data": {
      "image/png": "[encoded data removed]",
      "text/plain": [
       "<Figure size 400x300 with 1 Axes>"
      ]
     },
     "metadata": {},
     "output_type": "display_data"
    }
   ],
   "source": [
    "#create a bar graph for this data\n",
    "freq_blocks=housing_data['ocean_proximity'].value_counts()\n",
    "#fig,ax=plt.subplots(figsize=(6,4))\n",
    "plt.figure(figsize=(4,3))\n",
    "plt.bar(block_locs,freq_blocks,width=0.85)\n",
    "plt.title('Number of locks at various locations from the ocean')\n",
    "plt.ylabel('No. of blocks')\n",
    "plt.xlabel('Ocean Proxmity')\n",
    "plt.xticks(rotation=45)\n",
    "plt.show();\n"
   ]
  },
  {
   "cell_type": "code",
   "execution_count": 108,
   "id": "81933652-a624-447f-bb5a-bc157081e4d1",
   "metadata": {},
   "outputs": [
    {
     "data": {
      "image/png": "[encoded data removed]",
      "text/plain": [
       "<Figure size 640x480 with 1 Axes>"
      ]
     },
     "metadata": {},
     "output_type": "display_data"
    }
   ],
   "source": [
    "#pie chart\n",
    "plt.pie(housing_data['ocean_proximity'].value_counts(),labels=block_locs,startangle=45,radius=0.85);"
   ]
  },
  {
   "cell_type": "code",
   "execution_count": null,
   "id": "9b224bda-f275-4322-9924-7e9bed84d590",
   "metadata": {},
   "outputs": [],
   "source": []
  },
  {
   "cell_type": "code",
   "execution_count": 109,
   "id": "eeb4abb8-9cc9-4b00-8467-7e20429bb5a1",
   "metadata": {},
   "outputs": [
    {
     "data": {
      "text/plain": [
       "(20640,)"
      ]
     },
     "execution_count": 109,
     "metadata": {},
     "output_type": "execute_result"
    }
   ],
   "source": [
    "housing_data['median_income'].shape"
   ]
  },
  {
   "cell_type": "code",
   "execution_count": 110,
   "id": "a2e2e677-6f34-47fb-9d7e-8b039182ae44",
   "metadata": {},
   "outputs": [
    {
     "data": {
      "text/plain": [
       "(20640, 1)"
      ]
     },
     "execution_count": 110,
     "metadata": {},
     "output_type": "execute_result"
    }
   ],
   "source": [
    "housing_data[['median_income']].shape"
   ]
  },
  {
   "cell_type": "code",
   "execution_count": null,
   "id": "0bb1dd5e-2ad6-4b14-b466-8c767ae98f8c",
   "metadata": {},
   "outputs": [],
   "source": []
  },
  {
   "cell_type": "code",
   "execution_count": null,
   "id": "a3ac1445-30a8-4340-974d-0c188dfb018b",
   "metadata": {},
   "outputs": [],
   "source": []
  },
  {
   "cell_type": "code",
   "execution_count": 114,
   "id": "8ee4de67-5ddc-48c4-8c3a-85d6ff7f5587",
   "metadata": {},
   "outputs": [
    {
     "data": {
      "image/png": "[encoded data removed]",
      "text/plain": [
       "<Figure size 640x480 with 1 Axes>"
      ]
     },
     "metadata": {},
     "output_type": "display_data"
    }
   ],
   "source": [
    "#create a histogram for the income distributions\n",
    "plt.hist(housing_data['median_income'], bins=15)\n",
    "plt.ylabel('income in 10 thousand USD')\n",
    "plt.title('Income distribution for various blocks')\n",
    "plt.show();\n"
   ]
  },
  {
   "cell_type": "code",
   "execution_count": 121,
   "id": "b679788e-269b-4725-8c97-1f8be9873d71",
   "metadata": {},
   "outputs": [
    {
     "data": {
      "image/png": "[encoded data removed]",
      "text/plain": [
       "<Figure size 640x480 with 1 Axes>"
      ]
     },
     "metadata": {},
     "output_type": "display_data"
    }
   ],
   "source": [
    "#create a scatter plot for income against the population\n",
    "plt.scatter(housing_data['population'],housing_data['median_income'],marker='*',color='black');\n",
    "plt.xlabel('Population')\n",
    "plt.ylabel('median income in 0,000 USD')\n",
    "plt.title('Income distribution against the population')\n",
    "plt.show();"
   ]
  },
  {
   "cell_type": "markdown",
   "id": "078ae670-046b-4072-a424-5310a971e9e4",
   "metadata": {},
   "source": [
    "# Statistical Inference\n",
    "In this case, we focus on test of Hypothesis and confidence interval\n",
    "\n",
    "Inference implies generalizing the results from a sample to the whole population under study. We make an assumption that the sample was randomly generated and is unbiased.\n",
    "\n",
    "Statistical inference makes use of the normal distribution which is a doomed-shaped symmetrical distribution whose mean and median are equal. The probability density distribution (**pdf**) for normal distribution is\n",
    "$$f(x,\\mu,\\sigma)=\\dfrac{1}{\\sigma \\sqrt{2\\pi}}e^{-\\dfrac{1}{2}\\left(\\dfrac{x-\\mu}{\\sigma}\\right)^2}$$\n",
    "where $x$ is a variable, $\\mu$ is the mean and $\\sigma$ is the standard deviation of the distribution.\n",
    "To apply normal distribution easily, we transform the pdf into a distribution with a $\\mu=0$ and $\\sigma=1$. This distribution is called a standard normal ditribution whose pdf is \n",
    "$$f(z)=\\dfrac{1}{\\sqrt{2\\pi}}e^{-\\dfrac{1}{2}z^2}$$\n",
    "and transformation is \n",
    "$$z=\\dfrac{x-\\mu}{\\sigma}$$\n",
    "called the $z$-score.\n",
    "\n",
    "Given the value of $z$, we can find the cumulative probability distribution that $P(z \\leq z_a)$ where $z_a$ is the $z$-score.\n"
   ]
  },
  {
   "cell_type": "markdown",
   "id": "c75b67d8-7930-4402-883a-bd93a97257f4",
   "metadata": {},
   "source": [
    "### Question 3\n",
    "\n",
    "A scientist surveyed the scores of university students in an aptitude test. The average score was 54\\% with a standard deviation of 6.3. If a university student is selected at random to attempt the test, what is the probability that a student will score\n",
    "* less than 55%\n",
    "* more than 63%\n",
    "* Between 59% and 69%\n",
    "\n",
    "assuming that the distribution of the score was normal.\n",
    "\n",
    "We use the scipy's stats module\n",
    "\n",
    "Let $X$ be a random variable representing the score of a standard and $Z$ be the score\n",
    "\n",
    "We find $P(X \\leq 50)$\n",
    "\n",
    "Z-value is given by\n",
    "\n",
    "$$z=\\dfrac{x-\\mu}{\\sigma}$$"
   ]
  },
  {
   "cell_type": "code",
   "execution_count": 124,
   "id": "55d43168-711f-4340-bf01-0f1b6cc937f8",
   "metadata": {},
   "outputs": [],
   "source": [
    "x_value=55\n",
    "sample_mean=54\n",
    "sample_std=6.3\n"
   ]
  },
  {
   "cell_type": "code",
   "execution_count": 125,
   "id": "feaaa2cc-8375-4f8a-9938-eb7aa9f91799",
   "metadata": {},
   "outputs": [
    {
     "data": {
      "text/plain": [
       "np.float64(0.5631)"
      ]
     },
     "execution_count": 125,
     "metadata": {},
     "output_type": "execute_result"
    }
   ],
   "source": [
    "#P(X<=50)\n",
    "z_50 =(x_value-sample_mean)/sample_std\n",
    "p_less_50=stats.norm.cdf(z_50)\n",
    "round(p_less_50,4)"
   ]
  },
  {
   "cell_type": "code",
   "execution_count": 126,
   "id": "5823153d-1427-409f-bb2b-f3b7e9031155",
   "metadata": {},
   "outputs": [],
   "source": [
    "from scipy import stats\n",
    "def p_value_n(x_val,mean,std):\n",
    "    \"\"\"\n",
    "    The function outputs the p-value of a norm cdf given the value, average and stad dev\n",
    "    Arguments=x_value, mean, std_dev\n",
    "    Output=p-value(size of area under the graph to the left of x)\n",
    "    \"\"\"\n",
    "    z_value=(x_val-mean)/std\n",
    "    p_val=round(stats.norm.cdf(z_value),4)\n",
    "    return p_val    "
   ]
  },
  {
   "cell_type": "code",
   "execution_count": 127,
   "id": "cd3554d4-fd17-40d0-86fb-d373cd3cc6dd",
   "metadata": {},
   "outputs": [
    {
     "data": {
      "text/plain": [
       "np.float64(0.5631)"
      ]
     },
     "execution_count": 127,
     "metadata": {},
     "output_type": "execute_result"
    }
   ],
   "source": [
    "p_value_n(55,54,6.3)"
   ]
  },
  {
   "cell_type": "code",
   "execution_count": 128,
   "id": "9afb97f1-4e6b-4b4d-9019-c7e9beb71507",
   "metadata": {},
   "outputs": [
    {
     "data": {
      "text/plain": [
       "np.float64(0.0766)"
      ]
     },
     "execution_count": 128,
     "metadata": {},
     "output_type": "execute_result"
    }
   ],
   "source": [
    "#P(X>=63)\n",
    "z_63 =(63-54)/6.3\n",
    "p_more_63=1-stats.norm.cdf(z_63)\n",
    "round(p_more_63,4)"
   ]
  },
  {
   "cell_type": "code",
   "execution_count": 15,
   "id": "5cad669b-d3a9-488c-a6b0-14678774a1d5",
   "metadata": {},
   "outputs": [
    {
     "data": {
      "text/plain": [
       "0.0766"
      ]
     },
     "execution_count": 15,
     "metadata": {},
     "output_type": "execute_result"
    }
   ],
   "source": [
    "#more than 63%\n",
    "1-p_value_n(63,54,6.3)"
   ]
  },
  {
   "cell_type": "code",
   "execution_count": 129,
   "id": "1c8c7888-9d45-4278-b57a-f82b800cace6",
   "metadata": {},
   "outputs": [
    {
     "data": {
      "text/plain": [
       "np.float64(0.2051)"
      ]
     },
     "execution_count": 129,
     "metadata": {},
     "output_type": "execute_result"
    }
   ],
   "source": [
    "#P(59<X<69)\n",
    "z_69 =(69-54)/6.3\n",
    "z_59 =(59-54)/6.3\n",
    "p_btn_69_59=stats.norm.cdf(z_69) - stats.norm.cdf(z_59)\n",
    "round(p_btn_69_59,4)"
   ]
  },
  {
   "cell_type": "code",
   "execution_count": 130,
   "id": "df10e245-308a-4bf0-a5d1-612ae68f44f6",
   "metadata": {},
   "outputs": [
    {
     "data": {
      "text/plain": [
       "np.float64(0.2051)"
      ]
     },
     "execution_count": 130,
     "metadata": {},
     "output_type": "execute_result"
    }
   ],
   "source": [
    "round((p_value_n(69,54,6.3)-p_value_n(59,54,6.3)),4)"
   ]
  },
  {
   "cell_type": "markdown",
   "id": "7bb2e950-f11a-44c4-893a-bd1606dda45c",
   "metadata": {},
   "source": [
    "## Confidence interval\n",
    "The confidence interval estimates the population parameter given a sample statistic. The confidence interval is a range within which we are sure that the population parameter will lie to a certain probability. The 95\\% confidence interval for a population mean $\\mu$ is\n",
    "$$\\left(\\bar{x} - Z_{\\alpha/2} \\dfrac{\\sigma}{\\sqrt{n}}, \\bar{x} + Z_{\\alpha/2} \\dfrac{\\sigma}{\\sqrt{n}}\\right)$$\n",
    "or $$\\bar{x} \\pm Z_{\\alpha/2} \\dfrac{\\sigma}{\\sqrt{n}}$$\n",
    "\n",
    "The number $Z_{\\alpha/2} \\dfrac{\\sigma}{\\sqrt{n}}$ is called the marginal error\n",
    "\n",
    "Note/: The sampling distribution of the mean whose population standard deviation is $\\sigma$, the standard error(standard deviation of the sample) is $\\sqrt{\\dfrac{\\sigma^2}{n}}=\\dfrac{\\sigma}{\\sqrt{n}}$ where $n$ is the sample size. By central limit theorem, for larger values of $n$, the standard deviation approached $\\sigma$ irrespective of the underlaying distribution. \n",
    "\n",
    "In the above question, what would be 95\\% confidence interval for the mean of 54\\% for a sample size of 100.\n",
    "\n",
    "The level of significance is $1-0.95 = 0.05=\\alpha$. When the sample size is more than 30, the distribution is approximately normal, hence we use the Z-score. \n",
    "\n",
    "**The confidence interval for the proportion**\n",
    "\n",
    "If $\\hat{p}$ is the proprotion of the required trait, then $\\hat{q}=1-\\hat{p}$ is the other trait.\n",
    "\n",
    "If $n$(e.g number of Yes) have the required trait out of $N$ possible traits(e.g no. of Yes and NO), then $\\hat{p}=\\dfrac{n}{N}.$ The standard deviation if $\\hat{p}$ is $s=\\dfrac{\\hat{p}\\hat{q}}{n}$.\n",
    "\n",
    "$$\\left(\\hat{p} - Z_{\\alpha/2} \\sqrt{\\dfrac{\\hat{p}\\hat{q}}{n}}, \\hat{p} + Z_{\\alpha/2} \\sqrt{\\dfrac{\\hat{p}\\hat{q}}{n}}\\right)$$\n",
    "or $$\\hat{p} \\pm Z_{\\alpha/2} \\sqrt{\\dfrac{\\hat{p}\\hat{q}}{n}}$$\n"
   ]
  },
  {
   "cell_type": "code",
   "execution_count": 19,
   "id": "a49c9a40-c1ed-4ec5-a53c-8b1695adfd59",
   "metadata": {},
   "outputs": [
    {
     "data": {
      "text/plain": [
       "1.959963984540054"
      ]
     },
     "execution_count": 19,
     "metadata": {},
     "output_type": "execute_result"
    }
   ],
   "source": [
    "sample_size=100\n",
    "std_dev=6.3\n",
    "mean_s=54\n",
    "z_alpha_half=stats.norm.ppf(0.975)\n",
    "z_alpha_half"
   ]
  },
  {
   "cell_type": "code",
   "execution_count": 20,
   "id": "ac6509a3-55e6-4b41-b291-5b3ad264f431",
   "metadata": {},
   "outputs": [
    {
     "name": "stdout",
     "output_type": "stream",
     "text": [
      "Confidence interval:(52.77,55.23)\n"
     ]
    }
   ],
   "source": [
    "error_margin=z_alpha_half*std_dev/np.sqrt(sample_size)\n",
    "print(\"Confidence interval:({},{})\".format(round(mean_s-error_margin,2),round(mean_s+error_margin,2)))"
   ]
  },
  {
   "cell_type": "markdown",
   "id": "e554ebc1-d076-4a37-8f21-bd162cace25a",
   "metadata": {},
   "source": [
    "## Hypothesis test\n",
    "We can also test if a value satisfies a certain condition. For instance, we may test if the population mean is equal to  51, more than 51 or less than 51 with a specific accuracy level. This statement provides 3 different cases of hypothesis test. \n",
    "\n",
    "First, we formulate the hypothesis statements. We have two, the **null hypothesis** and the **alternative hypothesis**. The **null** hypothesis,$H_0$, is a statement that represents the claim, current situation or existing information that has to be disproved or not while the **alternative** hypothesis,$H_1$, represents a new situation or information that will be determined given sufficient evidence.\n",
    "If a simple random sample from the population is done, we would like to determine if;\n",
    "1. mean is equal to  51\n",
    "   \n",
    "   $H_0: \\mu=51$\n",
    "   \n",
    "   $H_1: \\mu \\neq 51$   \n",
    "   This is a two-tailedd test.\n",
    "   \n",
    "   $H_0: \\mu=51$\n",
    "   \n",
    "   $H_1: \\mu < 51$   \n",
    "   This is a one left tail test.\n",
    "\n",
    "   $H_0: \\mu=51$\n",
    "   \n",
    "   $H_1: \\mu > 51$\n",
    "   This is a one right tail test.\n",
    "\n",
    "   We reject the null hypothesis if positive of p_value < alpha\n",
    "2. mean is less than  51\n",
    "   \n",
    "   $H_0: \\mu < 51$\n",
    "   \n",
    "   $H_1: \\mu \\geq 51$\n",
    "   This is a one-right-tail test.\n",
    "\n",
    "   We reject the null hypothesis if positive of p_value < alpha\n",
    "   \n",
    "3. mean is more than  51\n",
    "   \n",
    "   $H_0: \\mu > 51$\n",
    "   \n",
    "   $H_1: \\mu \\leq 51$   This is a one-left-tail test.\n",
    "   \n",
    "   We reject the null hypothesis if positive of p_value < alpha\n",
    "\n",
    "In both cases, for $n>0$, the test statistics is\n",
    "$$z=\\dfrac{\\mu_0 -\\mu}{\\sigma/\\sqrt{n}}$$\n",
    "Where $n$ is the sample size and $\\mu_0$ is value being compared to in the hypothesis statement. In our case, we will be using Z-statistics(score) because we will be working with sample sizes more than 30. In a situation where the sample size is less than 30, we use the t-statistic\n",
    "\n",
    "**Example: Using a significance level of $\\alpha =0.01(99%$), test whether the the population mean is less than 51%, n=100**\n",
    "\n",
    "**Example: Using a significance level of $\\alpha =0.01(99%$), test whether the the population mean is equal to 51%, n=100**"
   ]
  },
  {
   "cell_type": "code",
   "execution_count": 25,
   "id": "fbdacf68-4c96-4397-a420-bc3258938943",
   "metadata": {},
   "outputs": [
    {
     "data": {
      "text/plain": [
       "9.58870944497607e-07"
      ]
     },
     "execution_count": 25,
     "metadata": {},
     "output_type": "execute_result"
    }
   ],
   "source": [
    "#Using a significance level of \\alpha =0.01(99%), test whether the the population mean is equal to 51%, n=100\n",
    "alpha=0.01\n",
    "test_mean=51\n",
    "mean_s=54\n",
    "std_dev=6.3\n",
    "sample_size=100\n",
    "test_statistic= (test_mean-mean_s)/(std_dev/np.sqrt(sample_size))\n",
    "test_statistic\n",
    "p_value=stats.norm.cdf(test_statistic)\n",
    "p_value"
   ]
  },
  {
   "cell_type": "code",
   "execution_count": 99,
   "id": "5d66e99d-e732-4238-a99c-4d8f40782bab",
   "metadata": {},
   "outputs": [
    {
     "data": {
      "text/plain": [
       "True"
      ]
     },
     "execution_count": 99,
     "metadata": {},
     "output_type": "execute_result"
    }
   ],
   "source": [
    "p_value < 0.05 # if mu_0 != 51"
   ]
  },
  {
   "cell_type": "code",
   "execution_count": 92,
   "id": "b5ce02e9-d1dc-4ab0-b3d8-befb96de1a62",
   "metadata": {},
   "outputs": [
    {
     "data": {
      "text/plain": [
       "True"
      ]
     },
     "execution_count": 92,
     "metadata": {},
     "output_type": "execute_result"
    }
   ],
   "source": [
    "p_value < 0.01  #if mu_0 <51%"
   ]
  },
  {
   "cell_type": "code",
   "execution_count": 26,
   "id": "f171c212-f888-4f2c-9abe-1a16385446de",
   "metadata": {},
   "outputs": [
    {
     "name": "stdout",
     "output_type": "stream",
     "text": [
      "reject the null hypothesis in faviour of the alternative hypothesis\n",
      "9.58870944497607e-07\n"
     ]
    }
   ],
   "source": [
    "#Using a significance level of \\alpha =0.01(99%), test whether the the population mean is less than 51%, n=100\n",
    "alpha=0.01\n",
    "test_mean=51\n",
    "test_statistic=(test_mean-mean_s)/(std_dev/np.sqrt(sample_size))\n",
    "p_value=stats.norm.cdf(test_statistic)\n",
    "\n",
    "if p_value < alpha:\n",
    "    print('reject the null hypothesis in faviour of the alternative hypothesis')\n",
    "else:\n",
    "    print('There is no enough evidence to reject the null hypothesis, hence, the null hypothesis is true')\n",
    "\n",
    "print(p_value)"
   ]
  },
  {
   "cell_type": "code",
   "execution_count": 27,
   "id": "fd2fc512-5586-4afb-8e7c-b6c3da8e5651",
   "metadata": {},
   "outputs": [],
   "source": [
    "def test_less_than(alpha,test_mean,mean_s,std,sample_size):\n",
    "    \"\"\"\n",
    "\n",
    "    \"\"\"\n",
    "    test_statistic=(test_mean-mean_s)/(std/np.sqrt(sample_size))\n",
    "    p_value=stats.norm.cdf(test_statistic)\n",
    "    if p_value < alpha:\n",
    "        return 'reject the null hypothesis in favour of the alternative hypothesis'\n",
    "    else:\n",
    "        return 'There is no enough evidence to reject the null hypothesis, hence, the null hypothesis is true'"
   ]
  },
  {
   "cell_type": "code",
   "execution_count": 28,
   "id": "277a8f59-88b3-4879-9814-e81093c1a602",
   "metadata": {},
   "outputs": [
    {
     "data": {
      "text/plain": [
       "'reject the null hypothesis in favour of the alternative hypothesis'"
      ]
     },
     "execution_count": 28,
     "metadata": {},
     "output_type": "execute_result"
    }
   ],
   "source": [
    "test_less_than(0.01,51,54,6.3,100)"
   ]
  },
  {
   "cell_type": "code",
   "execution_count": 29,
   "id": "fe67bd23-1bc3-41fe-a691-11cfa6cc305e",
   "metadata": {},
   "outputs": [
    {
     "data": {
      "text/plain": [
       "2635.7630813953488"
      ]
     },
     "execution_count": 29,
     "metadata": {},
     "output_type": "execute_result"
    }
   ],
   "source": [
    "housing_data['total_rooms'].mean()"
   ]
  },
  {
   "cell_type": "code",
   "execution_count": null,
   "id": "9eb12dc6-787d-4d43-a7bb-273ce34e330d",
   "metadata": {},
   "outputs": [],
   "source": []
  }
 ],
 "metadata": {
  "kernelspec": {
   "display_name": "Python 3 (ipykernel)",
   "language": "python",
   "name": "python3"
  },
  "language_info": {
   "codemirror_mode": {
    "name": "ipython",
    "version": 3
   },
   "file_extension": ".py",
   "mimetype": "text/x-python",
   "name": "python",
   "nbconvert_exporter": "python",
   "pygments_lexer": "ipython3",
   "version": "3.13.3"
  }
 },
 "nbformat": 4,
 "nbformat_minor": 5
}
