{
 "cells": [
  {
   "cell_type": "code",
   "execution_count": 3,
   "id": "944e0c61-a88b-4239-a390-733138d74fbe",
   "metadata": {},
   "outputs": [],
   "source": [
    "import random\n",
    "import numpy as np"
   ]
  },
  {
   "cell_type": "code",
   "execution_count": 20,
   "id": "f6f58577-8e89-41a3-aae9-71d2a11504e1",
   "metadata": {},
   "outputs": [
    {
     "data": {
      "text/plain": [
       "5"
      ]
     },
     "execution_count": 20,
     "metadata": {},
     "output_type": "execute_result"
    }
   ],
   "source": [
    "np.random.randint(1,9)"
   ]
  },
  {
   "cell_type": "code",
   "execution_count": null,
   "id": "5897c331-18db-4613-ab7c-7f380cb817cd",
   "metadata": {},
   "outputs": [],
   "source": []
  },
  {
   "cell_type": "markdown",
   "id": "bbbf5741-aa7e-49ce-886d-c3508a7bb271",
   "metadata": {},
   "source": [
    "# PARAMETRIC AND NON-PARAMETRIC TESTS\n",
    "Parametric and non-parametric tests seek to describe the characteristics of the population. **Parametric tests** assume that the data from which the population is taken has an underlying distribution while the **non-parametric tests** assume that there is no such distribution.\n",
    "\n",
    "The parametric test assumes that the population has the following characteristics:\n",
    "* Samples drawn from the population are **random and taken independently** \n",
    "* The samples are drawn from **a normal distribution** or approximately normal distribution with some sort of symmetry of data points\n",
    "* The data has **no outliers**\n",
    "* Data from samples have **approximately equal variance**\n",
    "\n",
    "**Note** \n",
    "* When the assumptions above are met, parametric methods very powerful and detect the real effect if it exists. However, when the assumptions are not met, the test may produce misleading results. \n",
    "* Parametric methods are not good at detecting nonlinear relationships among the variables like the non-parametric methods\n",
    "\n",
    "On the other hand, the non-parametric methods assume that\n",
    "* The data points are **randomly selected** from the population and are **independent** from one another\n",
    "* The measurements across all data points are **consistent (homogeneous)**\n",
    "\n",
    "In most cases, non-parametric methods are used in situations where one is not interested in the population mean or proportion and when there is no need to make assumptions about underlaying distribution of the population. "
   ]
  },
  {
   "cell_type": "markdown",
   "id": "c9c96aca-48b5-4e91-bb57-40d7b55b4639",
   "metadata": {},
   "source": [
    "Examples of the tests\n",
    "\n",
    "\n",
    "| Parametric tests |  Non-Parametric tests | \n",
    "|:-----------------|:-----------------|\n",
    " |Z-test    |      |                     \n",
    "|Used to test for a difference of mean or proportion for known population variance <br/>  The sample size should be at least 30  <br/> $$z=\\dfrac{\\bar{x}-\\mu}{\\dfrac{\\sigma}{\\sqrt{n}}}$$      |    |            \n",
    "|t-test    |       |                   \n",
    "|Used to test for a difference of mean or proportion for unknown population variance <br/>  and sample size is between 15 and 30 <br/> $$t=\\dfrac{\\bar{x}-\\mu}{\\dfrac{s}{\\sqrt{n}}}$$       |  | \n",
    "|Paired (dependent)t-test    | Wilcoxon rank-sum test  |                         \n",
    "|Used to test for a difference of two mean or proportion of two samples taken before <br/>and after an intervention. <br/> Here, data is taken from the same subject. For example, the fitness of sportsman before after and before an <br/>exercise programme   The *t*-statistics is $$t=\\dfrac{\\bar{D}-\\mu_D}{\\sqrt{\\dfrac{s_D^2}{n}}}$$  <br/> degrees of freedom = $n-1$ and $D$ represents the difference in means. **Degrees of freedom** is the number of independent pieces of information used to calculate a statistic.<br/> Hypothesis test: $ H_0: \\mu_D = 0; H_1: \\mu_D < 0 $ or $H_0: \\mu_D = 0, H_1: \\mu_D > 0$ or $H_0: \\mu_D = 0, H_1: \\mu_D \\neq 0$  |  |\n",
    "|Two sampled (independent)t-test    |     Mann-Whitney U-test     |                  \n",
    "|Used to test for a difference of two mean or proportion of two samples from different <br/> sections in the same population. Here, data is taken from the same subject. The distribution should be <br/> normally distributed with approximately equal variances <br />For example, the weight of grade 5 students in different schools <br/> The *t*-statistics is $$t=\\dfrac{(\\bar{x_1}-\\bar{x_2})-(\\mu_1-\\mu_2)}{\\sqrt{\\dfrac{s_1^2}{n_1}+\\dfrac{s_2^2}{n_2}}}$$  <br/> degrees of freedom = $n_1+n_2-1$, $D$ represents the difference in means <br/> Hypothesis test: $ H_0: \\mu_D = 0; H_1: \\mu_D < 0 $ or $H_0: \\mu_D = 0, H_1: \\mu_D > 0$ or $H_0: \\mu_D = 0, H_1: \\mu_D \\neq 0$ | |\n",
    "| One way Analysis of Variance(ANOVA) |  Kruskal-Wallis test    |\n",
    "| This test determines the difference in the mean of two or more groups with <br/>one independent variable for at least two levels   |\n",
    "|Pearson's correlation coefficient($r$)|   Spearman’s rank correlation  |\n",
    "|It tests the association of two numeric variables. It between $-1$ and $1$ <br/>where $-1$ implies negative strong correlation and $1$ implies a position strong correlation|   |"
   ]
  },
  {
   "cell_type": "code",
   "execution_count": 24,
   "id": "7805db37-c66a-4fdd-a2b8-f62f806bc1d8",
   "metadata": {},
   "outputs": [],
   "source": [
    "import numpy as np\n",
    "import pandas as pd\n",
    "import matplotlib.pyplot as plt\n",
    "import random"
   ]
  },
  {
   "cell_type": "code",
   "execution_count": 25,
   "id": "9417cd09-248f-42cd-9a86-3370939004ee",
   "metadata": {},
   "outputs": [
    {
     "data": {
      "text/html": [
       "<div>\n",
       "<style scoped>\n",
       "    .dataframe tbody tr th:only-of-type {\n",
       "        vertical-align: middle;\n",
       "    }\n",
       "\n",
       "    .dataframe tbody tr th {\n",
       "        vertical-align: top;\n",
       "    }\n",
       "\n",
       "    .dataframe thead th {\n",
       "        text-align: right;\n",
       "    }\n",
       "</style>\n",
       "<table border=\"1\" class=\"dataframe\">\n",
       "  <thead>\n",
       "    <tr style=\"text-align: right;\">\n",
       "      <th></th>\n",
       "      <th>longitude</th>\n",
       "      <th>latitude</th>\n",
       "      <th>housing_median_age</th>\n",
       "      <th>total_rooms</th>\n",
       "      <th>total_bedrooms</th>\n",
       "      <th>population</th>\n",
       "      <th>households</th>\n",
       "      <th>median_income</th>\n",
       "      <th>median_house_value</th>\n",
       "      <th>ocean_proximity</th>\n",
       "    </tr>\n",
       "  </thead>\n",
       "  <tbody>\n",
       "    <tr>\n",
       "      <th>0</th>\n",
       "      <td>-122.23</td>\n",
       "      <td>37.88</td>\n",
       "      <td>41.0</td>\n",
       "      <td>880.0</td>\n",
       "      <td>129.0</td>\n",
       "      <td>322.0</td>\n",
       "      <td>126.0</td>\n",
       "      <td>8.3252</td>\n",
       "      <td>452600.0</td>\n",
       "      <td>NEAR BAY</td>\n",
       "    </tr>\n",
       "    <tr>\n",
       "      <th>1</th>\n",
       "      <td>-122.22</td>\n",
       "      <td>37.86</td>\n",
       "      <td>21.0</td>\n",
       "      <td>7099.0</td>\n",
       "      <td>1106.0</td>\n",
       "      <td>2401.0</td>\n",
       "      <td>1138.0</td>\n",
       "      <td>8.3014</td>\n",
       "      <td>358500.0</td>\n",
       "      <td>NEAR BAY</td>\n",
       "    </tr>\n",
       "  </tbody>\n",
       "</table>\n",
       "</div>"
      ],
      "text/plain": [
       "   longitude  latitude  housing_median_age  total_rooms  total_bedrooms  \\\n",
       "0    -122.23     37.88                41.0        880.0           129.0   \n",
       "1    -122.22     37.86                21.0       7099.0          1106.0   \n",
       "\n",
       "   population  households  median_income  median_house_value ocean_proximity  \n",
       "0       322.0       126.0         8.3252            452600.0        NEAR BAY  \n",
       "1      2401.0      1138.0         8.3014            358500.0        NEAR BAY  "
      ]
     },
     "execution_count": 25,
     "metadata": {},
     "output_type": "execute_result"
    }
   ],
   "source": [
    "housing_data=pd.read_csv('housing.csv')\n",
    "housing_data.head(2)"
   ]
  },
  {
   "cell_type": "code",
   "execution_count": 26,
   "id": "8ed6f80f-626b-4fe3-8f47-4f8988d73836",
   "metadata": {},
   "outputs": [],
   "source": [
    "from statsmodels.stats.weightstats import ztest\n"
   ]
  },
  {
   "cell_type": "markdown",
   "id": "70b9afe7-641d-4d89-ad07-cab0f9678351",
   "metadata": {},
   "source": [
    "### One Sample ztest\n",
    "\n",
    "We will use the `ztests` function from `statsmodels.stats.weightstats` module\n",
    "\n",
    "Hypothesis\n",
    "* H_0: There is no significant difference among the samples\n",
    "* H_1: There is a significant difference among the samples\n",
    "  \n",
    "Assume that our data represents the whole population. We will take a sample of 100 and do our analysis\n",
    "\n",
    "**Use the ztest to determine if there is a significant difference in the median income in the simple random sample compared to that of the population**"
   ]
  },
  {
   "cell_type": "code",
   "execution_count": 58,
   "id": "d61fd538-5da8-459d-a8d3-f694ea1dbd5d",
   "metadata": {},
   "outputs": [],
   "source": [
    "#np.random.seed(42)"
   ]
  },
  {
   "cell_type": "code",
   "execution_count": 45,
   "id": "4b43b779-dab1-40f1-a8c8-af2fe7fc5431",
   "metadata": {
    "scrolled": true
   },
   "outputs": [],
   "source": [
    "#Calculate the sample mean and population mean\n",
    "population_mean=housing_data['median_income'].mean()\n",
    "#np.random.seed(42)\n",
    "zsample1=housing_data.sample(100)['median_income']#random sample of 100 items"
   ]
  },
  {
   "cell_type": "code",
   "execution_count": 46,
   "id": "3dadf047-086d-458a-978e-22a22540c0d3",
   "metadata": {},
   "outputs": [
    {
     "data": {
      "text/plain": [
       "4251     2.9760\n",
       "20015    2.7298\n",
       "12138    2.6250\n",
       "14277    1.9509\n",
       "13754    7.5822\n",
       "Name: median_income, dtype: float64"
      ]
     },
     "execution_count": 46,
     "metadata": {},
     "output_type": "execute_result"
    }
   ],
   "source": [
    "zsample1.head()"
   ]
  },
  {
   "cell_type": "code",
   "execution_count": 47,
   "id": "fae4a4a0-8a72-40c6-9ed6-6b70fc4b8653",
   "metadata": {},
   "outputs": [
    {
     "data": {
      "text/plain": [
       "20640"
      ]
     },
     "execution_count": 47,
     "metadata": {},
     "output_type": "execute_result"
    }
   ],
   "source": [
    "housing_data['median_income'].size"
   ]
  },
  {
   "cell_type": "code",
   "execution_count": null,
   "id": "b8deaf7e-ba12-448d-b9a7-c58816517ae4",
   "metadata": {},
   "outputs": [],
   "source": []
  },
  {
   "cell_type": "code",
   "execution_count": 48,
   "id": "2fee7e0d-a4b8-42fa-8dd5-4742a72b980e",
   "metadata": {},
   "outputs": [
    {
     "data": {
      "text/plain": [
       "(np.float64(0.637286617637794), np.float64(0.5239381662149822))"
      ]
     },
     "execution_count": 48,
     "metadata": {},
     "output_type": "execute_result"
    }
   ],
   "source": [
    "ztest(zsample1,None,population_mean)#We test if their is a significance difference between the sample mean and the population mean"
   ]
  },
  {
   "cell_type": "code",
   "execution_count": 49,
   "id": "df656330-ae76-4e06-b197-6f88316ab6c9",
   "metadata": {
    "scrolled": true
   },
   "outputs": [],
   "source": [
    "statistic,p_value=ztest(zsample1,None,population_mean)"
   ]
  },
  {
   "cell_type": "code",
   "execution_count": 50,
   "id": "74712cd2-5320-4b54-b98b-ab5938f395ee",
   "metadata": {},
   "outputs": [
    {
     "data": {
      "text/plain": [
       "np.float64(0.5239381662149822)"
      ]
     },
     "execution_count": 50,
     "metadata": {},
     "output_type": "execute_result"
    }
   ],
   "source": [
    "p_value"
   ]
  },
  {
   "cell_type": "code",
   "execution_count": 51,
   "id": "beb1909e-66e2-46fb-945c-b336cbdab741",
   "metadata": {},
   "outputs": [
    {
     "data": {
      "text/plain": [
       "np.False_"
      ]
     },
     "execution_count": 51,
     "metadata": {},
     "output_type": "execute_result"
    }
   ],
   "source": [
    "p_value <0.05"
   ]
  },
  {
   "cell_type": "markdown",
   "id": "38421ab6-0691-4e62-b8fe-5b4de671f122",
   "metadata": {},
   "source": [
    "Since the **p-value** is less than 0.05, we reject the null hypothesis. Therefore, there is enough evidence to state that the median_income in the sample is different from that of the population"
   ]
  },
  {
   "cell_type": "markdown",
   "id": "f091441d-eefe-4a53-8d68-0461cddf9974",
   "metadata": {},
   "source": [
    "### One Sample ttest\n",
    "\n",
    "Hypothesis\n",
    "* H_0: There is no significant difference among the samples\n",
    "* H_1: There is a significant difference among the samples\n",
    "  \n",
    "**Use the ttest to determine if there is a significant difference in the median income in the simple random sample compared to that of the population**"
   ]
  },
  {
   "cell_type": "code",
   "execution_count": 56,
   "id": "24f57d34-8f3f-4fb0-b960-6e703d663005",
   "metadata": {},
   "outputs": [],
   "source": [
    "from scipy import stats\n",
    "#Calculate the sample mean and population mean\n",
    "population_mean=housing_data['median_income'].mean()\n",
    "#np.random.seed(42)\n",
    "tsample1=housing_data.sample(20)['median_income']\n",
    "t_stat,p_value=stats.ttest_1samp(tsample1,population_mean)"
   ]
  },
  {
   "cell_type": "code",
   "execution_count": 55,
   "id": "d81f775a-438c-4b61-a944-a33fc665730d",
   "metadata": {},
   "outputs": [
    {
     "data": {
      "text/plain": [
       "20"
      ]
     },
     "execution_count": 55,
     "metadata": {},
     "output_type": "execute_result"
    }
   ],
   "source": [
    "tsample1.size"
   ]
  },
  {
   "cell_type": "code",
   "execution_count": 57,
   "id": "1fe88a7a-4fe3-4bef-93c3-1922203d7e51",
   "metadata": {},
   "outputs": [
    {
     "data": {
      "text/plain": [
       "np.float64(0.19500394178900668)"
      ]
     },
     "execution_count": 57,
     "metadata": {},
     "output_type": "execute_result"
    }
   ],
   "source": [
    "p_value"
   ]
  },
  {
   "cell_type": "markdown",
   "id": "92f78bd3-8cb1-4628-97d2-505935f6b3be",
   "metadata": {},
   "source": [
    "If the p_value is more than 0.05, we do not have enough evidence to reject the null hypothesis, therefore, there is no significance difference from the population mean"
   ]
  },
  {
   "cell_type": "markdown",
   "id": "5b379ead-4c25-4688-836d-d53c2d0176ed",
   "metadata": {},
   "source": [
    "## Paired (dependent)t-test\n",
    "\n",
    "Hypothesis\n",
    "* H_0: There is no significant difference among the samples\n",
    "* H_1: There is a significant difference among the samples\n",
    "  \n",
    "**Use the ztest to determine if there is a significant difference in the median income in the simple random sample compared to that of the population**"
   ]
  },
  {
   "cell_type": "code",
   "execution_count": 63,
   "id": "4b666ef4-c072-48f4-a921-e710b27ff1f9",
   "metadata": {},
   "outputs": [
    {
     "data": {
      "text/plain": [
       "array([-0.68100858, -0.70961997, -0.9186767 , -0.28200905,  0.13001571,\n",
       "        0.84587725, -1.03048947,  1.14001485,  0.64515458,  0.81582197])"
      ]
     },
     "execution_count": 63,
     "metadata": {},
     "output_type": "execute_result"
    }
   ],
   "source": [
    "np.random.normal(0,1,len(zsample1))[:10] #generating a normal distribution of mean 0 and std devation 1 "
   ]
  },
  {
   "cell_type": "code",
   "execution_count": 28,
   "id": "6a1363cb-697c-4eeb-8159-6e97d3ae2053",
   "metadata": {
    "scrolled": true
   },
   "outputs": [
    {
     "data": {
      "image/png": "[encoded data removed]",
      "text/plain": [
       "<Figure size 640x480 with 1 Axes>"
      ]
     },
     "metadata": {},
     "output_type": "display_data"
    }
   ],
   "source": [
    "plt.hist(np.random.normal(0,1,len(zsample1))); #np.random.normal(mu=0,sigma=0, n =sample size) draws a normal distribution"
   ]
  },
  {
   "cell_type": "code",
   "execution_count": 65,
   "id": "eeafbbac-0f5f-4f9b-a547-e24dac636ebe",
   "metadata": {},
   "outputs": [
    {
     "data": {
      "text/plain": [
       "[0, 1, 2, 3, 4, 5, 6, 7, 8, 9]"
      ]
     },
     "execution_count": 65,
     "metadata": {},
     "output_type": "execute_result"
    }
   ],
   "source": [
    "list(range(0,100))[:10]"
   ]
  },
  {
   "cell_type": "code",
   "execution_count": 33,
   "id": "7515ddf6-b832-4c2d-8196-ddaab475ee27",
   "metadata": {},
   "outputs": [
    {
     "data": {
      "image/png": "[encoded data removed]",
      "text/plain": [
       "<Figure size 640x480 with 1 Axes>"
      ]
     },
     "metadata": {},
     "output_type": "display_data"
    }
   ],
   "source": [
    "plt.plot(list(range(0,100)),np.random.normal(1,4,len(zsample1))); #We generate a pdf from normal distribution and plot it"
   ]
  },
  {
   "cell_type": "code",
   "execution_count": 66,
   "id": "8be1497c-467c-48e6-ae1c-083df8c913ae",
   "metadata": {},
   "outputs": [
    {
     "data": {
      "text/plain": [
       "array([ 2.72820128,  2.9259447 , -2.81518952,  1.40919822,  4.95550732,\n",
       "        3.07399724, -1.90887495, -0.34159056,  6.88930849,  1.45507461,\n",
       "       -1.47641971,  1.68477167,  1.25073058,  5.21215065,  4.01945249,\n",
       "       -4.17093451, -5.32633002,  4.07926448,  2.37829414, -3.65011571])"
      ]
     },
     "execution_count": 66,
     "metadata": {},
     "output_type": "execute_result"
    }
   ],
   "source": [
    "np.random.normal(1,4,len(zsample1))[:20]"
   ]
  },
  {
   "cell_type": "code",
   "execution_count": 67,
   "id": "485a35a1-b5d9-46fe-859a-ee7887d680ac",
   "metadata": {},
   "outputs": [],
   "source": [
    "#Create a noise and to zsample1 and carry out the test. The aim is to create one more sample for comparison\n",
    "zsample2=zsample1+np.random.normal(1,4,len(zsample1))"
   ]
  },
  {
   "cell_type": "code",
   "execution_count": 49,
   "id": "44da0a81-fe1d-42cb-9503-7e656ef6f7d2",
   "metadata": {},
   "outputs": [
    {
     "data": {
      "text/plain": [
       "20046    10.965950\n",
       "3024      2.801414\n",
       "15663    -0.469590\n",
       "20484     4.489104\n",
       "9814      4.871644\n",
       "           ...    \n",
       "6052      2.681433\n",
       "15975    11.432953\n",
       "14331     5.171305\n",
       "1606      4.925920\n",
       "10915     4.042650\n",
       "Name: median_income, Length: 100, dtype: float64"
      ]
     },
     "execution_count": 49,
     "metadata": {},
     "output_type": "execute_result"
    }
   ],
   "source": [
    "zsample2"
   ]
  },
  {
   "cell_type": "code",
   "execution_count": 68,
   "id": "fefae471-b6f8-47d9-87f8-68346fe9fff0",
   "metadata": {},
   "outputs": [
    {
     "data": {
      "image/png": "[encoded data removed]",
      "text/plain": [
       "<Figure size 640x480 with 1 Axes>"
      ]
     },
     "metadata": {},
     "output_type": "display_data"
    }
   ],
   "source": [
    "plt.plot(list(range(0,len(zsample2))),zsample2,label='zsample2')\n",
    "plt.plot(list(range(0,len(zsample1))),zsample1,label='zsample1')\n",
    "plt.legend()\n",
    "plt.show();"
   ]
  },
  {
   "cell_type": "code",
   "execution_count": 70,
   "id": "dd25b10a-cdbc-4b67-ae68-5f9d8eae3e53",
   "metadata": {},
   "outputs": [],
   "source": [
    "statistics,p_value=ztest(zsample1,zsample2,population_mean)"
   ]
  },
  {
   "cell_type": "code",
   "execution_count": 71,
   "id": "9d188487-f486-43e4-b033-543adba74f3b",
   "metadata": {},
   "outputs": [
    {
     "data": {
      "text/plain": [
       "np.float64(1.6881862017922938e-26)"
      ]
     },
     "execution_count": 71,
     "metadata": {},
     "output_type": "execute_result"
    }
   ],
   "source": [
    "p_value"
   ]
  },
  {
   "cell_type": "code",
   "execution_count": 72,
   "id": "1076be5a-3b9a-4a2b-81b3-e63fa9b5cd9c",
   "metadata": {},
   "outputs": [
    {
     "data": {
      "text/plain": [
       "np.True_"
      ]
     },
     "execution_count": 72,
     "metadata": {},
     "output_type": "execute_result"
    }
   ],
   "source": [
    "p_value < 0.05"
   ]
  },
  {
   "cell_type": "markdown",
   "id": "7ff6e04f-4cb5-4a48-a68b-909e83d3999a",
   "metadata": {},
   "source": [
    "The p-value is less than the significance level, hence, we reject the null hypothesis. There is significance difference in the means of the two sample"
   ]
  },
  {
   "cell_type": "code",
   "execution_count": null,
   "id": "80ff725b-58c9-42fe-a5e8-ece000e5c433",
   "metadata": {},
   "outputs": [],
   "source": [
    "#for t test, we have the following code\n",
    "#scipy.stats.ttest_ind(x1, x2, equal_var=True)  for paired samples(dep) use  scipy.stats.ttest_rel() function"
   ]
  },
  {
   "cell_type": "markdown",
   "id": "453738ab-fc23-4fb4-a2ea-5af6fed44f46",
   "metadata": {},
   "source": [
    "## One way Analysis of Variance(ANOVA)\n",
    "Assume that three groups of students selected randomly are exposed to different study environments. A study is then done to determine if there are a significance difference in their performance.\n",
    "\n",
    "\n",
    "* H_0: populations means are all equal\n",
    "* H_1: Population means are all different\n"
   ]
  },
  {
   "cell_type": "code",
   "execution_count": 73,
   "id": "655b0ff8-f4bb-40e7-96bf-bafa2b289515",
   "metadata": {},
   "outputs": [],
   "source": [
    "group1=[68,87,69,71,65,75]\n",
    "group2=[69,80,79,74,55,85]\n",
    "group3=[73,70,65,79,64,71]"
   ]
  },
  {
   "cell_type": "code",
   "execution_count": 74,
   "id": "56b628ea-e342-4fd0-ab4e-5745ff5f1b62",
   "metadata": {},
   "outputs": [
    {
     "data": {
      "text/plain": [
       "(np.float64(72.5), np.float64(73.7), np.float64(70.3))"
      ]
     },
     "execution_count": 74,
     "metadata": {},
     "output_type": "execute_result"
    }
   ],
   "source": [
    "np.mean(group1),round(np.mean(group2),1),round(np.mean(group3),1)"
   ]
  },
  {
   "cell_type": "code",
   "execution_count": 75,
   "id": "1ebf8e9b-2c49-4cfb-b32a-e804237366cc",
   "metadata": {},
   "outputs": [
    {
     "data": {
      "text/html": [
       "<div>\n",
       "<style scoped>\n",
       "    .dataframe tbody tr th:only-of-type {\n",
       "        vertical-align: middle;\n",
       "    }\n",
       "\n",
       "    .dataframe tbody tr th {\n",
       "        vertical-align: top;\n",
       "    }\n",
       "\n",
       "    .dataframe thead th {\n",
       "        text-align: right;\n",
       "    }\n",
       "</style>\n",
       "<table border=\"1\" class=\"dataframe\">\n",
       "  <thead>\n",
       "    <tr style=\"text-align: right;\">\n",
       "      <th></th>\n",
       "      <th>group</th>\n",
       "      <th>groupings</th>\n",
       "    </tr>\n",
       "  </thead>\n",
       "  <tbody>\n",
       "    <tr>\n",
       "      <th>0</th>\n",
       "      <td>[68, 87, 69, 71, 65, 75]</td>\n",
       "      <td>group1</td>\n",
       "    </tr>\n",
       "    <tr>\n",
       "      <th>1</th>\n",
       "      <td>[69, 80, 79, 74, 55, 85]</td>\n",
       "      <td>group2</td>\n",
       "    </tr>\n",
       "    <tr>\n",
       "      <th>2</th>\n",
       "      <td>[73, 70, 65, 79, 64, 71]</td>\n",
       "      <td>group3</td>\n",
       "    </tr>\n",
       "  </tbody>\n",
       "</table>\n",
       "</div>"
      ],
      "text/plain": [
       "                      group groupings\n",
       "0  [68, 87, 69, 71, 65, 75]    group1\n",
       "1  [69, 80, 79, 74, 55, 85]    group2\n",
       "2  [73, 70, 65, 79, 64, 71]    group3"
      ]
     },
     "execution_count": 75,
     "metadata": {},
     "output_type": "execute_result"
    }
   ],
   "source": [
    "df=pd.DataFrame({'group':[group1,group2,group3],'groupings':['group1','group2','group3']})\n",
    "df"
   ]
  },
  {
   "cell_type": "code",
   "execution_count": 76,
   "id": "bc5e7576-34cf-4a86-a852-63f43e6f2a24",
   "metadata": {},
   "outputs": [],
   "source": [
    "from scipy.stats import f_oneway"
   ]
  },
  {
   "cell_type": "code",
   "execution_count": 77,
   "id": "30e26c22-ffe0-4fbd-82f1-7643ef3ecbd6",
   "metadata": {
    "scrolled": true
   },
   "outputs": [],
   "source": [
    "f_stat,pvalue=f_oneway(group1,group2,group3)"
   ]
  },
  {
   "cell_type": "code",
   "execution_count": 78,
   "id": "c182f00a-cdd6-4eb3-895e-07c43d70d3c4",
   "metadata": {},
   "outputs": [
    {
     "data": {
      "text/plain": [
       "np.float64(0.7812755398859392)"
      ]
     },
     "execution_count": 78,
     "metadata": {},
     "output_type": "execute_result"
    }
   ],
   "source": [
    "pvalue"
   ]
  },
  {
   "cell_type": "markdown",
   "id": "ca08ff70-e18a-4e63-bec5-a8d45c7a8912",
   "metadata": {},
   "source": [
    "F_statistic=0.7812755398859392, P-value is more than 0.5, hence, we do not reject the null hypothesis. There is a significant difference in the mean"
   ]
  },
  {
   "cell_type": "code",
   "execution_count": 95,
   "id": "b5723a82-05d9-4806-8398-791e0f397d72",
   "metadata": {},
   "outputs": [],
   "source": [
    "import statsmodels.api as sm\n",
    "from statsmodels.formula.api import ols"
   ]
  },
  {
   "cell_type": "markdown",
   "id": "4f9ecb09-533b-4e44-ae1a-8438a0b03e50",
   "metadata": {},
   "source": [
    "## Pearson's correlation coefficient\n",
    "Compute the correlation coefficient for different features"
   ]
  },
  {
   "cell_type": "code",
   "execution_count": 79,
   "id": "bdf6f163-35dd-439b-afac-baf0f5684a1f",
   "metadata": {},
   "outputs": [
    {
     "data": {
      "text/plain": [
       "array(['NEAR BAY', '<1H OCEAN', 'INLAND', 'NEAR OCEAN', 'ISLAND'],\n",
       "      dtype=object)"
      ]
     },
     "execution_count": 79,
     "metadata": {},
     "output_type": "execute_result"
    }
   ],
   "source": [
    "housing_data.ocean_proximity.unique()"
   ]
  },
  {
   "cell_type": "code",
   "execution_count": 85,
   "id": "d414804a-0ba7-46e5-85fe-8f5f5a95d24c",
   "metadata": {},
   "outputs": [
    {
     "data": {
      "text/html": [
       "<div>\n",
       "<style scoped>\n",
       "    .dataframe tbody tr th:only-of-type {\n",
       "        vertical-align: middle;\n",
       "    }\n",
       "\n",
       "    .dataframe tbody tr th {\n",
       "        vertical-align: top;\n",
       "    }\n",
       "\n",
       "    .dataframe thead th {\n",
       "        text-align: right;\n",
       "    }\n",
       "</style>\n",
       "<table border=\"1\" class=\"dataframe\">\n",
       "  <thead>\n",
       "    <tr style=\"text-align: right;\">\n",
       "      <th></th>\n",
       "      <th>longitude</th>\n",
       "      <th>latitude</th>\n",
       "      <th>housing_median_age</th>\n",
       "      <th>total_rooms</th>\n",
       "      <th>total_bedrooms</th>\n",
       "      <th>population</th>\n",
       "      <th>households</th>\n",
       "      <th>median_income</th>\n",
       "      <th>median_house_value</th>\n",
       "    </tr>\n",
       "  </thead>\n",
       "  <tbody>\n",
       "    <tr>\n",
       "      <th>longitude</th>\n",
       "      <td>1.000000</td>\n",
       "      <td>-0.924664</td>\n",
       "      <td>-0.108197</td>\n",
       "      <td>0.044568</td>\n",
       "      <td>0.069608</td>\n",
       "      <td>0.099773</td>\n",
       "      <td>0.055310</td>\n",
       "      <td>-0.015176</td>\n",
       "      <td>-0.045967</td>\n",
       "    </tr>\n",
       "    <tr>\n",
       "      <th>latitude</th>\n",
       "      <td>-0.924664</td>\n",
       "      <td>1.000000</td>\n",
       "      <td>0.011173</td>\n",
       "      <td>-0.036100</td>\n",
       "      <td>-0.066983</td>\n",
       "      <td>-0.108785</td>\n",
       "      <td>-0.071035</td>\n",
       "      <td>-0.079809</td>\n",
       "      <td>-0.144160</td>\n",
       "    </tr>\n",
       "    <tr>\n",
       "      <th>housing_median_age</th>\n",
       "      <td>-0.108197</td>\n",
       "      <td>0.011173</td>\n",
       "      <td>1.000000</td>\n",
       "      <td>-0.361262</td>\n",
       "      <td>-0.320451</td>\n",
       "      <td>-0.296244</td>\n",
       "      <td>-0.302916</td>\n",
       "      <td>-0.119034</td>\n",
       "      <td>0.105623</td>\n",
       "    </tr>\n",
       "    <tr>\n",
       "      <th>total_rooms</th>\n",
       "      <td>0.044568</td>\n",
       "      <td>-0.036100</td>\n",
       "      <td>-0.361262</td>\n",
       "      <td>1.000000</td>\n",
       "      <td>0.930380</td>\n",
       "      <td>0.857126</td>\n",
       "      <td>0.918484</td>\n",
       "      <td>0.198050</td>\n",
       "      <td>0.134153</td>\n",
       "    </tr>\n",
       "    <tr>\n",
       "      <th>total_bedrooms</th>\n",
       "      <td>0.069608</td>\n",
       "      <td>-0.066983</td>\n",
       "      <td>-0.320451</td>\n",
       "      <td>0.930380</td>\n",
       "      <td>1.000000</td>\n",
       "      <td>0.877747</td>\n",
       "      <td>0.979728</td>\n",
       "      <td>-0.007723</td>\n",
       "      <td>0.049686</td>\n",
       "    </tr>\n",
       "    <tr>\n",
       "      <th>population</th>\n",
       "      <td>0.099773</td>\n",
       "      <td>-0.108785</td>\n",
       "      <td>-0.296244</td>\n",
       "      <td>0.857126</td>\n",
       "      <td>0.877747</td>\n",
       "      <td>1.000000</td>\n",
       "      <td>0.907222</td>\n",
       "      <td>0.004834</td>\n",
       "      <td>-0.024650</td>\n",
       "    </tr>\n",
       "    <tr>\n",
       "      <th>households</th>\n",
       "      <td>0.055310</td>\n",
       "      <td>-0.071035</td>\n",
       "      <td>-0.302916</td>\n",
       "      <td>0.918484</td>\n",
       "      <td>0.979728</td>\n",
       "      <td>0.907222</td>\n",
       "      <td>1.000000</td>\n",
       "      <td>0.013033</td>\n",
       "      <td>0.065843</td>\n",
       "    </tr>\n",
       "    <tr>\n",
       "      <th>median_income</th>\n",
       "      <td>-0.015176</td>\n",
       "      <td>-0.079809</td>\n",
       "      <td>-0.119034</td>\n",
       "      <td>0.198050</td>\n",
       "      <td>-0.007723</td>\n",
       "      <td>0.004834</td>\n",
       "      <td>0.013033</td>\n",
       "      <td>1.000000</td>\n",
       "      <td>0.688075</td>\n",
       "    </tr>\n",
       "    <tr>\n",
       "      <th>median_house_value</th>\n",
       "      <td>-0.045967</td>\n",
       "      <td>-0.144160</td>\n",
       "      <td>0.105623</td>\n",
       "      <td>0.134153</td>\n",
       "      <td>0.049686</td>\n",
       "      <td>-0.024650</td>\n",
       "      <td>0.065843</td>\n",
       "      <td>0.688075</td>\n",
       "      <td>1.000000</td>\n",
       "    </tr>\n",
       "  </tbody>\n",
       "</table>\n",
       "</div>"
      ],
      "text/plain": [
       "                    longitude  latitude  housing_median_age  total_rooms  \\\n",
       "longitude            1.000000 -0.924664           -0.108197     0.044568   \n",
       "latitude            -0.924664  1.000000            0.011173    -0.036100   \n",
       "housing_median_age  -0.108197  0.011173            1.000000    -0.361262   \n",
       "total_rooms          0.044568 -0.036100           -0.361262     1.000000   \n",
       "total_bedrooms       0.069608 -0.066983           -0.320451     0.930380   \n",
       "population           0.099773 -0.108785           -0.296244     0.857126   \n",
       "households           0.055310 -0.071035           -0.302916     0.918484   \n",
       "median_income       -0.015176 -0.079809           -0.119034     0.198050   \n",
       "median_house_value  -0.045967 -0.144160            0.105623     0.134153   \n",
       "\n",
       "                    total_bedrooms  population  households  median_income  \\\n",
       "longitude                 0.069608    0.099773    0.055310      -0.015176   \n",
       "latitude                 -0.066983   -0.108785   -0.071035      -0.079809   \n",
       "housing_median_age       -0.320451   -0.296244   -0.302916      -0.119034   \n",
       "total_rooms               0.930380    0.857126    0.918484       0.198050   \n",
       "total_bedrooms            1.000000    0.877747    0.979728      -0.007723   \n",
       "population                0.877747    1.000000    0.907222       0.004834   \n",
       "households                0.979728    0.907222    1.000000       0.013033   \n",
       "median_income            -0.007723    0.004834    0.013033       1.000000   \n",
       "median_house_value        0.049686   -0.024650    0.065843       0.688075   \n",
       "\n",
       "                    median_house_value  \n",
       "longitude                    -0.045967  \n",
       "latitude                     -0.144160  \n",
       "housing_median_age            0.105623  \n",
       "total_rooms                   0.134153  \n",
       "total_bedrooms                0.049686  \n",
       "population                   -0.024650  \n",
       "households                    0.065843  \n",
       "median_income                 0.688075  \n",
       "median_house_value            1.000000  "
      ]
     },
     "execution_count": 85,
     "metadata": {},
     "output_type": "execute_result"
    }
   ],
   "source": [
    "housing_data.iloc[:,:-1].corr()"
   ]
  },
  {
   "cell_type": "code",
   "execution_count": 86,
   "id": "c8238d5f-21ba-4156-9c52-db765e1ce873",
   "metadata": {},
   "outputs": [
    {
     "data": {
      "text/plain": [
       "longitude            -0.045967\n",
       "latitude             -0.144160\n",
       "housing_median_age    0.105623\n",
       "total_rooms           0.134153\n",
       "total_bedrooms        0.049686\n",
       "population           -0.024650\n",
       "households            0.065843\n",
       "median_income         0.688075\n",
       "median_house_value    1.000000\n",
       "Name: median_house_value, dtype: float64"
      ]
     },
     "execution_count": 86,
     "metadata": {},
     "output_type": "execute_result"
    }
   ],
   "source": [
    "housing_data.iloc[:,:-1].corr().iloc[:,-1]"
   ]
  },
  {
   "cell_type": "code",
   "execution_count": 85,
   "id": "765e0023-5fb0-4a3c-97ef-08971bb3cd86",
   "metadata": {},
   "outputs": [
    {
     "data": {
      "text/html": [
       "<div>\n",
       "<style scoped>\n",
       "    .dataframe tbody tr th:only-of-type {\n",
       "        vertical-align: middle;\n",
       "    }\n",
       "\n",
       "    .dataframe tbody tr th {\n",
       "        vertical-align: top;\n",
       "    }\n",
       "\n",
       "    .dataframe thead th {\n",
       "        text-align: right;\n",
       "    }\n",
       "</style>\n",
       "<table border=\"1\" class=\"dataframe\">\n",
       "  <thead>\n",
       "    <tr style=\"text-align: right;\">\n",
       "      <th></th>\n",
       "      <th>longitude</th>\n",
       "      <th>latitude</th>\n",
       "      <th>housing_median_age</th>\n",
       "      <th>total_rooms</th>\n",
       "      <th>total_bedrooms</th>\n",
       "      <th>population</th>\n",
       "      <th>households</th>\n",
       "      <th>median_income</th>\n",
       "      <th>median_house_value</th>\n",
       "    </tr>\n",
       "  </thead>\n",
       "  <tbody>\n",
       "    <tr>\n",
       "      <th>longitude</th>\n",
       "      <td>1.000000</td>\n",
       "      <td>-0.879203</td>\n",
       "      <td>-0.150752</td>\n",
       "      <td>0.040120</td>\n",
       "      <td>0.063879</td>\n",
       "      <td>0.123527</td>\n",
       "      <td>0.060020</td>\n",
       "      <td>-0.009928</td>\n",
       "      <td>-0.069667</td>\n",
       "    </tr>\n",
       "    <tr>\n",
       "      <th>latitude</th>\n",
       "      <td>-0.879203</td>\n",
       "      <td>1.000000</td>\n",
       "      <td>0.032440</td>\n",
       "      <td>-0.018435</td>\n",
       "      <td>-0.056636</td>\n",
       "      <td>-0.123626</td>\n",
       "      <td>-0.074299</td>\n",
       "      <td>-0.088029</td>\n",
       "      <td>-0.165739</td>\n",
       "    </tr>\n",
       "    <tr>\n",
       "      <th>housing_median_age</th>\n",
       "      <td>-0.150752</td>\n",
       "      <td>0.032440</td>\n",
       "      <td>1.000000</td>\n",
       "      <td>-0.357162</td>\n",
       "      <td>-0.306544</td>\n",
       "      <td>-0.283879</td>\n",
       "      <td>-0.281989</td>\n",
       "      <td>-0.147308</td>\n",
       "      <td>0.074855</td>\n",
       "    </tr>\n",
       "    <tr>\n",
       "      <th>total_rooms</th>\n",
       "      <td>0.040120</td>\n",
       "      <td>-0.018435</td>\n",
       "      <td>-0.357162</td>\n",
       "      <td>1.000000</td>\n",
       "      <td>0.915021</td>\n",
       "      <td>0.816185</td>\n",
       "      <td>0.906734</td>\n",
       "      <td>0.271321</td>\n",
       "      <td>0.205952</td>\n",
       "    </tr>\n",
       "    <tr>\n",
       "      <th>total_bedrooms</th>\n",
       "      <td>0.063879</td>\n",
       "      <td>-0.056636</td>\n",
       "      <td>-0.306544</td>\n",
       "      <td>0.915021</td>\n",
       "      <td>1.000000</td>\n",
       "      <td>0.870937</td>\n",
       "      <td>0.975627</td>\n",
       "      <td>-0.006196</td>\n",
       "      <td>0.086259</td>\n",
       "    </tr>\n",
       "    <tr>\n",
       "      <th>population</th>\n",
       "      <td>0.123527</td>\n",
       "      <td>-0.123626</td>\n",
       "      <td>-0.283879</td>\n",
       "      <td>0.816185</td>\n",
       "      <td>0.870937</td>\n",
       "      <td>1.000000</td>\n",
       "      <td>0.903872</td>\n",
       "      <td>0.006268</td>\n",
       "      <td>0.003839</td>\n",
       "    </tr>\n",
       "    <tr>\n",
       "      <th>households</th>\n",
       "      <td>0.060020</td>\n",
       "      <td>-0.074299</td>\n",
       "      <td>-0.281989</td>\n",
       "      <td>0.906734</td>\n",
       "      <td>0.975627</td>\n",
       "      <td>0.903872</td>\n",
       "      <td>1.000000</td>\n",
       "      <td>0.030305</td>\n",
       "      <td>0.112737</td>\n",
       "    </tr>\n",
       "    <tr>\n",
       "      <th>median_income</th>\n",
       "      <td>-0.009928</td>\n",
       "      <td>-0.088029</td>\n",
       "      <td>-0.147308</td>\n",
       "      <td>0.271321</td>\n",
       "      <td>-0.006196</td>\n",
       "      <td>0.006268</td>\n",
       "      <td>0.030305</td>\n",
       "      <td>1.000000</td>\n",
       "      <td>0.676778</td>\n",
       "    </tr>\n",
       "    <tr>\n",
       "      <th>median_house_value</th>\n",
       "      <td>-0.069667</td>\n",
       "      <td>-0.165739</td>\n",
       "      <td>0.074855</td>\n",
       "      <td>0.205952</td>\n",
       "      <td>0.086259</td>\n",
       "      <td>0.003839</td>\n",
       "      <td>0.112737</td>\n",
       "      <td>0.676778</td>\n",
       "      <td>1.000000</td>\n",
       "    </tr>\n",
       "  </tbody>\n",
       "</table>\n",
       "</div>"
      ],
      "text/plain": [
       "                    longitude  latitude  housing_median_age  total_rooms  \\\n",
       "longitude            1.000000 -0.879203           -0.150752     0.040120   \n",
       "latitude            -0.879203  1.000000            0.032440    -0.018435   \n",
       "housing_median_age  -0.150752  0.032440            1.000000    -0.357162   \n",
       "total_rooms          0.040120 -0.018435           -0.357162     1.000000   \n",
       "total_bedrooms       0.063879 -0.056636           -0.306544     0.915021   \n",
       "population           0.123527 -0.123626           -0.283879     0.816185   \n",
       "households           0.060020 -0.074299           -0.281989     0.906734   \n",
       "median_income       -0.009928 -0.088029           -0.147308     0.271321   \n",
       "median_house_value  -0.069667 -0.165739            0.074855     0.205952   \n",
       "\n",
       "                    total_bedrooms  population  households  median_income  \\\n",
       "longitude                 0.063879    0.123527    0.060020      -0.009928   \n",
       "latitude                 -0.056636   -0.123626   -0.074299      -0.088029   \n",
       "housing_median_age       -0.306544   -0.283879   -0.281989      -0.147308   \n",
       "total_rooms               0.915021    0.816185    0.906734       0.271321   \n",
       "total_bedrooms            1.000000    0.870937    0.975627      -0.006196   \n",
       "population                0.870937    1.000000    0.903872       0.006268   \n",
       "households                0.975627    0.903872    1.000000       0.030305   \n",
       "median_income            -0.006196    0.006268    0.030305       1.000000   \n",
       "median_house_value        0.086259    0.003839    0.112737       0.676778   \n",
       "\n",
       "                    median_house_value  \n",
       "longitude                    -0.069667  \n",
       "latitude                     -0.165739  \n",
       "housing_median_age            0.074855  \n",
       "total_rooms                   0.205952  \n",
       "total_bedrooms                0.086259  \n",
       "population                    0.003839  \n",
       "households                    0.112737  \n",
       "median_income                 0.676778  \n",
       "median_house_value            1.000000  "
      ]
     },
     "execution_count": 85,
     "metadata": {},
     "output_type": "execute_result"
    }
   ],
   "source": [
    "housing_data.iloc[:,:-1].corr(method='spearman')"
   ]
  },
  {
   "cell_type": "markdown",
   "id": "55a50868-0f8d-4df4-936c-a00dffd03997",
   "metadata": {},
   "source": [
    "## Wilcoxon signed-rank test\n",
    "Determines there is a difference among the two samples\n",
    "* H_0: The two samples have similar characteristics\n",
    "* H_1: The two samples have different characteristics\n",
    "  \n",
    "We use Scipy module"
   ]
  },
  {
   "cell_type": "code",
   "execution_count": 90,
   "id": "03addb2f-10af-4629-8637-cd6ef10c00bf",
   "metadata": {},
   "outputs": [
    {
     "data": {
      "text/plain": [
       "[0, 1, 2, 3]"
      ]
     },
     "execution_count": 90,
     "metadata": {},
     "output_type": "execute_result"
    }
   ],
   "source": [
    "list(range(4))"
   ]
  },
  {
   "cell_type": "code",
   "execution_count": 88,
   "id": "d35aae02-2a89-4948-b632-ad13c1d64517",
   "metadata": {},
   "outputs": [],
   "source": [
    "def rand_lists(start,stop,quantity):\n",
    "    ls=[]\n",
    "    for i in range(quantity):\n",
    "        ls.append(random.randint(start,stop))  #random.randint(start,stop) create a random integer between start and stop-1\n",
    "    return ls\n"
   ]
  },
  {
   "cell_type": "code",
   "execution_count": 89,
   "id": "941c8a8f-5468-487a-9e3d-eadd42bbb5b8",
   "metadata": {},
   "outputs": [],
   "source": [
    "sample1_sugar=rand_lists(70,100,15)\n",
    "sample2_sugar=rand_lists(77,100,15)"
   ]
  },
  {
   "cell_type": "code",
   "execution_count": 90,
   "id": "72e2bfbd-b5c6-44eb-bedc-acac93f45f94",
   "metadata": {},
   "outputs": [
    {
     "data": {
      "text/plain": [
       "[72, 73, 76, 77, 75, 70, 89, 84, 94, 77, 73, 72, 83, 74, 87]"
      ]
     },
     "execution_count": 90,
     "metadata": {},
     "output_type": "execute_result"
    }
   ],
   "source": [
    "sample1_sugar"
   ]
  },
  {
   "cell_type": "code",
   "execution_count": 91,
   "id": "8b971849-8e58-4d54-82ac-ef0413abc81b",
   "metadata": {},
   "outputs": [
    {
     "data": {
      "text/plain": [
       "[95, 81, 80, 92, 77, 77, 86, 98, 79, 96, 87, 89, 93, 84, 99]"
      ]
     },
     "execution_count": 91,
     "metadata": {},
     "output_type": "execute_result"
    }
   ],
   "source": [
    "sample2_sugar"
   ]
  },
  {
   "cell_type": "markdown",
   "id": "1417fa08-dc78-465c-9908-5f2f7035bb97",
   "metadata": {},
   "source": [
    "**The samples above shows the sugar level of 15 people in mg/dL taken before and after a meal.** \n",
    "\n",
    "**Determine if there is a significant difference in the sugar levels in the two samples.**"
   ]
  },
  {
   "cell_type": "code",
   "execution_count": 92,
   "id": "1dc6f99c-b058-4b54-a8a6-a185afc7a29f",
   "metadata": {},
   "outputs": [],
   "source": [
    "statistic,p_value=stats.wilcoxon(sample1_sugar,sample2_sugar)"
   ]
  },
  {
   "cell_type": "code",
   "execution_count": 93,
   "id": "fd624a73-0bba-4171-a533-95e09bec40ff",
   "metadata": {},
   "outputs": [
    {
     "data": {
      "text/plain": [
       "np.float64(0.008226697399892359)"
      ]
     },
     "execution_count": 93,
     "metadata": {},
     "output_type": "execute_result"
    }
   ],
   "source": [
    "p_value"
   ]
  },
  {
   "cell_type": "code",
   "execution_count": 94,
   "id": "7a8c8736-6e33-4dc1-9055-a0d43b8398c0",
   "metadata": {},
   "outputs": [
    {
     "data": {
      "text/plain": [
       "np.True_"
      ]
     },
     "execution_count": 94,
     "metadata": {},
     "output_type": "execute_result"
    }
   ],
   "source": [
    "p_value<0.05"
   ]
  },
  {
   "cell_type": "markdown",
   "id": "2c2b3f9d-4ddf-41b8-b52b-3d41517db9c9",
   "metadata": {},
   "source": [
    "The p-value is more than 0.05, hence, we do not reject the null hypothesis. There is sufficient evidence to prove that there is no a significant difference between the blood levels."
   ]
  },
  {
   "cell_type": "markdown",
   "id": "b8837fc3-40b7-48c3-96b8-3136790fab6e",
   "metadata": {},
   "source": [
    "## Mann-Whitney U-test\n",
    "It is also called, **the Wilcoxon Rank Sum Test**. It is used to determine if two samples are derived from the same population\n",
    "\n",
    "Determines there is a difference among the two samples\n",
    "* H_0: The two samples are from the same population\n",
    "* H_1: The two samples are from different population\n",
    "\n",
    "**A researcher wants to find out if the use of a new HIV AIDS therapy changes the strength of infection of HIV. The researcher measures the CD4 cells for 12 people before therapy then introduces them to 9 months of therapy and measures their CD4 cells. Using Mann-Whitney U-Test, determine if there is a change in the strength of infection of HIV AIDS. Test against a significance level of 0.05**"
   ]
  },
  {
   "cell_type": "code",
   "execution_count": 96,
   "id": "8752fcb0-b14a-4db8-aa3b-7dfc1e78c074",
   "metadata": {},
   "outputs": [
    {
     "data": {
      "text/plain": [
       "[151, 139, 124, 126, 151, 132, 131, 130, 130, 126, 145, 160]"
      ]
     },
     "execution_count": 96,
     "metadata": {},
     "output_type": "execute_result"
    }
   ],
   "source": [
    "count_B4_therapy"
   ]
  },
  {
   "cell_type": "code",
   "execution_count": 97,
   "id": "de762078-da0a-402f-a374-ef6777b95e7a",
   "metadata": {},
   "outputs": [
    {
     "data": {
      "text/plain": [
       "[149, 156, 169, 177, 144, 188, 157, 158, 163, 158]"
      ]
     },
     "execution_count": 97,
     "metadata": {},
     "output_type": "execute_result"
    }
   ],
   "source": [
    "count_after_therapy"
   ]
  },
  {
   "cell_type": "code",
   "execution_count": 95,
   "id": "afdadd69-7ad6-4c6e-accd-efa5cedbd036",
   "metadata": {},
   "outputs": [],
   "source": [
    "count_B4_therapy=rand_lists(120,160,12)\n",
    "count_after_therapy=rand_lists(140,200,10) # Data don't have to be of the same size but should be broadcastable"
   ]
  },
  {
   "cell_type": "code",
   "execution_count": 103,
   "id": "1e45f778-9ba5-407f-b0b4-63f59f33945f",
   "metadata": {},
   "outputs": [],
   "source": [
    "statistic,p_value=stats.mannwhitneyu(count_B4_therapy,count_after_therapy,method='exact')"
   ]
  },
  {
   "cell_type": "code",
   "execution_count": 99,
   "id": "24972853-55a5-4595-9c8f-56b5cb7d349d",
   "metadata": {},
   "outputs": [
    {
     "data": {
      "text/plain": [
       "np.True_"
      ]
     },
     "execution_count": 99,
     "metadata": {},
     "output_type": "execute_result"
    }
   ],
   "source": [
    "p_value < 0.05"
   ]
  },
  {
   "cell_type": "markdown",
   "id": "f4148789-2109-4853-9dc0-475637673b75",
   "metadata": {},
   "source": [
    "The p_value is less than 0.05, therefore, we reject the null hypothesis. There is enough evidence to conclude that there is a significant change in the strength of infection (samples are not from the same population) "
   ]
  },
  {
   "cell_type": "markdown",
   "id": "3260df96-d1b7-4dd7-8df7-aee3c3fe663b",
   "metadata": {},
   "source": [
    "## Kruskal-Wallis test\n",
    "This test determines the difference in the preference or rating of two or more groups with that are independent and drawn from a distribution that is not normal.\n",
    "\n",
    "For instance, consider a cake-baking competition among 3 chefs. The chefs are rated by 8 individuals based on the taste on their cake. The ratings from 1 to 10 are shown below."
   ]
  },
  {
   "cell_type": "code",
   "execution_count": 100,
   "id": "c43ba7cf-cbf1-486c-bd58-84f36ceb07b0",
   "metadata": {},
   "outputs": [],
   "source": [
    "#generate samples\n",
    "chef1_taste=rand_lists(1,10,8)\n",
    "chef2_taste=rand_lists(1,10,8)\n",
    "chef3_taste=rand_lists(1,10,8)"
   ]
  },
  {
   "cell_type": "code",
   "execution_count": 101,
   "id": "6bef9beb-77f7-47bc-a0ff-8e66596f030c",
   "metadata": {},
   "outputs": [
    {
     "data": {
      "text/plain": [
       "[7, 5, 10, 9, 8, 9, 7, 2]"
      ]
     },
     "execution_count": 101,
     "metadata": {},
     "output_type": "execute_result"
    }
   ],
   "source": [
    "chef1_taste"
   ]
  },
  {
   "cell_type": "code",
   "execution_count": 102,
   "id": "611be4e6-52d7-4bdd-b238-9c2210f4bf5b",
   "metadata": {},
   "outputs": [
    {
     "data": {
      "text/plain": [
       "[4, 3, 7, 3, 7, 5, 4, 9]"
      ]
     },
     "execution_count": 102,
     "metadata": {},
     "output_type": "execute_result"
    }
   ],
   "source": [
    "chef2_taste"
   ]
  },
  {
   "cell_type": "code",
   "execution_count": 103,
   "id": "429b634e-031a-4c0a-bf40-0c198e13a6b1",
   "metadata": {},
   "outputs": [
    {
     "data": {
      "text/plain": [
       "[9, 6, 1, 2, 10, 10, 9, 3]"
      ]
     },
     "execution_count": 103,
     "metadata": {},
     "output_type": "execute_result"
    }
   ],
   "source": [
    "chef3_taste"
   ]
  },
  {
   "cell_type": "code",
   "execution_count": 109,
   "id": "bbe41bef-9554-412f-ac07-3418b5637c6d",
   "metadata": {},
   "outputs": [],
   "source": [
    "statistic,p_value=stats.kruskal(chef1_taste,chef2_taste,chef3_taste)\n"
   ]
  },
  {
   "cell_type": "code",
   "execution_count": 104,
   "id": "db44b689-1ac8-4f11-85a5-7d49abc67581",
   "metadata": {},
   "outputs": [
    {
     "data": {
      "text/plain": [
       "np.float64(0.008226697399892359)"
      ]
     },
     "execution_count": 104,
     "metadata": {},
     "output_type": "execute_result"
    }
   ],
   "source": [
    "p_value"
   ]
  },
  {
   "cell_type": "code",
   "execution_count": 105,
   "id": "3d851789-2c62-4c8e-ac75-6645a4a39294",
   "metadata": {},
   "outputs": [
    {
     "data": {
      "text/plain": [
       "np.False_"
      ]
     },
     "execution_count": 105,
     "metadata": {},
     "output_type": "execute_result"
    }
   ],
   "source": [
    "p_value > 0.05"
   ]
  },
  {
   "cell_type": "markdown",
   "id": "cf087d54-26b5-49d9-ba89-48c674265d4e",
   "metadata": {},
   "source": [
    "We do not reject the null hypothesis because p_value>0.05. There is a statistical difference among the tests of the cakes baked by the chefs"
   ]
  },
  {
   "cell_type": "code",
   "execution_count": 108,
   "id": "88092b35-7f4b-402b-9c2a-f504a0b99c2f",
   "metadata": {},
   "outputs": [],
   "source": [
    "def Krul_test(array1,array2,array3,alpha):\n",
    "    statistic,p_value=stats.kruskal(array1,array2,array3,alpha)\n",
    "    \"\"\"\n",
    "    provide documenttations here\n",
    "    \"\"\"\n",
    "    if p_value < alpha:\n",
    "        return \" reject the null hypothesis.There is no statistical difference among the tests of the cakes baked by the chefs\"\n",
    "    else:\n",
    "        return \" reject the null hypothesis.There is no statistical difference among the tests of the cakes baked by the chefs\"\n",
    "    \n",
    "    \n"
   ]
  },
  {
   "cell_type": "code",
   "execution_count": 109,
   "id": "21cbe39d-75ac-44b6-8f01-2856db5cb276",
   "metadata": {},
   "outputs": [
    {
     "data": {
      "text/plain": [
       "' reject the null hypothesis.There is no statistical difference among the tests of the cakes baked by the chefs'"
      ]
     },
     "execution_count": 109,
     "metadata": {},
     "output_type": "execute_result"
    }
   ],
   "source": [
    "Krul_test(chef1_taste,chef2_taste,chef3_taste,0.05)"
   ]
  },
  {
   "cell_type": "code",
   "execution_count": null,
   "id": "217c1599-9b53-4186-b5b9-f9c1631b7761",
   "metadata": {},
   "outputs": [],
   "source": []
  }
 ],
 "metadata": {
  "kernelspec": {
   "display_name": "Python 3 (ipykernel)",
   "language": "python",
   "name": "python3"
  },
  "language_info": {
   "codemirror_mode": {
    "name": "ipython",
    "version": 3
   },
   "file_extension": ".py",
   "mimetype": "text/x-python",
   "name": "python",
   "nbconvert_exporter": "python",
   "pygments_lexer": "ipython3",
   "version": "3.13.3"
  }
 },
 "nbformat": 4,
 "nbformat_minor": 5
}
